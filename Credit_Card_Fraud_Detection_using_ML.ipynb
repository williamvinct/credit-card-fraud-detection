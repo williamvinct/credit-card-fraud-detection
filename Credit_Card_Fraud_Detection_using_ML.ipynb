{
  "nbformat": 4,
  "nbformat_minor": 0,
  "metadata": {
    "colab": {
      "name": "Credit Card Fraud Detection using ML.ipynb",
      "provenance": [],
      "authorship_tag": "ABX9TyOkMcjjMa+YPZcIlIUk6vHG",
      "include_colab_link": true
    },
    "kernelspec": {
      "name": "python3",
      "display_name": "Python 3"
    },
    "language_info": {
      "name": "python"
    },
    "widgets": {
      "application/vnd.jupyter.widget-state+json": {
        "85160e6587a7405d9894a18aa2515906": {
          "model_module": "catboost-widget",
          "model_name": "CatboostWidgetModel",
          "model_module_version": "^1.0.0",
          "state": {
            "_dom_classes": [],
            "_model_module": "catboost-widget",
            "_model_module_version": "^1.0.0",
            "_model_name": "CatboostWidgetModel",
            "_view_count": null,
            "_view_module": "catboost-widget",
            "_view_module_version": "^1.0.0",
            "_view_name": "CatboostWidgetView",
            "data": {
              "catboost_info": {
                "path": "catboost_info",
                "name": "catboost_info",
                "content": {
                  "passed_iterations": 1190,
                  "total_iterations": 5000,
                  "data": {
                    "iterations": [
                      {
                        "learn": [
                          0.6596217969
                        ],
                        "iteration": 0,
                        "passed_time": 0.1886760542,
                        "remaining_time": 943.191595,
                        "test": [
                          0.6654687983,
                          0.6597493206
                        ]
                      },
                      {
                        "learn": [
                          0.6216511614
                        ],
                        "iteration": 1,
                        "passed_time": 0.3214177656,
                        "remaining_time": 803.2229962,
                        "test": [
                          0.8639765224,
                          0.6216938414
                        ]
                      },
                      {
                        "learn": [
                          0.5875732068
                        ],
                        "iteration": 2,
                        "passed_time": 0.407111972,
                        "remaining_time": 678.1128413,
                        "test": [
                          0.8538809096,
                          0.5875946001
                        ]
                      },
                      {
                        "learn": [
                          0.5591432647
                        ],
                        "iteration": 3,
                        "passed_time": 0.4867773358,
                        "remaining_time": 607.9848924,
                        "test": [
                          0.8834283708,
                          0.5592034481
                        ]
                      },
                      {
                        "learn": [
                          0.532354538
                        ],
                        "iteration": 4,
                        "passed_time": 0.5616710925,
                        "remaining_time": 561.1094214,
                        "test": [
                          0.8838628475,
                          0.5323868347
                        ]
                      },
                      {
                        "learn": [
                          0.5049569076
                        ],
                        "iteration": 5,
                        "passed_time": 0.6421855745,
                        "remaining_time": 534.5124599,
                        "test": [
                          0.9047174786,
                          0.5049477297
                        ]
                      },
                      {
                        "learn": [
                          0.4799104942
                        ],
                        "iteration": 6,
                        "passed_time": 0.7818501472,
                        "remaining_time": 557.6825407,
                        "test": [
                          0.9192792615,
                          0.4798848702
                        ]
                      },
                      {
                        "learn": [
                          0.4513428198
                        ],
                        "iteration": 7,
                        "passed_time": 0.9048009372,
                        "remaining_time": 564.5957848,
                        "test": [
                          0.9219070951,
                          0.4513108595
                        ]
                      },
                      {
                        "learn": [
                          0.4297264071
                        ],
                        "iteration": 8,
                        "passed_time": 1.020223917,
                        "remaining_time": 565.770841,
                        "test": [
                          0.9103844318,
                          0.4296867072
                        ]
                      },
                      {
                        "learn": [
                          0.4092687651
                        ],
                        "iteration": 9,
                        "passed_time": 1.132234554,
                        "remaining_time": 564.9850426,
                        "test": [
                          0.9021709391,
                          0.4092179083
                        ]
                      },
                      {
                        "learn": [
                          0.3854147204
                        ],
                        "iteration": 10,
                        "passed_time": 1.277799663,
                        "remaining_time": 579.5402288,
                        "test": [
                          0.9153899437,
                          0.3853691011
                        ]
                      },
                      {
                        "learn": [
                          0.3657210848
                        ],
                        "iteration": 11,
                        "passed_time": 1.375769816,
                        "remaining_time": 571.8616534,
                        "test": [
                          0.9142813531,
                          0.3656699192
                        ]
                      },
                      {
                        "learn": [
                          0.343211497
                        ],
                        "iteration": 12,
                        "passed_time": 1.525461526,
                        "remaining_time": 585.1905099,
                        "test": [
                          0.9256239402,
                          0.3431718808
                        ]
                      },
                      {
                        "learn": [
                          0.3256426869
                        ],
                        "iteration": 13,
                        "passed_time": 1.632986491,
                        "remaining_time": 581.5764744,
                        "test": [
                          0.9281922763,
                          0.3255896936
                        ]
                      },
                      {
                        "learn": [
                          0.3095462465
                        ],
                        "iteration": 14,
                        "passed_time": 1.743407193,
                        "remaining_time": 579.3923239,
                        "test": [
                          0.9211042287,
                          0.3094913278
                        ]
                      },
                      {
                        "learn": [
                          0.2935910282
                        ],
                        "iteration": 15,
                        "passed_time": 1.84613358,
                        "remaining_time": 575.0706101,
                        "test": [
                          0.9176230921,
                          0.2935500696
                        ]
                      },
                      {
                        "learn": [
                          0.2757102389
                        ],
                        "iteration": 16,
                        "passed_time": 2.027941744,
                        "remaining_time": 594.4255125,
                        "test": [
                          0.9206761515,
                          0.2756878275
                        ]
                      },
                      {
                        "learn": [
                          0.2598238611
                        ],
                        "iteration": 17,
                        "passed_time": 2.138111004,
                        "remaining_time": 591.7816124,
                        "test": [
                          0.9235414044,
                          0.2598185803
                        ]
                      },
                      {
                        "learn": [
                          0.2445009847
                        ],
                        "iteration": 18,
                        "passed_time": 2.248573074,
                        "remaining_time": 589.4811832,
                        "test": [
                          0.9289902005,
                          0.2445083282
                        ]
                      },
                      {
                        "learn": [
                          0.2303485875
                        ],
                        "iteration": 19,
                        "passed_time": 2.378233218,
                        "remaining_time": 592.1800713,
                        "test": [
                          0.9316363458,
                          0.2303779434
                        ]
                      },
                      {
                        "learn": [
                          0.2160439789
                        ],
                        "iteration": 20,
                        "passed_time": 2.448447062,
                        "remaining_time": 580.5151391,
                        "test": [
                          0.9398858917,
                          0.2160918952
                        ]
                      },
                      {
                        "learn": [
                          0.2063277142
                        ],
                        "iteration": 21,
                        "passed_time": 2.609412484,
                        "remaining_time": 590.4388793,
                        "test": [
                          0.9410458059,
                          0.2063735451
                        ]
                      },
                      {
                        "learn": [
                          0.1947163753
                        ],
                        "iteration": 22,
                        "passed_time": 2.800366157,
                        "remaining_time": 605.9748853,
                        "test": [
                          0.9505579766,
                          0.1947695347
                        ]
                      },
                      {
                        "learn": [
                          0.1834514569
                        ],
                        "iteration": 23,
                        "passed_time": 2.910727697,
                        "remaining_time": 603.4908758,
                        "test": [
                          0.9506357858,
                          0.183526188
                        ]
                      },
                      {
                        "learn": [
                          0.1731195691
                        ],
                        "iteration": 24,
                        "passed_time": 3.016017512,
                        "remaining_time": 600.1874849,
                        "test": [
                          0.9506864758,
                          0.1732030663
                        ]
                      },
                      {
                        "learn": [
                          0.1632671305
                        ],
                        "iteration": 25,
                        "passed_time": 3.109327968,
                        "remaining_time": 594.8383581,
                        "test": [
                          0.949462312,
                          0.1633631697
                        ]
                      },
                      {
                        "learn": [
                          0.1540298439
                        ],
                        "iteration": 26,
                        "passed_time": 3.199886805,
                        "remaining_time": 589.3717437,
                        "test": [
                          0.9514867444,
                          0.1541306305
                        ]
                      },
                      {
                        "learn": [
                          0.1452169122
                        ],
                        "iteration": 27,
                        "passed_time": 3.289392489,
                        "remaining_time": 584.1021234,
                        "test": [
                          0.9516886173,
                          0.1453244005
                        ]
                      },
                      {
                        "learn": [
                          0.1369540239
                        ],
                        "iteration": 28,
                        "passed_time": 3.473511531,
                        "remaining_time": 595.4077869,
                        "test": [
                          0.9522392376,
                          0.1370693647
                        ]
                      },
                      {
                        "learn": [
                          0.1292309753
                        ],
                        "iteration": 29,
                        "passed_time": 3.598756599,
                        "remaining_time": 596.1940099,
                        "test": [
                          0.9519658917,
                          0.1293524491
                        ]
                      },
                      {
                        "learn": [
                          0.1222650891
                        ],
                        "iteration": 30,
                        "passed_time": 3.70575693,
                        "remaining_time": 593.9969737,
                        "test": [
                          0.9516955872,
                          0.1223893157
                        ]
                      },
                      {
                        "learn": [
                          0.1153833849
                        ],
                        "iteration": 31,
                        "passed_time": 3.800993122,
                        "remaining_time": 590.1041821,
                        "test": [
                          0.9513625538,
                          0.1155189302
                        ]
                      },
                      {
                        "learn": [
                          0.1087110996
                        ],
                        "iteration": 32,
                        "passed_time": 3.864815696,
                        "remaining_time": 581.7133201,
                        "test": [
                          0.9541170491,
                          0.1088550249
                        ]
                      },
                      {
                        "learn": [
                          0.1026590996
                        ],
                        "iteration": 33,
                        "passed_time": 3.935025368,
                        "remaining_time": 574.7451758,
                        "test": [
                          0.9540057845,
                          0.1028125002
                        ]
                      },
                      {
                        "learn": [
                          0.09729356709
                        ],
                        "iteration": 34,
                        "passed_time": 4.092643389,
                        "remaining_time": 580.5706978,
                        "test": [
                          0.9528387737,
                          0.09745154125
                        ]
                      },
                      {
                        "learn": [
                          0.09199058091
                        ],
                        "iteration": 35,
                        "passed_time": 4.19990311,
                        "remaining_time": 579.1199732,
                        "test": [
                          0.9531880279,
                          0.09215720321
                        ]
                      },
                      {
                        "learn": [
                          0.08727858246
                        ],
                        "iteration": 36,
                        "passed_time": 4.336968258,
                        "remaining_time": 581.7398234,
                        "test": [
                          0.9533615144,
                          0.08744759152
                        ]
                      },
                      {
                        "learn": [
                          0.08288499887
                        ],
                        "iteration": 37,
                        "passed_time": 4.43208538,
                        "remaining_time": 578.7370435,
                        "test": [
                          0.953414739,
                          0.08305727823
                        ]
                      },
                      {
                        "learn": [
                          0.07836050351
                        ],
                        "iteration": 38,
                        "passed_time": 4.580532167,
                        "remaining_time": 582.6671816,
                        "test": [
                          0.9559001969,
                          0.07853717058
                        ]
                      },
                      {
                        "learn": [
                          0.07442604697
                        ],
                        "iteration": 39,
                        "passed_time": 4.717657679,
                        "remaining_time": 584.9895522,
                        "test": [
                          0.9557205009,
                          0.07461055713
                        ]
                      },
                      {
                        "learn": [
                          0.07054663096
                        ],
                        "iteration": 40,
                        "passed_time": 4.825309842,
                        "remaining_time": 583.6271099,
                        "test": [
                          0.9556149389,
                          0.07073585101
                        ]
                      },
                      {
                        "learn": [
                          0.06698876944
                        ],
                        "iteration": 41,
                        "passed_time": 4.901543356,
                        "remaining_time": 578.6155229,
                        "test": [
                          0.9551572081,
                          0.06718434398
                        ]
                      },
                      {
                        "learn": [
                          0.06372061093
                        ],
                        "iteration": 42,
                        "passed_time": 5.022816575,
                        "remaining_time": 579.0256224,
                        "test": [
                          0.9549892974,
                          0.06392366139
                        ]
                      },
                      {
                        "learn": [
                          0.06060767858
                        ],
                        "iteration": 43,
                        "passed_time": 5.127022083,
                        "remaining_time": 577.4891237,
                        "test": [
                          0.9550658394,
                          0.06081766735
                        ]
                      },
                      {
                        "learn": [
                          0.05769227622
                        ],
                        "iteration": 44,
                        "passed_time": 5.230370468,
                        "remaining_time": 575.9219037,
                        "test": [
                          0.9548904519,
                          0.05790880963
                        ]
                      },
                      {
                        "learn": [
                          0.05478076625
                        ],
                        "iteration": 45,
                        "passed_time": 5.380754333,
                        "remaining_time": 579.4838471,
                        "test": [
                          0.9558069273,
                          0.05500415156
                        ]
                      },
                      {
                        "learn": [
                          0.05209454318
                        ],
                        "iteration": 46,
                        "passed_time": 5.526919741,
                        "remaining_time": 582.4432655,
                        "test": [
                          0.9557059275,
                          0.05232306492
                        ]
                      },
                      {
                        "learn": [
                          0.04965594677
                        ],
                        "iteration": 47,
                        "passed_time": 5.648219178,
                        "remaining_time": 582.7079452,
                        "test": [
                          0.9563221913,
                          0.04989324087
                        ]
                      },
                      {
                        "learn": [
                          0.04731189844
                        ],
                        "iteration": 48,
                        "passed_time": 5.775792162,
                        "remaining_time": 583.5907549,
                        "test": [
                          0.9562712478,
                          0.04755255443
                        ]
                      },
                      {
                        "learn": [
                          0.0451468372
                        ],
                        "iteration": 49,
                        "passed_time": 5.920517324,
                        "remaining_time": 586.1312151,
                        "test": [
                          0.9557848772,
                          0.04539471172
                        ]
                      },
                      {
                        "learn": [
                          0.04306387527
                        ],
                        "iteration": 50,
                        "passed_time": 6.083987515,
                        "remaining_time": 590.3853767,
                        "test": [
                          0.9557496476,
                          0.04331532922
                        ]
                      },
                      {
                        "learn": [
                          0.04109389022
                        ],
                        "iteration": 51,
                        "passed_time": 6.229080941,
                        "remaining_time": 592.7210095,
                        "test": [
                          0.9558688325,
                          0.04134967233
                        ]
                      },
                      {
                        "learn": [
                          0.03921831995
                        ],
                        "iteration": 52,
                        "passed_time": 6.351761917,
                        "remaining_time": 592.8710604,
                        "test": [
                          0.9559689453,
                          0.03947960681
                        ]
                      },
                      {
                        "learn": [
                          0.03746506456
                        ],
                        "iteration": 53,
                        "passed_time": 6.457619161,
                        "remaining_time": 591.4700809,
                        "test": [
                          0.9559328286,
                          0.03772864924
                        ]
                      },
                      {
                        "learn": [
                          0.03577299843
                        ],
                        "iteration": 54,
                        "passed_time": 6.520117847,
                        "remaining_time": 586.2178683,
                        "test": [
                          0.9557424876,
                          0.03604109611
                        ]
                      },
                      {
                        "learn": [
                          0.03421534138
                        ],
                        "iteration": 55,
                        "passed_time": 6.585699083,
                        "remaining_time": 581.4231476,
                        "test": [
                          0.9557080184,
                          0.03448530345
                        ]
                      },
                      {
                        "learn": [
                          0.03277122368
                        ],
                        "iteration": 56,
                        "passed_time": 6.735343611,
                        "remaining_time": 584.0842714,
                        "test": [
                          0.9556208316,
                          0.03304721024
                        ]
                      },
                      {
                        "learn": [
                          0.03132006339
                        ],
                        "iteration": 57,
                        "passed_time": 6.925121689,
                        "remaining_time": 590.0681274,
                        "test": [
                          0.955980604,
                          0.0316015613
                        ]
                      },
                      {
                        "learn": [
                          0.03000061068
                        ],
                        "iteration": 58,
                        "passed_time": 7.038541835,
                        "remaining_time": 589.4480544,
                        "test": [
                          0.9558840395,
                          0.03028559397
                        ]
                      },
                      {
                        "learn": [
                          0.0287836948
                        ],
                        "iteration": 59,
                        "passed_time": 7.149954222,
                        "remaining_time": 588.6795642,
                        "test": [
                          0.9558009079,
                          0.02907479775
                        ]
                      },
                      {
                        "learn": [
                          0.02757242967
                        ],
                        "iteration": 60,
                        "passed_time": 7.267239774,
                        "remaining_time": 588.4081515,
                        "test": [
                          0.9556801389,
                          0.02786877421
                        ]
                      },
                      {
                        "learn": [
                          0.02649986807
                        ],
                        "iteration": 61,
                        "passed_time": 7.364132239,
                        "remaining_time": 586.5174999,
                        "test": [
                          0.9554672409,
                          0.02680365378
                        ]
                      },
                      {
                        "learn": [
                          0.02546593327
                        ],
                        "iteration": 62,
                        "passed_time": 7.481100268,
                        "remaining_time": 586.2570163,
                        "test": [
                          0.9553979223,
                          0.02577552264
                        ]
                      },
                      {
                        "learn": [
                          0.02446213469
                        ],
                        "iteration": 63,
                        "passed_time": 7.592663058,
                        "remaining_time": 585.5841383,
                        "test": [
                          0.9553880377,
                          0.02477608674
                        ]
                      },
                      {
                        "learn": [
                          0.02354065152
                        ],
                        "iteration": 64,
                        "passed_time": 7.710083366,
                        "remaining_time": 585.3732525,
                        "test": [
                          0.9556882493,
                          0.02386158594
                        ]
                      },
                      {
                        "learn": [
                          0.02263003071
                        ],
                        "iteration": 65,
                        "passed_time": 7.8312803,
                        "remaining_time": 585.4475303,
                        "test": [
                          0.9556144954,
                          0.02295419504
                        ]
                      },
                      {
                        "learn": [
                          0.02176152285
                        ],
                        "iteration": 66,
                        "passed_time": 7.95731383,
                        "remaining_time": 585.8720765,
                        "test": [
                          0.9555943461,
                          0.02209087448
                        ]
                      },
                      {
                        "learn": [
                          0.02094807365
                        ],
                        "iteration": 67,
                        "passed_time": 8.082808888,
                        "remaining_time": 586.241374,
                        "test": [
                          0.9555241404,
                          0.02128104314
                        ]
                      },
                      {
                        "learn": [
                          0.02016008539
                        ],
                        "iteration": 68,
                        "passed_time": 8.192989119,
                        "remaining_time": 585.5018746,
                        "test": [
                          0.9555864891,
                          0.02050016005
                        ]
                      },
                      {
                        "learn": [
                          0.01942812617
                        ],
                        "iteration": 69,
                        "passed_time": 8.272453748,
                        "remaining_time": 582.6170997,
                        "test": [
                          0.955526168,
                          0.01977188743
                        ]
                      },
                      {
                        "learn": [
                          0.01873314123
                        ],
                        "iteration": 70,
                        "passed_time": 8.37083984,
                        "remaining_time": 581.1249235,
                        "test": [
                          0.9554757315,
                          0.01908063339
                        ]
                      },
                      {
                        "learn": [
                          0.01810061448
                        ],
                        "iteration": 71,
                        "passed_time": 8.496047485,
                        "remaining_time": 581.5072501,
                        "test": [
                          0.955367635,
                          0.01845501157
                        ]
                      },
                      {
                        "learn": [
                          0.01747055889
                        ],
                        "iteration": 72,
                        "passed_time": 8.595799783,
                        "remaining_time": 580.15761,
                        "test": [
                          0.955287925,
                          0.01782870429
                        ]
                      },
                      {
                        "learn": [
                          0.01687274391
                        ],
                        "iteration": 73,
                        "passed_time": 8.751210623,
                        "remaining_time": 582.5468045,
                        "test": [
                          0.9552461057,
                          0.01723465792
                        ]
                      },
                      {
                        "learn": [
                          0.01630603446
                        ],
                        "iteration": 74,
                        "passed_time": 8.900024413,
                        "remaining_time": 584.4349365,
                        "test": [
                          0.9550856718,
                          0.01667232826
                        ]
                      },
                      {
                        "learn": [
                          0.01576803104
                        ],
                        "iteration": 75,
                        "passed_time": 9.068984028,
                        "remaining_time": 587.574702,
                        "test": [
                          0.9550581725,
                          0.01613677357
                        ]
                      },
                      {
                        "learn": [
                          0.01527461208
                        ],
                        "iteration": 76,
                        "passed_time": 9.181688566,
                        "remaining_time": 587.0318547,
                        "test": [
                          0.9548547788,
                          0.0156501222
                        ]
                      },
                      {
                        "learn": [
                          0.01477816182
                        ],
                        "iteration": 77,
                        "passed_time": 9.289585945,
                        "remaining_time": 586.1966926,
                        "test": [
                          0.9548114389,
                          0.0151575599
                        ]
                      },
                      {
                        "learn": [
                          0.01432867764
                        ],
                        "iteration": 78,
                        "passed_time": 9.432178175,
                        "remaining_time": 587.541124,
                        "test": [
                          0.9546151418,
                          0.01471545442
                        ]
                      },
                      {
                        "learn": [
                          0.01389427126
                        ],
                        "iteration": 79,
                        "passed_time": 9.554580175,
                        "remaining_time": 587.6066808,
                        "test": [
                          0.9545881494,
                          0.01428632587
                        ]
                      },
                      {
                        "learn": [
                          0.0134875327
                        ],
                        "iteration": 80,
                        "passed_time": 9.692177682,
                        "remaining_time": 588.5903953,
                        "test": [
                          0.9544248008,
                          0.01388635414
                        ]
                      },
                      {
                        "learn": [
                          0.01307955716
                        ],
                        "iteration": 81,
                        "passed_time": 9.786158149,
                        "remaining_time": 586.9308021,
                        "test": [
                          0.9543910919,
                          0.01348213006
                        ]
                      },
                      {
                        "learn": [
                          0.01269060944
                        ],
                        "iteration": 82,
                        "passed_time": 9.887902174,
                        "remaining_time": 585.7688553,
                        "test": [
                          0.9543570029,
                          0.0130968781
                        ]
                      },
                      {
                        "learn": [
                          0.01231956588
                        ],
                        "iteration": 83,
                        "passed_time": 9.969585927,
                        "remaining_time": 583.4581478,
                        "test": [
                          0.9543241811,
                          0.01272958764
                        ]
                      },
                      {
                        "learn": [
                          0.01197578993
                        ],
                        "iteration": 84,
                        "passed_time": 10.09076158,
                        "remaining_time": 583.4834493,
                        "test": [
                          0.9542975689,
                          0.01239087512
                        ]
                      },
                      {
                        "learn": [
                          0.01163718646
                        ],
                        "iteration": 85,
                        "passed_time": 10.22071406,
                        "remaining_time": 584.0068478,
                        "test": [
                          0.9542669014,
                          0.0120560014
                        ]
                      },
                      {
                        "learn": [
                          0.01131391269
                        ],
                        "iteration": 86,
                        "passed_time": 10.32398648,
                        "remaining_time": 583.0085699,
                        "test": [
                          0.9542380081,
                          0.01173643757
                        ]
                      },
                      {
                        "learn": [
                          0.01101423294
                        ],
                        "iteration": 87,
                        "passed_time": 10.41099636,
                        "remaining_time": 581.1228877,
                        "test": [
                          0.9536904293,
                          0.01143903412
                        ]
                      },
                      {
                        "learn": [
                          0.01071643661
                        ],
                        "iteration": 88,
                        "passed_time": 10.46491561,
                        "remaining_time": 577.4516918,
                        "test": [
                          0.9535315161,
                          0.01114397732
                        ]
                      },
                      {
                        "learn": [
                          0.0104425859
                        ],
                        "iteration": 89,
                        "passed_time": 10.57993433,
                        "remaining_time": 577.1941953,
                        "test": [
                          0.9535074383,
                          0.01087514154
                        ]
                      },
                      {
                        "learn": [
                          0.0101719921
                        ],
                        "iteration": 90,
                        "passed_time": 10.6761573,
                        "remaining_time": 575.925892,
                        "test": [
                          0.9534832338,
                          0.01060826478
                        ]
                      },
                      {
                        "learn": [
                          0.009913228122
                        ],
                        "iteration": 91,
                        "passed_time": 10.75538632,
                        "remaining_time": 573.7764788,
                        "test": [
                          0.953461944,
                          0.01035320583
                        ]
                      },
                      {
                        "learn": [
                          0.009674705069
                        ],
                        "iteration": 92,
                        "passed_time": 10.89085492,
                        "remaining_time": 574.6389795,
                        "test": [
                          0.9537994128,
                          0.01012015303
                        ]
                      },
                      {
                        "learn": [
                          0.009435060338
                        ],
                        "iteration": 93,
                        "passed_time": 11.02120284,
                        "remaining_time": 575.2129909,
                        "test": [
                          0.9537583539,
                          0.009883673906
                        ]
                      },
                      {
                        "learn": [
                          0.009214532537
                        ],
                        "iteration": 94,
                        "passed_time": 11.13192003,
                        "remaining_time": 574.7586078,
                        "test": [
                          0.9537399787,
                          0.009667839445
                        ]
                      },
                      {
                        "learn": [
                          0.009007227076
                        ],
                        "iteration": 95,
                        "passed_time": 11.25549173,
                        "remaining_time": 574.9680358,
                        "test": [
                          0.9536188296,
                          0.009466401236
                        ]
                      },
                      {
                        "learn": [
                          0.008804408932
                        ],
                        "iteration": 96,
                        "passed_time": 11.35338708,
                        "remaining_time": 573.8727512,
                        "test": [
                          0.9536114796,
                          0.009268171784
                        ]
                      },
                      {
                        "learn": [
                          0.008601386381
                        ],
                        "iteration": 97,
                        "passed_time": 11.47600783,
                        "remaining_time": 574.0345959,
                        "test": [
                          0.9534710682,
                          0.009067881023
                        ]
                      },
                      {
                        "learn": [
                          0.008409875109
                        ],
                        "iteration": 98,
                        "passed_time": 11.60080247,
                        "remaining_time": 574.2983124,
                        "test": [
                          0.953476264,
                          0.008880419821
                        ]
                      },
                      {
                        "learn": [
                          0.008223293842
                        ],
                        "iteration": 99,
                        "passed_time": 11.7216611,
                        "remaining_time": 574.3613938,
                        "test": [
                          0.953437993,
                          0.008696849691
                        ]
                      },
                      {
                        "learn": [
                          0.008044031522
                        ],
                        "iteration": 100,
                        "passed_time": 11.92657131,
                        "remaining_time": 578.4977511,
                        "test": [
                          0.9532806005,
                          0.008520227779
                        ]
                      },
                      {
                        "learn": [
                          0.007872196292
                        ],
                        "iteration": 101,
                        "passed_time": 12.06779352,
                        "remaining_time": 579.4907126,
                        "test": [
                          0.9531208003,
                          0.008351016482
                        ]
                      },
                      {
                        "learn": [
                          0.007714918982
                        ],
                        "iteration": 102,
                        "passed_time": 12.19446912,
                        "remaining_time": 579.7700514,
                        "test": [
                          0.9534858951,
                          0.008198969336
                        ]
                      },
                      {
                        "learn": [
                          0.007563402791
                        ],
                        "iteration": 103,
                        "passed_time": 12.31262457,
                        "remaining_time": 579.6404795,
                        "test": [
                          0.9536597618,
                          0.008052790362
                        ]
                      },
                      {
                        "learn": [
                          0.007417994997
                        ],
                        "iteration": 104,
                        "passed_time": 12.42514103,
                        "remaining_time": 579.2482413,
                        "test": [
                          0.9538509899,
                          0.007912566575
                        ]
                      },
                      {
                        "learn": [
                          0.007272270731
                        ],
                        "iteration": 105,
                        "passed_time": 12.51969532,
                        "remaining_time": 578.0319706,
                        "test": [
                          0.9538169008,
                          0.007770229154
                        ]
                      },
                      {
                        "learn": [
                          0.007139150019
                        ],
                        "iteration": 106,
                        "passed_time": 12.62046119,
                        "remaining_time": 577.120716,
                        "test": [
                          0.9538176612,
                          0.007641173319
                        ]
                      },
                      {
                        "learn": [
                          0.007005573613
                        ],
                        "iteration": 107,
                        "passed_time": 12.71997556,
                        "remaining_time": 576.1677819,
                        "test": [
                          0.9538266587,
                          0.00751148944
                        ]
                      },
                      {
                        "learn": [
                          0.006876022738
                        ],
                        "iteration": 108,
                        "passed_time": 12.84671778,
                        "remaining_time": 576.4522631,
                        "test": [
                          0.9537976386,
                          0.007385171604
                        ]
                      },
                      {
                        "learn": [
                          0.006752761797
                        ],
                        "iteration": 109,
                        "passed_time": 12.95849195,
                        "remaining_time": 576.0638694,
                        "test": [
                          0.953788261,
                          0.007265088281
                        ]
                      },
                      {
                        "learn": [
                          0.006639754952
                        ],
                        "iteration": 110,
                        "passed_time": 13.04678802,
                        "remaining_time": 574.6463662,
                        "test": [
                          0.9537900351,
                          0.007156670542
                        ]
                      },
                      {
                        "learn": [
                          0.006527512937
                        ],
                        "iteration": 111,
                        "passed_time": 13.15031649,
                        "remaining_time": 573.9173839,
                        "test": [
                          0.953118139,
                          0.007046497677
                        ]
                      },
                      {
                        "learn": [
                          0.006417187886
                        ],
                        "iteration": 112,
                        "passed_time": 13.23395861,
                        "remaining_time": 572.3394313,
                        "test": [
                          0.953125996,
                          0.006939904556
                        ]
                      },
                      {
                        "learn": [
                          0.006311031067
                        ],
                        "iteration": 113,
                        "passed_time": 13.32511433,
                        "remaining_time": 571.1097245,
                        "test": [
                          0.9531083812,
                          0.006836867892
                        ]
                      },
                      {
                        "learn": [
                          0.006206832675
                        ],
                        "iteration": 114,
                        "passed_time": 13.46068471,
                        "remaining_time": 571.7864765,
                        "test": [
                          0.9530849371,
                          0.006735331991
                        ]
                      },
                      {
                        "learn": [
                          0.006110144277
                        ],
                        "iteration": 115,
                        "passed_time": 13.58288769,
                        "remaining_time": 571.8864093,
                        "test": [
                          0.9523740097,
                          0.006640514571
                        ]
                      },
                      {
                        "learn": [
                          0.006019614247
                        ],
                        "iteration": 116,
                        "passed_time": 13.68405606,
                        "remaining_time": 571.1046645,
                        "test": [
                          0.9521997627,
                          0.006554931862
                        ]
                      },
                      {
                        "learn": [
                          0.005929551175
                        ],
                        "iteration": 117,
                        "passed_time": 13.7991905,
                        "remaining_time": 570.9122715,
                        "test": [
                          0.9515015078,
                          0.006466721738
                        ]
                      },
                      {
                        "learn": [
                          0.005840311487
                        ],
                        "iteration": 118,
                        "passed_time": 13.94248676,
                        "remaining_time": 571.8762847,
                        "test": [
                          0.9514865543,
                          0.006380672033
                        ]
                      },
                      {
                        "learn": [
                          0.005754089343
                        ],
                        "iteration": 119,
                        "passed_time": 14.06145038,
                        "remaining_time": 571.8323154,
                        "test": [
                          0.9514632369,
                          0.006297581487
                        ]
                      },
                      {
                        "learn": [
                          0.005673992634
                        ],
                        "iteration": 120,
                        "passed_time": 14.16961833,
                        "remaining_time": 571.3518003,
                        "test": [
                          0.9515919895,
                          0.006221883257
                        ]
                      },
                      {
                        "learn": [
                          0.005597102029
                        ],
                        "iteration": 121,
                        "passed_time": 14.23919326,
                        "remaining_time": 569.3343009,
                        "test": [
                          0.951706042,
                          0.006149730691
                        ]
                      },
                      {
                        "learn": [
                          0.005519851377
                        ],
                        "iteration": 122,
                        "passed_time": 14.33305309,
                        "remaining_time": 568.3113813,
                        "test": [
                          0.9516961575,
                          0.006075359706
                        ]
                      },
                      {
                        "learn": [
                          0.005445853409
                        ],
                        "iteration": 123,
                        "passed_time": 14.41751802,
                        "remaining_time": 566.9340149,
                        "test": [
                          0.9517255577,
                          0.006004756982
                        ]
                      },
                      {
                        "learn": [
                          0.005375595589
                        ],
                        "iteration": 124,
                        "passed_time": 14.51881928,
                        "remaining_time": 566.2339521,
                        "test": [
                          0.9509666015,
                          0.005936148343
                        ]
                      },
                      {
                        "learn": [
                          0.005295687434
                        ],
                        "iteration": 125,
                        "passed_time": 14.69955515,
                        "remaining_time": 568.6161254,
                        "test": [
                          0.9515444676,
                          0.005860237199
                        ]
                      },
                      {
                        "learn": [
                          0.005228717063
                        ],
                        "iteration": 126,
                        "passed_time": 14.87471986,
                        "remaining_time": 570.7441721,
                        "test": [
                          0.9515297675,
                          0.005796007681
                        ]
                      },
                      {
                        "learn": [
                          0.005165823085
                        ],
                        "iteration": 127,
                        "passed_time": 15.04867594,
                        "remaining_time": 572.7902279,
                        "test": [
                          0.9516348226,
                          0.005736860901
                        ]
                      },
                      {
                        "learn": [
                          0.005105067661
                        ],
                        "iteration": 128,
                        "passed_time": 15.27080978,
                        "remaining_time": 576.6210421,
                        "test": [
                          0.9517268249,
                          0.005679833681
                        ]
                      },
                      {
                        "learn": [
                          0.005041300754
                        ],
                        "iteration": 129,
                        "passed_time": 15.43099379,
                        "remaining_time": 578.0687672,
                        "test": [
                          0.9517282189,
                          0.005618864707
                        ]
                      },
                      {
                        "learn": [
                          0.004986510823
                        ],
                        "iteration": 130,
                        "passed_time": 15.57667597,
                        "remaining_time": 578.952941,
                        "test": [
                          0.9516571262,
                          0.005568203218
                        ]
                      },
                      {
                        "learn": [
                          0.004929668434
                        ],
                        "iteration": 131,
                        "passed_time": 15.6959683,
                        "remaining_time": 578.8482856,
                        "test": [
                          0.9516374838,
                          0.005514140665
                        ]
                      },
                      {
                        "learn": [
                          0.004876068663
                        ],
                        "iteration": 132,
                        "passed_time": 15.83870182,
                        "remaining_time": 579.6012163,
                        "test": [
                          0.9512827804,
                          0.005462036595
                        ]
                      },
                      {
                        "learn": [
                          0.00482692453
                        ],
                        "iteration": 133,
                        "passed_time": 15.98402687,
                        "remaining_time": 580.434886,
                        "test": [
                          0.9511611244,
                          0.005414234785
                        ]
                      },
                      {
                        "learn": [
                          0.004776977106
                        ],
                        "iteration": 134,
                        "passed_time": 16.09465002,
                        "remaining_time": 580.0034989,
                        "test": [
                          0.9511883703,
                          0.005367781206
                        ]
                      },
                      {
                        "learn": [
                          0.004728119898
                        ],
                        "iteration": 135,
                        "passed_time": 16.25185661,
                        "remaining_time": 581.2428717,
                        "test": [
                          0.9505974515,
                          0.005320432462
                        ]
                      },
                      {
                        "learn": [
                          0.004683402499
                        ],
                        "iteration": 136,
                        "passed_time": 16.40824418,
                        "remaining_time": 582.4327844,
                        "test": [
                          0.9507689104,
                          0.005278343538
                        ]
                      },
                      {
                        "learn": [
                          0.004637792282
                        ],
                        "iteration": 137,
                        "passed_time": 16.55374161,
                        "remaining_time": 583.2195052,
                        "test": [
                          0.9507699242,
                          0.005236367058
                        ]
                      },
                      {
                        "learn": [
                          0.004591521989
                        ],
                        "iteration": 138,
                        "passed_time": 16.69545894,
                        "remaining_time": 583.860618,
                        "test": [
                          0.9507454663,
                          0.005192294136
                        ]
                      },
                      {
                        "learn": [
                          0.004544894542
                        ],
                        "iteration": 139,
                        "passed_time": 16.80966868,
                        "remaining_time": 583.5356414,
                        "test": [
                          0.950746987,
                          0.005148369642
                        ]
                      },
                      {
                        "learn": [
                          0.004504356838
                        ],
                        "iteration": 140,
                        "passed_time": 16.96422142,
                        "remaining_time": 584.6039139,
                        "test": [
                          0.950687553,
                          0.005111518638
                        ]
                      },
                      {
                        "learn": [
                          0.004463868778
                        ],
                        "iteration": 141,
                        "passed_time": 17.11610827,
                        "remaining_time": 585.5637604,
                        "test": [
                          0.9502696138,
                          0.005072373327
                        ]
                      },
                      {
                        "learn": [
                          0.004424668822
                        ],
                        "iteration": 142,
                        "passed_time": 17.22922492,
                        "remaining_time": 585.1912268,
                        "test": [
                          0.9504370176,
                          0.005036759696
                        ]
                      },
                      {
                        "learn": [
                          0.004386787534
                        ],
                        "iteration": 143,
                        "passed_time": 17.35825503,
                        "remaining_time": 585.3589336,
                        "test": [
                          0.9504882145,
                          0.005002239011
                        ]
                      },
                      {
                        "learn": [
                          0.004346790222
                        ],
                        "iteration": 144,
                        "passed_time": 17.4749159,
                        "remaining_time": 585.1083911,
                        "test": [
                          0.9504784567,
                          0.004964951053
                        ]
                      },
                      {
                        "learn": [
                          0.004311483823
                        ],
                        "iteration": 145,
                        "passed_time": 17.60032525,
                        "remaining_time": 585.1505396,
                        "test": [
                          0.9504726273,
                          0.004933574609
                        ]
                      },
                      {
                        "learn": [
                          0.004276575229
                        ],
                        "iteration": 146,
                        "passed_time": 17.68495595,
                        "remaining_time": 583.8441579,
                        "test": [
                          0.9499772592,
                          0.004899798233
                        ]
                      },
                      {
                        "learn": [
                          0.004243221741
                        ],
                        "iteration": 147,
                        "passed_time": 17.84240479,
                        "remaining_time": 584.9415409,
                        "test": [
                          0.9499759919,
                          0.004870042615
                        ]
                      },
                      {
                        "learn": [
                          0.004212289873
                        ],
                        "iteration": 148,
                        "passed_time": 17.98743396,
                        "remaining_time": 585.6177323,
                        "test": [
                          0.9499156708,
                          0.004841752326
                        ]
                      },
                      {
                        "learn": [
                          0.004181479998
                        ],
                        "iteration": 149,
                        "passed_time": 18.07589893,
                        "remaining_time": 584.4540653,
                        "test": [
                          0.9499486193,
                          0.004812988834
                        ]
                      },
                      {
                        "learn": [
                          0.004149575122
                        ],
                        "iteration": 150,
                        "passed_time": 18.15535245,
                        "remaining_time": 583.0152586,
                        "test": [
                          0.9499310046,
                          0.004783508475
                        ]
                      },
                      {
                        "learn": [
                          0.004119381291
                        ],
                        "iteration": 151,
                        "passed_time": 18.27710755,
                        "remaining_time": 582.9435354,
                        "test": [
                          0.9496267378,
                          0.004754493956
                        ]
                      },
                      {
                        "learn": [
                          0.004088952289
                        ],
                        "iteration": 152,
                        "passed_time": 18.4103276,
                        "remaining_time": 583.2343652,
                        "test": [
                          0.9496049411,
                          0.004725922585
                        ]
                      },
                      {
                        "learn": [
                          0.004058257809
                        ],
                        "iteration": 153,
                        "passed_time": 18.50963148,
                        "remaining_time": 582.4524294,
                        "test": [
                          0.9496021531,
                          0.004697660907
                        ]
                      },
                      {
                        "learn": [
                          0.00402853361
                        ],
                        "iteration": 154,
                        "passed_time": 18.60067114,
                        "remaining_time": 581.4209786,
                        "test": [
                          0.9496025333,
                          0.004670171446
                        ]
                      },
                      {
                        "learn": [
                          0.004005574143
                        ],
                        "iteration": 155,
                        "passed_time": 18.66971231,
                        "remaining_time": 579.7185028,
                        "test": [
                          0.9495604606,
                          0.004650202757
                        ]
                      },
                      {
                        "learn": [
                          0.003977555273
                        ],
                        "iteration": 156,
                        "passed_time": 18.72603228,
                        "remaining_time": 577.6444224,
                        "test": [
                          0.9495790892,
                          0.004623484895
                        ]
                      },
                      {
                        "learn": [
                          0.003952320678
                        ],
                        "iteration": 157,
                        "passed_time": 18.84472591,
                        "remaining_time": 577.5073599,
                        "test": [
                          0.94972571,
                          0.00460137006
                        ]
                      },
                      {
                        "learn": [
                          0.003927981736
                        ],
                        "iteration": 158,
                        "passed_time": 18.97985551,
                        "remaining_time": 577.8709468,
                        "test": [
                          0.9497397765,
                          0.004580104031
                        ]
                      },
                      {
                        "learn": [
                          0.003902109628
                        ],
                        "iteration": 159,
                        "passed_time": 19.10981617,
                        "remaining_time": 578.0719392,
                        "test": [
                          0.9497387627,
                          0.004556357142
                        ]
                      },
                      {
                        "learn": [
                          0.003879012606
                        ],
                        "iteration": 160,
                        "passed_time": 19.22184038,
                        "remaining_time": 577.7297241,
                        "test": [
                          0.949779188,
                          0.004535120492
                        ]
                      },
                      {
                        "learn": [
                          0.003856580671
                        ],
                        "iteration": 161,
                        "passed_time": 19.34545669,
                        "remaining_time": 577.7365399,
                        "test": [
                          0.9498253159,
                          0.004514500593
                        ]
                      },
                      {
                        "learn": [
                          0.003834772026
                        ],
                        "iteration": 162,
                        "passed_time": 19.44224954,
                        "remaining_time": 576.9457733,
                        "test": [
                          0.949860292,
                          0.004494478048
                        ]
                      },
                      {
                        "learn": [
                          0.003811457654
                        ],
                        "iteration": 163,
                        "passed_time": 19.54493801,
                        "remaining_time": 576.3373185,
                        "test": [
                          0.9498592782,
                          0.004473259071
                        ]
                      },
                      {
                        "learn": [
                          0.003790494357
                        ],
                        "iteration": 164,
                        "passed_time": 19.64044083,
                        "remaining_time": 575.5244328,
                        "test": [
                          0.9498283573,
                          0.004455505746
                        ]
                      },
                      {
                        "learn": [
                          0.003771192892
                        ],
                        "iteration": 165,
                        "passed_time": 19.72465805,
                        "remaining_time": 574.3915483,
                        "test": [
                          0.9498102356,
                          0.00443703841
                        ]
                      },
                      {
                        "learn": [
                          0.003751857233
                        ],
                        "iteration": 166,
                        "passed_time": 19.83499591,
                        "remaining_time": 574.027157,
                        "test": [
                          0.9498460988,
                          0.004419477859
                        ]
                      },
                      {
                        "learn": [
                          0.003733361128
                        ],
                        "iteration": 167,
                        "passed_time": 19.90595605,
                        "remaining_time": 572.5332121,
                        "test": [
                          0.9498571239,
                          0.004402822822
                        ]
                      },
                      {
                        "learn": [
                          0.003716819656
                        ],
                        "iteration": 168,
                        "passed_time": 19.95932891,
                        "remaining_time": 570.5533607,
                        "test": [
                          0.949816952,
                          0.004388981295
                        ]
                      },
                      {
                        "learn": [
                          0.003698528406
                        ],
                        "iteration": 169,
                        "passed_time": 20.11497531,
                        "remaining_time": 571.5019457,
                        "test": [
                          0.9498556032,
                          0.004372385484
                        ]
                      },
                      {
                        "learn": [
                          0.003678915425
                        ],
                        "iteration": 170,
                        "passed_time": 20.23055826,
                        "remaining_time": 571.306233,
                        "test": [
                          0.9498540825,
                          0.004354758225
                        ]
                      },
                      {
                        "learn": [
                          0.003659891326
                        ],
                        "iteration": 171,
                        "passed_time": 20.34239794,
                        "remaining_time": 571.0063793,
                        "test": [
                          0.9498521816,
                          0.004337688875
                        ]
                      },
                      {
                        "learn": [
                          0.003641377875
                        ],
                        "iteration": 172,
                        "passed_time": 20.45123223,
                        "remaining_time": 570.6248437,
                        "test": [
                          0.9498397625,
                          0.004321295539
                        ]
                      },
                      {
                        "learn": [
                          0.003624478222
                        ],
                        "iteration": 173,
                        "passed_time": 20.55306614,
                        "remaining_time": 570.0522827,
                        "test": [
                          0.9495572924,
                          0.004305264853
                        ]
                      },
                      {
                        "learn": [
                          0.003608164593
                        ],
                        "iteration": 174,
                        "passed_time": 20.64764106,
                        "remaining_time": 569.2849607,
                        "test": [
                          0.9495447467,
                          0.004291846272
                        ]
                      },
                      {
                        "learn": [
                          0.003592479454
                        ],
                        "iteration": 175,
                        "passed_time": 20.73207791,
                        "remaining_time": 568.2474082,
                        "test": [
                          0.9495259914,
                          0.004279256144
                        ]
                      },
                      {
                        "learn": [
                          0.00357769088
                        ],
                        "iteration": 176,
                        "passed_time": 20.82555384,
                        "remaining_time": 567.4669276,
                        "test": [
                          0.9495391708,
                          0.004266208904
                        ]
                      },
                      {
                        "learn": [
                          0.003561427371
                        ],
                        "iteration": 177,
                        "passed_time": 20.93306178,
                        "remaining_time": 567.0742915,
                        "test": [
                          0.9495366363,
                          0.004251922235
                        ]
                      },
                      {
                        "learn": [
                          0.003546726524
                        ],
                        "iteration": 178,
                        "passed_time": 21.06575549,
                        "remaining_time": 567.3631689,
                        "test": [
                          0.9495835245,
                          0.004238838114
                        ]
                      },
                      {
                        "learn": [
                          0.003532347124
                        ],
                        "iteration": 179,
                        "passed_time": 21.18317684,
                        "remaining_time": 567.2384021,
                        "test": [
                          0.9495194017,
                          0.004227668424
                        ]
                      },
                      {
                        "learn": [
                          0.003517225005
                        ],
                        "iteration": 180,
                        "passed_time": 21.28483855,
                        "remaining_time": 566.6941269,
                        "test": [
                          0.9495109111,
                          0.00421436083
                        ]
                      },
                      {
                        "learn": [
                          0.003505028174
                        ],
                        "iteration": 181,
                        "passed_time": 21.42374074,
                        "remaining_time": 567.1405653,
                        "test": [
                          0.9494703591,
                          0.00420463082
                        ]
                      },
                      {
                        "learn": [
                          0.003493164037
                        ],
                        "iteration": 182,
                        "passed_time": 21.55090888,
                        "remaining_time": 567.2717382,
                        "test": [
                          0.9494346226,
                          0.004195178604
                        ]
                      },
                      {
                        "learn": [
                          0.003480174476
                        ],
                        "iteration": 183,
                        "passed_time": 21.64946089,
                        "remaining_time": 566.6511069,
                        "test": [
                          0.9493978724,
                          0.004184779183
                        ]
                      },
                      {
                        "learn": [
                          0.003467763564
                        ],
                        "iteration": 184,
                        "passed_time": 21.70951557,
                        "remaining_time": 565.0341486,
                        "test": [
                          0.9493290607,
                          0.004174983083
                        ]
                      },
                      {
                        "learn": [
                          0.0034542535
                        ],
                        "iteration": 185,
                        "passed_time": 21.79735352,
                        "remaining_time": 564.15301,
                        "test": [
                          0.9493250055,
                          0.00416321289
                        ]
                      },
                      {
                        "learn": [
                          0.003441113758
                        ],
                        "iteration": 186,
                        "passed_time": 21.86294991,
                        "remaining_time": 562.7079034,
                        "test": [
                          0.9493198097,
                          0.004151802432
                        ]
                      },
                      {
                        "learn": [
                          0.00342897248
                        ],
                        "iteration": 187,
                        "passed_time": 21.90587903,
                        "remaining_time": 560.6972867,
                        "test": [
                          0.9493455349,
                          0.004141177278
                        ]
                      },
                      {
                        "learn": [
                          0.003417709682
                        ],
                        "iteration": 188,
                        "passed_time": 21.94902873,
                        "remaining_time": 558.7131069,
                        "test": [
                          0.9493484496,
                          0.004131563555
                        ]
                      },
                      {
                        "learn": [
                          0.003407061298
                        ],
                        "iteration": 189,
                        "passed_time": 21.99420516,
                        "remaining_time": 556.8006674,
                        "test": [
                          0.9493398323,
                          0.004121965211
                        ]
                      },
                      {
                        "learn": [
                          0.003395895791
                        ],
                        "iteration": 190,
                        "passed_time": 22.03495157,
                        "remaining_time": 554.7962414,
                        "test": [
                          0.9493186692,
                          0.00411365465
                        ]
                      },
                      {
                        "learn": [
                          0.003384161057
                        ],
                        "iteration": 191,
                        "passed_time": 22.0759868,
                        "remaining_time": 552.8195028,
                        "test": [
                          0.9493139804,
                          0.004103587959
                        ]
                      },
                      {
                        "learn": [
                          0.003372761518
                        ],
                        "iteration": 192,
                        "passed_time": 22.14227693,
                        "remaining_time": 551.4918404,
                        "test": [
                          0.9493057433,
                          0.004093962109
                        ]
                      },
                      {
                        "learn": [
                          0.003362435599
                        ],
                        "iteration": 193,
                        "passed_time": 22.18584017,
                        "remaining_time": 549.6141643,
                        "test": [
                          0.9493089114,
                          0.004085142874
                        ]
                      },
                      {
                        "learn": [
                          0.00335153494
                        ],
                        "iteration": 194,
                        "passed_time": 22.2268109,
                        "remaining_time": 547.6914173,
                        "test": [
                          0.9492961122,
                          0.004076030123
                        ]
                      },
                      {
                        "learn": [
                          0.003342186646
                        ],
                        "iteration": 195,
                        "passed_time": 22.26783047,
                        "remaining_time": 545.7890693,
                        "test": [
                          0.9492950984,
                          0.004068177072
                        ]
                      },
                      {
                        "learn": [
                          0.003332514449
                        ],
                        "iteration": 196,
                        "passed_time": 22.31080771,
                        "remaining_time": 543.9533474,
                        "test": [
                          0.9493075174,
                          0.004059862161
                        ]
                      },
                      {
                        "learn": [
                          0.003322372483
                        ],
                        "iteration": 197,
                        "passed_time": 22.36600169,
                        "remaining_time": 542.4320207,
                        "test": [
                          0.9493018148,
                          0.004051425103
                        ]
                      },
                      {
                        "learn": [
                          0.003312509398
                        ],
                        "iteration": 198,
                        "passed_time": 22.40867005,
                        "remaining_time": 540.6232409,
                        "test": [
                          0.9492985199,
                          0.004043242616
                        ]
                      },
                      {
                        "learn": [
                          0.003303489562
                        ],
                        "iteration": 199,
                        "passed_time": 22.45022746,
                        "remaining_time": 538.8054591,
                        "test": [
                          0.9492765965,
                          0.004036482623
                        ]
                      },
                      {
                        "learn": [
                          0.003295056671
                        ],
                        "iteration": 200,
                        "passed_time": 22.49721805,
                        "remaining_time": 537.1350717,
                        "test": [
                          0.949256574,
                          0.004030709795
                        ]
                      },
                      {
                        "learn": [
                          0.003287038534
                        ],
                        "iteration": 201,
                        "passed_time": 22.53944295,
                        "remaining_time": 535.3675608,
                        "test": [
                          0.9492259065,
                          0.004024794557
                        ]
                      },
                      {
                        "learn": [
                          0.003278362159
                        ],
                        "iteration": 202,
                        "passed_time": 22.58077829,
                        "remaining_time": 533.5960269,
                        "test": [
                          0.9492134874,
                          0.004018452748
                        ]
                      },
                      {
                        "learn": [
                          0.003269412788
                        ],
                        "iteration": 203,
                        "passed_time": 22.62134182,
                        "remaining_time": 531.8233105,
                        "test": [
                          0.94884269,
                          0.004009997887
                        ]
                      },
                      {
                        "learn": [
                          0.003260736812
                        ],
                        "iteration": 204,
                        "passed_time": 22.66178652,
                        "remaining_time": 530.0647139,
                        "test": [
                          0.9488386348,
                          0.004002890037
                        ]
                      },
                      {
                        "learn": [
                          0.00325273679
                        ],
                        "iteration": 205,
                        "passed_time": 22.70610902,
                        "remaining_time": 528.413042,
                        "test": [
                          0.9488065734,
                          0.003997662415
                        ]
                      },
                      {
                        "learn": [
                          0.003245227113
                        ],
                        "iteration": 206,
                        "passed_time": 22.74978781,
                        "remaining_time": 526.761995,
                        "test": [
                          0.9487487868,
                          0.003992319307
                        ]
                      },
                      {
                        "learn": [
                          0.00323808551
                        ],
                        "iteration": 207,
                        "passed_time": 22.79082853,
                        "remaining_time": 525.0656265,
                        "test": [
                          0.948722428,
                          0.003987180356
                        ]
                      },
                      {
                        "learn": [
                          0.003230499091
                        ],
                        "iteration": 208,
                        "passed_time": 22.8319293,
                        "remaining_time": 523.3864751,
                        "test": [
                          0.9486850441,
                          0.003981910192
                        ]
                      },
                      {
                        "learn": [
                          0.003224340167
                        ],
                        "iteration": 209,
                        "passed_time": 22.87529389,
                        "remaining_time": 521.7745607,
                        "test": [
                          0.9486667957,
                          0.003977841571
                        ]
                      },
                      {
                        "learn": [
                          0.003217652316
                        ],
                        "iteration": 210,
                        "passed_time": 22.91640493,
                        "remaining_time": 520.126366,
                        "test": [
                          0.9486460128,
                          0.003973067083
                        ]
                      },
                      {
                        "learn": [
                          0.003211436815
                        ],
                        "iteration": 211,
                        "passed_time": 22.95631589,
                        "remaining_time": 518.4662287,
                        "test": [
                          0.9486451257,
                          0.003968381417
                        ]
                      },
                      {
                        "learn": [
                          0.003203967667
                        ],
                        "iteration": 212,
                        "passed_time": 22.99870345,
                        "remaining_time": 516.8769644,
                        "test": [
                          0.9486415774,
                          0.00396228369
                        ]
                      },
                      {
                        "learn": [
                          0.003197317239
                        ],
                        "iteration": 213,
                        "passed_time": 23.0407254,
                        "remaining_time": 515.2939803,
                        "test": [
                          0.9485839175,
                          0.003957652697
                        ]
                      },
                      {
                        "learn": [
                          0.003189898177
                        ],
                        "iteration": 214,
                        "passed_time": 23.08301726,
                        "remaining_time": 513.7313377,
                        "test": [
                          0.9482736946,
                          0.003950619266
                        ]
                      },
                      {
                        "learn": [
                          0.003183751494
                        ],
                        "iteration": 215,
                        "passed_time": 23.1470369,
                        "remaining_time": 512.6640024,
                        "test": [
                          0.9482738214,
                          0.003945976724
                        ]
                      },
                      {
                        "learn": [
                          0.003175508908
                        ],
                        "iteration": 216,
                        "passed_time": 23.19535377,
                        "remaining_time": 511.2598023,
                        "test": [
                          0.9483014474,
                          0.003939204508
                        ]
                      },
                      {
                        "learn": [
                          0.003170005733
                        ],
                        "iteration": 217,
                        "passed_time": 23.23561276,
                        "remaining_time": 509.6912855,
                        "test": [
                          0.9483055026,
                          0.003935146758
                        ]
                      },
                      {
                        "learn": [
                          0.003163094289
                        ],
                        "iteration": 218,
                        "passed_time": 23.27640771,
                        "remaining_time": 508.1484257,
                        "test": [
                          0.948008966,
                          0.003928597339
                        ]
                      },
                      {
                        "learn": [
                          0.003156338748
                        ],
                        "iteration": 219,
                        "passed_time": 23.31911413,
                        "remaining_time": 506.6607526,
                        "test": [
                          0.9480207515,
                          0.003923094893
                        ]
                      },
                      {
                        "learn": [
                          0.003149705185
                        ],
                        "iteration": 220,
                        "passed_time": 23.36295723,
                        "remaining_time": 505.2107358,
                        "test": [
                          0.9477846627,
                          0.003916920545
                        ]
                      },
                      {
                        "learn": [
                          0.003144232158
                        ],
                        "iteration": 221,
                        "passed_time": 23.41335873,
                        "remaining_time": 503.9145406,
                        "test": [
                          0.9477014044,
                          0.003913150333
                        ]
                      },
                      {
                        "learn": [
                          0.003139783128
                        ],
                        "iteration": 222,
                        "passed_time": 23.45422869,
                        "remaining_time": 502.4253384,
                        "test": [
                          0.9477419564,
                          0.003910210496
                        ]
                      },
                      {
                        "learn": [
                          0.003134368105
                        ],
                        "iteration": 223,
                        "passed_time": 23.49762912,
                        "remaining_time": 501.0030208,
                        "test": [
                          0.9477455047,
                          0.003905798221
                        ]
                      },
                      {
                        "learn": [
                          0.003129496705
                        ],
                        "iteration": 224,
                        "passed_time": 23.54003649,
                        "remaining_time": 499.5718855,
                        "test": [
                          0.9477462651,
                          0.003902303207
                        ]
                      },
                      {
                        "learn": [
                          0.003123377673
                        ],
                        "iteration": 225,
                        "passed_time": 23.58445509,
                        "remaining_time": 498.1955247,
                        "test": [
                          0.947767048,
                          0.003897386936
                        ]
                      },
                      {
                        "learn": [
                          0.003118479843
                        ],
                        "iteration": 226,
                        "passed_time": 23.62855673,
                        "remaining_time": 496.8242346,
                        "test": [
                          0.9479822271,
                          0.003893262301
                        ]
                      },
                      {
                        "learn": [
                          0.003113482597
                        ],
                        "iteration": 227,
                        "passed_time": 23.67344414,
                        "remaining_time": 495.4810327,
                        "test": [
                          0.947971202,
                          0.003889245499
                        ]
                      },
                      {
                        "learn": [
                          0.003108661654
                        ],
                        "iteration": 228,
                        "passed_time": 23.71397288,
                        "remaining_time": 494.0583608,
                        "test": [
                          0.9479380634,
                          0.003886180174
                        ]
                      },
                      {
                        "learn": [
                          0.003102922601
                        ],
                        "iteration": 229,
                        "passed_time": 23.75476247,
                        "remaining_time": 492.6531174,
                        "test": [
                          0.9477102118,
                          0.003880836124
                        ]
                      },
                      {
                        "learn": [
                          0.003093202166
                        ],
                        "iteration": 230,
                        "passed_time": 23.79551845,
                        "remaining_time": 491.2589935,
                        "test": [
                          0.9482985961,
                          0.003872083336
                        ]
                      },
                      {
                        "learn": [
                          0.00308829596
                        ],
                        "iteration": 231,
                        "passed_time": 23.83596923,
                        "remaining_time": 489.8702642,
                        "test": [
                          0.9484264617,
                          0.003868606782
                        ]
                      },
                      {
                        "learn": [
                          0.003084538944
                        ],
                        "iteration": 232,
                        "passed_time": 23.87627319,
                        "remaining_time": 488.4901042,
                        "test": [
                          0.9484747439,
                          0.003865914794
                        ]
                      },
                      {
                        "learn": [
                          0.003079227813
                        ],
                        "iteration": 233,
                        "passed_time": 23.91712344,
                        "remaining_time": 487.1325227,
                        "test": [
                          0.9481078749,
                          0.003860923035
                        ]
                      },
                      {
                        "learn": [
                          0.003074012126
                        ],
                        "iteration": 234,
                        "passed_time": 23.95821062,
                        "remaining_time": 485.7909514,
                        "test": [
                          0.948088486,
                          0.003857313258
                        ]
                      },
                      {
                        "learn": [
                          0.003069129181
                        ],
                        "iteration": 235,
                        "passed_time": 24.00256701,
                        "remaining_time": 484.526395,
                        "test": [
                          0.9481048335,
                          0.003853582688
                        ]
                      },
                      {
                        "learn": [
                          0.003065196061
                        ],
                        "iteration": 236,
                        "passed_time": 24.04240987,
                        "remaining_time": 483.1814271,
                        "test": [
                          0.9483486525,
                          0.003851165747
                        ]
                      },
                      {
                        "learn": [
                          0.003061295396
                        ],
                        "iteration": 237,
                        "passed_time": 24.0821502,
                        "remaining_time": 481.845375,
                        "test": [
                          0.9484767715,
                          0.003848895731
                        ]
                      },
                      {
                        "learn": [
                          0.00305704162
                        ],
                        "iteration": 238,
                        "passed_time": 24.12298363,
                        "remaining_time": 480.5419458,
                        "test": [
                          0.9484262082,
                          0.00384637016
                        ]
                      },
                      {
                        "learn": [
                          0.003052203245
                        ],
                        "iteration": 239,
                        "passed_time": 24.18834417,
                        "remaining_time": 479.7354927,
                        "test": [
                          0.9483993425,
                          0.003842187946
                        ]
                      },
                      {
                        "learn": [
                          0.003047715618
                        ],
                        "iteration": 240,
                        "passed_time": 24.22831461,
                        "remaining_time": 478.4338143,
                        "test": [
                          0.9481808686,
                          0.003837944826
                        ]
                      },
                      {
                        "learn": [
                          0.003039123284
                        ],
                        "iteration": 241,
                        "passed_time": 24.27046999,
                        "remaining_time": 477.1855215,
                        "test": [
                          0.9487440346,
                          0.003831078403
                        ]
                      },
                      {
                        "learn": [
                          0.00303551219
                        ],
                        "iteration": 242,
                        "passed_time": 24.31240407,
                        "remaining_time": 475.9428238,
                        "test": [
                          0.9488047359,
                          0.003829030426
                        ]
                      },
                      {
                        "learn": [
                          0.003031733483
                        ],
                        "iteration": 243,
                        "passed_time": 24.35605384,
                        "remaining_time": 474.7434102,
                        "test": [
                          0.9487987798,
                          0.00382612224
                        ]
                      },
                      {
                        "learn": [
                          0.00302801924
                        ],
                        "iteration": 244,
                        "passed_time": 24.41009641,
                        "remaining_time": 473.7551364,
                        "test": [
                          0.948753539,
                          0.003823982019
                        ]
                      },
                      {
                        "learn": [
                          0.003024613163
                        ],
                        "iteration": 245,
                        "passed_time": 24.45035356,
                        "remaining_time": 472.5080522,
                        "test": [
                          0.9487502441,
                          0.003821712659
                        ]
                      },
                      {
                        "learn": [
                          0.003020433595
                        ],
                        "iteration": 246,
                        "passed_time": 24.49379715,
                        "remaining_time": 471.3320561,
                        "test": [
                          0.9490138322,
                          0.003818456486
                        ]
                      },
                      {
                        "learn": [
                          0.003017585519
                        ],
                        "iteration": 247,
                        "passed_time": 24.54572794,
                        "remaining_time": 470.3278193,
                        "test": [
                          0.9490152261,
                          0.003816639864
                        ]
                      },
                      {
                        "learn": [
                          0.003013946474
                        ],
                        "iteration": 248,
                        "passed_time": 24.5881709,
                        "remaining_time": 469.1502006,
                        "test": [
                          0.9490167468,
                          0.003814495583
                        ]
                      },
                      {
                        "learn": [
                          0.003010763563
                        ],
                        "iteration": 249,
                        "passed_time": 24.62923694,
                        "remaining_time": 467.9555018,
                        "test": [
                          0.9490130718,
                          0.003812409661
                        ]
                      },
                      {
                        "learn": [
                          0.003007381323
                        ],
                        "iteration": 250,
                        "passed_time": 24.66998559,
                        "remaining_time": 466.7639902,
                        "test": [
                          0.9489698586,
                          0.003810529179
                        ]
                      },
                      {
                        "learn": [
                          0.003003988844
                        ],
                        "iteration": 251,
                        "passed_time": 24.71362108,
                        "remaining_time": 465.6360035,
                        "test": [
                          0.9489555387,
                          0.003807987919
                        ]
                      },
                      {
                        "learn": [
                          0.003001356218
                        ],
                        "iteration": 252,
                        "passed_time": 24.75824095,
                        "remaining_time": 464.5350585,
                        "test": [
                          0.9489580732,
                          0.003806352398
                        ]
                      },
                      {
                        "learn": [
                          0.002998523389
                        ],
                        "iteration": 253,
                        "passed_time": 24.80267111,
                        "remaining_time": 463.4388862,
                        "test": [
                          0.9488236179,
                          0.003805104531
                        ]
                      },
                      {
                        "learn": [
                          0.002993549556
                        ],
                        "iteration": 254,
                        "passed_time": 24.84396128,
                        "remaining_time": 462.2925343,
                        "test": [
                          0.9489051021,
                          0.003801256533
                        ]
                      },
                      {
                        "learn": [
                          0.002985820377
                        ],
                        "iteration": 255,
                        "passed_time": 24.88467808,
                        "remaining_time": 461.1441908,
                        "test": [
                          0.9494280963,
                          0.003794138307
                        ]
                      },
                      {
                        "learn": [
                          0.002978540332
                        ],
                        "iteration": 256,
                        "passed_time": 24.92597978,
                        "remaining_time": 460.0152611,
                        "test": [
                          0.9497904031,
                          0.003787684816
                        ]
                      },
                      {
                        "learn": [
                          0.002974790722
                        ],
                        "iteration": 257,
                        "passed_time": 24.96889413,
                        "remaining_time": 458.924403,
                        "test": [
                          0.9497589753,
                          0.00378446725
                        ]
                      },
                      {
                        "learn": [
                          0.002971613576
                        ],
                        "iteration": 258,
                        "passed_time": 25.00973655,
                        "remaining_time": 457.8037104,
                        "test": [
                          0.9498215775,
                          0.003782046878
                        ]
                      },
                      {
                        "learn": [
                          0.002968184565
                        ],
                        "iteration": 259,
                        "passed_time": 25.05000224,
                        "remaining_time": 456.6808101,
                        "test": [
                          0.9498121998,
                          0.003778822569
                        ]
                      },
                      {
                        "learn": [
                          0.002965193293
                        ],
                        "iteration": 260,
                        "passed_time": 25.09106353,
                        "remaining_time": 455.5806515,
                        "test": [
                          0.9498097921,
                          0.003776867942
                        ]
                      },
                      {
                        "learn": [
                          0.002961654256
                        ],
                        "iteration": 261,
                        "passed_time": 25.13160759,
                        "remaining_time": 454.4792242,
                        "test": [
                          0.9497836867,
                          0.003773836568
                        ]
                      },
                      {
                        "learn": [
                          0.002959396641
                        ],
                        "iteration": 262,
                        "passed_time": 25.20067295,
                        "remaining_time": 453.8995732,
                        "test": [
                          0.949806117,
                          0.003772756218
                        ]
                      },
                      {
                        "learn": [
                          0.002956527093
                        ],
                        "iteration": 263,
                        "passed_time": 25.24292868,
                        "remaining_time": 452.8428417,
                        "test": [
                          0.9498054834,
                          0.003770907542
                        ]
                      },
                      {
                        "learn": [
                          0.002949217022
                        ],
                        "iteration": 264,
                        "passed_time": 25.28436861,
                        "remaining_time": 451.77919,
                        "test": [
                          0.95010937,
                          0.003764343487
                        ]
                      },
                      {
                        "learn": [
                          0.002942440309
                        ],
                        "iteration": 265,
                        "passed_time": 25.33871055,
                        "remaining_time": 450.9528411,
                        "test": [
                          0.9503144111,
                          0.003758138259
                        ]
                      },
                      {
                        "learn": [
                          0.002935929503
                        ],
                        "iteration": 266,
                        "passed_time": 25.38192332,
                        "remaining_time": 449.9349928,
                        "test": [
                          0.9504280835,
                          0.003753510251
                        ]
                      },
                      {
                        "learn": [
                          0.002933683535
                        ],
                        "iteration": 267,
                        "passed_time": 25.4358914,
                        "remaining_time": 449.1143212,
                        "test": [
                          0.9503868978,
                          0.003752674212
                        ]
                      },
                      {
                        "learn": [
                          0.002931111707
                        ],
                        "iteration": 268,
                        "passed_time": 25.47649803,
                        "remaining_time": 448.0643576,
                        "test": [
                          0.9503524286,
                          0.003751418829
                        ]
                      },
                      {
                        "learn": [
                          0.002928766065
                        ],
                        "iteration": 269,
                        "passed_time": 25.51840824,
                        "remaining_time": 447.0447072,
                        "test": [
                          0.9503348139,
                          0.003750337098
                        ]
                      },
                      {
                        "learn": [
                          0.002925751429
                        ],
                        "iteration": 270,
                        "passed_time": 25.5592475,
                        "remaining_time": 446.0135847,
                        "test": [
                          0.9503286043,
                          0.00374816288
                        ]
                      },
                      {
                        "learn": [
                          0.00291943338
                        ],
                        "iteration": 271,
                        "passed_time": 25.60368773,
                        "remaining_time": 445.0523368,
                        "test": [
                          0.9504062868,
                          0.003742397898
                        ]
                      },
                      {
                        "learn": [
                          0.002912959386
                        ],
                        "iteration": 272,
                        "passed_time": 25.64569665,
                        "remaining_time": 444.0557072,
                        "test": [
                          0.9504811813,
                          0.003736611732
                        ]
                      },
                      {
                        "learn": [
                          0.002910201826
                        ],
                        "iteration": 273,
                        "passed_time": 25.68988735,
                        "remaining_time": 443.1036774,
                        "test": [
                          0.9506807732,
                          0.003735019897
                        ]
                      },
                      {
                        "learn": [
                          0.002904135178
                        ],
                        "iteration": 274,
                        "passed_time": 25.73171619,
                        "remaining_time": 442.1176691,
                        "test": [
                          0.9507189174,
                          0.003730408527
                        ]
                      },
                      {
                        "learn": [
                          0.002898000264
                        ],
                        "iteration": 275,
                        "passed_time": 25.77577412,
                        "remaining_time": 441.1766555,
                        "test": [
                          0.9507451495,
                          0.003724937243
                        ]
                      },
                      {
                        "learn": [
                          0.002895718436
                        ],
                        "iteration": 276,
                        "passed_time": 25.81825721,
                        "remaining_time": 440.2152664,
                        "test": [
                          0.9508804918,
                          0.003723679655
                        ]
                      },
                      {
                        "learn": [
                          0.002889615691
                        ],
                        "iteration": 277,
                        "passed_time": 25.86002504,
                        "remaining_time": 439.248339,
                        "test": [
                          0.9508701004,
                          0.003719172897
                        ]
                      },
                      {
                        "learn": [
                          0.002887077294
                        ],
                        "iteration": 278,
                        "passed_time": 25.90118863,
                        "remaining_time": 438.277819,
                        "test": [
                          0.9508575546,
                          0.003718182257
                        ]
                      },
                      {
                        "learn": [
                          0.002881292815
                        ],
                        "iteration": 279,
                        "passed_time": 25.94237169,
                        "remaining_time": 437.3142656,
                        "test": [
                          0.9508832798,
                          0.003713029823
                        ]
                      },
                      {
                        "learn": [
                          0.002879692646
                        ],
                        "iteration": 280,
                        "passed_time": 25.98684623,
                        "remaining_time": 436.4125528,
                        "test": [
                          0.9508848005,
                          0.003712122901
                        ]
                      },
                      {
                        "learn": [
                          0.002874060631
                        ],
                        "iteration": 281,
                        "passed_time": 26.02790458,
                        "remaining_time": 435.4597653,
                        "test": [
                          0.9509150878,
                          0.003707132875
                        ]
                      },
                      {
                        "learn": [
                          0.002872348168
                        ],
                        "iteration": 282,
                        "passed_time": 26.0720801,
                        "remaining_time": 434.5653775,
                        "test": [
                          0.9507427417,
                          0.003706746699
                        ]
                      },
                      {
                        "learn": [
                          0.002870811288
                        ],
                        "iteration": 283,
                        "passed_time": 26.11254818,
                        "remaining_time": 433.6154128,
                        "test": [
                          0.9507607367,
                          0.003706590451
                        ]
                      },
                      {
                        "learn": [
                          0.002868448647
                        ],
                        "iteration": 284,
                        "passed_time": 26.15197492,
                        "remaining_time": 432.6546027,
                        "test": [
                          0.9507498383,
                          0.003705705984
                        ]
                      },
                      {
                        "learn": [
                          0.002863058064
                        ],
                        "iteration": 285,
                        "passed_time": 26.22060628,
                        "remaining_time": 432.1816014,
                        "test": [
                          0.9507735359,
                          0.003700858774
                        ]
                      },
                      {
                        "learn": [
                          0.002858064797
                        ],
                        "iteration": 286,
                        "passed_time": 26.26417745,
                        "remaining_time": 431.2998896,
                        "test": [
                          0.9507950792,
                          0.003696320261
                        ]
                      },
                      {
                        "learn": [
                          0.002855297979
                        ],
                        "iteration": 287,
                        "passed_time": 26.30465481,
                        "remaining_time": 430.3733801,
                        "test": [
                          0.9507556677,
                          0.003695093875
                        ]
                      },
                      {
                        "learn": [
                          0.002853326922
                        ],
                        "iteration": 288,
                        "passed_time": 26.34663493,
                        "remaining_time": 429.4774988,
                        "test": [
                          0.9507471771,
                          0.00369390509
                        ]
                      },
                      {
                        "learn": [
                          0.002848392711
                        ],
                        "iteration": 289,
                        "passed_time": 26.3894373,
                        "remaining_time": 428.600861,
                        "test": [
                          0.9507560479,
                          0.003690292144
                        ]
                      },
                      {
                        "learn": [
                          0.002843011579
                        ],
                        "iteration": 290,
                        "passed_time": 26.44162876,
                        "remaining_time": 427.8818894,
                        "test": [
                          0.9508068646,
                          0.003685669942
                        ]
                      },
                      {
                        "learn": [
                          0.002840481326
                        ],
                        "iteration": 291,
                        "passed_time": 26.48334584,
                        "remaining_time": 426.9986034,
                        "test": [
                          0.9508093991,
                          0.003683962956
                        ]
                      },
                      {
                        "learn": [
                          0.00283834294
                        ],
                        "iteration": 292,
                        "passed_time": 26.52416662,
                        "remaining_time": 426.1066631,
                        "test": [
                          0.9508042034,
                          0.003682547787
                        ]
                      },
                      {
                        "learn": [
                          0.002836302567
                        ],
                        "iteration": 293,
                        "passed_time": 26.56547545,
                        "remaining_time": 425.2283247,
                        "test": [
                          0.9507802523,
                          0.003681855221
                        ]
                      },
                      {
                        "learn": [
                          0.002831248801
                        ],
                        "iteration": 294,
                        "passed_time": 26.60715417,
                        "remaining_time": 424.3615605,
                        "test": [
                          0.9507901369,
                          0.003677867205
                        ]
                      },
                      {
                        "learn": [
                          0.002826365118
                        ],
                        "iteration": 295,
                        "passed_time": 26.65357682,
                        "remaining_time": 423.5757614,
                        "test": [
                          0.9507461633,
                          0.003674269454
                        ]
                      },
                      {
                        "learn": [
                          0.002821773222
                        ],
                        "iteration": 296,
                        "passed_time": 26.69450949,
                        "remaining_time": 422.7080072,
                        "test": [
                          0.9507853213,
                          0.003670239939
                        ]
                      },
                      {
                        "learn": [
                          0.002819494017
                        ],
                        "iteration": 297,
                        "passed_time": 26.7351036,
                        "remaining_time": 421.8404602,
                        "test": [
                          0.9507832937,
                          0.003668731235
                        ]
                      },
                      {
                        "learn": [
                          0.002815072972
                        ],
                        "iteration": 298,
                        "passed_time": 26.77627965,
                        "remaining_time": 420.9875942,
                        "test": [
                          0.9508139612,
                          0.003664778633
                        ]
                      },
                      {
                        "learn": [
                          0.002812897438
                        ],
                        "iteration": 299,
                        "passed_time": 26.81643195,
                        "remaining_time": 420.1241005,
                        "test": [
                          0.9508120603,
                          0.003663343075
                        ]
                      },
                      {
                        "learn": [
                          0.002808256661
                        ],
                        "iteration": 300,
                        "passed_time": 26.85790913,
                        "remaining_time": 419.2867608,
                        "test": [
                          0.9508466563,
                          0.003659242503
                        ]
                      },
                      {
                        "learn": [
                          0.002806374922
                        ],
                        "iteration": 301,
                        "passed_time": 26.90123424,
                        "remaining_time": 418.4834387,
                        "test": [
                          0.9510068367,
                          0.003658322515
                        ]
                      },
                      {
                        "learn": [
                          0.002802859124
                        ],
                        "iteration": 302,
                        "passed_time": 26.94320636,
                        "remaining_time": 417.6641593,
                        "test": [
                          0.9511720861,
                          0.003655962898
                        ]
                      },
                      {
                        "learn": [
                          0.002798465965
                        ],
                        "iteration": 303,
                        "passed_time": 26.98531911,
                        "remaining_time": 416.8521663,
                        "test": [
                          0.9511917285,
                          0.003652568298
                        ]
                      },
                      {
                        "learn": [
                          0.002796765074
                        ],
                        "iteration": 304,
                        "passed_time": 27.02481094,
                        "remaining_time": 416.0048766,
                        "test": [
                          0.9511799431,
                          0.00365225526
                        ]
                      },
                      {
                        "learn": [
                          0.00279200188
                        ],
                        "iteration": 305,
                        "passed_time": 27.0669072,
                        "remaining_time": 415.2028182,
                        "test": [
                          0.9513289717,
                          0.003647693839
                        ]
                      },
                      {
                        "learn": [
                          0.002789642105
                        ],
                        "iteration": 306,
                        "passed_time": 27.11083578,
                        "remaining_time": 414.4337208,
                        "test": [
                          0.9513648349,
                          0.003646065337
                        ]
                      },
                      {
                        "learn": [
                          0.00278493015
                        ],
                        "iteration": 307,
                        "passed_time": 27.1527659,
                        "remaining_time": 413.6388883,
                        "test": [
                          0.9515067669,
                          0.003641814689
                        ]
                      },
                      {
                        "learn": [
                          0.002780883759
                        ],
                        "iteration": 308,
                        "passed_time": 27.195,
                        "remaining_time": 412.8535436,
                        "test": [
                          0.9515418698,
                          0.003639178259
                        ]
                      },
                      {
                        "learn": [
                          0.002778999163
                        ],
                        "iteration": 309,
                        "passed_time": 27.26498365,
                        "remaining_time": 412.4928172,
                        "test": [
                          0.9515404758,
                          0.003637983251
                        ]
                      },
                      {
                        "learn": [
                          0.002777532409
                        ],
                        "iteration": 310,
                        "passed_time": 27.30691532,
                        "remaining_time": 411.7110159,
                        "test": [
                          0.951531605,
                          0.003637379715
                        ]
                      },
                      {
                        "learn": [
                          0.002773565122
                        ],
                        "iteration": 311,
                        "passed_time": 27.34865914,
                        "remaining_time": 410.9311347,
                        "test": [
                          0.9515811545,
                          0.003634307614
                        ]
                      },
                      {
                        "learn": [
                          0.002771403792
                        ],
                        "iteration": 312,
                        "passed_time": 27.39349342,
                        "remaining_time": 410.2022481,
                        "test": [
                          0.9516094142,
                          0.003632775765
                        ]
                      },
                      {
                        "learn": [
                          0.002766726036
                        ],
                        "iteration": 313,
                        "passed_time": 27.43950414,
                        "remaining_time": 409.4952751,
                        "test": [
                          0.9518660324,
                          0.003629733915
                        ]
                      },
                      {
                        "learn": [
                          0.002763105347
                        ],
                        "iteration": 314,
                        "passed_time": 27.48735863,
                        "remaining_time": 408.8199212,
                        "test": [
                          0.9519032895,
                          0.003626224033
                        ]
                      },
                      {
                        "learn": [
                          0.002761091169
                        ],
                        "iteration": 315,
                        "passed_time": 27.52873127,
                        "remaining_time": 408.0524597,
                        "test": [
                          0.9522790293,
                          0.003625615532
                        ]
                      },
                      {
                        "learn": [
                          0.002756956745
                        ],
                        "iteration": 316,
                        "passed_time": 27.57144135,
                        "remaining_time": 407.309337,
                        "test": [
                          0.9524051207,
                          0.003621925671
                        ]
                      },
                      {
                        "learn": [
                          0.002753543363
                        ],
                        "iteration": 317,
                        "passed_time": 27.61477865,
                        "remaining_time": 406.5798542,
                        "test": [
                          0.9524563176,
                          0.003619720097
                        ]
                      },
                      {
                        "learn": [
                          0.002751894072
                        ],
                        "iteration": 318,
                        "passed_time": 27.65606071,
                        "remaining_time": 405.8245147,
                        "test": [
                          0.9524539098,
                          0.003618712604
                        ]
                      },
                      {
                        "learn": [
                          0.002747947978
                        ],
                        "iteration": 319,
                        "passed_time": 27.70204349,
                        "remaining_time": 405.142386,
                        "test": [
                          0.9526239748,
                          0.003616300576
                        ]
                      },
                      {
                        "learn": [
                          0.002745972611
                        ],
                        "iteration": 320,
                        "passed_time": 27.74362095,
                        "remaining_time": 404.4000075,
                        "test": [
                          0.9529656255,
                          0.003615408795
                        ]
                      },
                      {
                        "learn": [
                          0.002744515885
                        ],
                        "iteration": 321,
                        "passed_time": 27.78709519,
                        "remaining_time": 403.6895381,
                        "test": [
                          0.9531065437,
                          0.003614773913
                        ]
                      },
                      {
                        "learn": [
                          0.002742687578
                        ],
                        "iteration": 322,
                        "passed_time": 27.82777837,
                        "remaining_time": 402.9427847,
                        "test": [
                          0.95309856,
                          0.003613702601
                        ]
                      },
                      {
                        "learn": [
                          0.002740962971
                        ],
                        "iteration": 323,
                        "passed_time": 27.87508446,
                        "remaining_time": 402.295972,
                        "test": [
                          0.9533024606,
                          0.003613350678
                        ]
                      },
                      {
                        "learn": [
                          0.002736361817
                        ],
                        "iteration": 324,
                        "passed_time": 27.91729109,
                        "remaining_time": 401.5794949,
                        "test": [
                          0.9533834379,
                          0.003610582532
                        ]
                      },
                      {
                        "learn": [
                          0.002734471749
                        ],
                        "iteration": 325,
                        "passed_time": 27.96082324,
                        "remaining_time": 400.886159,
                        "test": [
                          0.9534000389,
                          0.003609314025
                        ]
                      },
                      {
                        "learn": [
                          0.002733154202
                        ],
                        "iteration": 326,
                        "passed_time": 28.0038446,
                        "remaining_time": 400.189498,
                        "test": [
                          0.9534725256,
                          0.003608817141
                        ]
                      },
                      {
                        "learn": [
                          0.002729519251
                        ],
                        "iteration": 327,
                        "passed_time": 28.04630394,
                        "remaining_time": 399.4888171,
                        "test": [
                          0.9536366345,
                          0.003606428334
                        ]
                      },
                      {
                        "learn": [
                          0.002726133466
                        ],
                        "iteration": 328,
                        "passed_time": 28.08825344,
                        "remaining_time": 398.7848991,
                        "test": [
                          0.9541932108,
                          0.003603549743
                        ]
                      },
                      {
                        "learn": [
                          0.002722629647
                        ],
                        "iteration": 329,
                        "passed_time": 28.12981546,
                        "remaining_time": 398.0795096,
                        "test": [
                          0.9542909158,
                          0.003601563344
                        ]
                      },
                      {
                        "learn": [
                          0.002719232195
                        ],
                        "iteration": 330,
                        "passed_time": 28.17169692,
                        "remaining_time": 397.3826372,
                        "test": [
                          0.9543552921,
                          0.003598382346
                        ]
                      },
                      {
                        "learn": [
                          0.002716246021
                        ],
                        "iteration": 331,
                        "passed_time": 28.2145183,
                        "remaining_time": 396.702926,
                        "test": [
                          0.9543506033,
                          0.003596719509
                        ]
                      },
                      {
                        "learn": [
                          0.002714267222
                        ],
                        "iteration": 332,
                        "passed_time": 28.2887053,
                        "remaining_time": 396.4666295,
                        "test": [
                          0.954390395,
                          0.003595293179
                        ]
                      },
                      {
                        "learn": [
                          0.002711781543
                        ],
                        "iteration": 333,
                        "passed_time": 28.32815298,
                        "remaining_time": 395.7459934,
                        "test": [
                          0.9547017583,
                          0.003593759665
                        ]
                      },
                      {
                        "learn": [
                          0.002708031755
                        ],
                        "iteration": 334,
                        "passed_time": 28.37139882,
                        "remaining_time": 395.0823149,
                        "test": [
                          0.9547813417,
                          0.003591276254
                        ]
                      },
                      {
                        "learn": [
                          0.00270482439
                        ],
                        "iteration": 335,
                        "passed_time": 28.41415051,
                        "remaining_time": 394.4154701,
                        "test": [
                          0.9548694156,
                          0.003588750757
                        ]
                      },
                      {
                        "learn": [
                          0.002701610362
                        ],
                        "iteration": 336,
                        "passed_time": 28.46181036,
                        "remaining_time": 393.8202425,
                        "test": [
                          0.9549391143,
                          0.003586630875
                        ]
                      },
                      {
                        "learn": [
                          0.002698068019
                        ],
                        "iteration": 337,
                        "passed_time": 28.50794154,
                        "remaining_time": 393.2071699,
                        "test": [
                          0.9550413814,
                          0.003583560593
                        ]
                      },
                      {
                        "learn": [
                          0.002697223659
                        ],
                        "iteration": 338,
                        "passed_time": 28.54911743,
                        "remaining_time": 392.5293107,
                        "test": [
                          0.9550037441,
                          0.003583641049
                        ]
                      },
                      {
                        "learn": [
                          0.002694842229
                        ],
                        "iteration": 339,
                        "passed_time": 28.59068018,
                        "remaining_time": 391.8604989,
                        "test": [
                          0.9551420011,
                          0.003581656946
                        ]
                      },
                      {
                        "learn": [
                          0.002691811788
                        ],
                        "iteration": 340,
                        "passed_time": 28.63419118,
                        "remaining_time": 391.2219844,
                        "test": [
                          0.95520473,
                          0.003579699221
                        ]
                      },
                      {
                        "learn": [
                          0.002688510324
                        ],
                        "iteration": 341,
                        "passed_time": 28.67739679,
                        "remaining_time": 390.5827902,
                        "test": [
                          0.9552615028,
                          0.003577532073
                        ]
                      },
                      {
                        "learn": [
                          0.002685203861
                        ],
                        "iteration": 342,
                        "passed_time": 28.7192037,
                        "remaining_time": 389.9280806,
                        "test": [
                          0.9553541388,
                          0.003574689633
                        ]
                      },
                      {
                        "learn": [
                          0.002683835261
                        ],
                        "iteration": 343,
                        "passed_time": 28.76221433,
                        "remaining_time": 389.2932265,
                        "test": [
                          0.9553462818,
                          0.003573943443
                        ]
                      },
                      {
                        "learn": [
                          0.002680532512
                        ],
                        "iteration": 344,
                        "passed_time": 28.80348682,
                        "remaining_time": 388.6383512,
                        "test": [
                          0.9553931701,
                          0.003571798933
                        ]
                      },
                      {
                        "learn": [
                          0.002678995261
                        ],
                        "iteration": 345,
                        "passed_time": 28.84393569,
                        "remaining_time": 387.9759442,
                        "test": [
                          0.9554002667,
                          0.003570776177
                        ]
                      },
                      {
                        "learn": [
                          0.00267604766
                        ],
                        "iteration": 346,
                        "passed_time": 28.88541431,
                        "remaining_time": 387.3309302,
                        "test": [
                          0.9554593206,
                          0.003568963209
                        ]
                      },
                      {
                        "learn": [
                          0.002673911535
                        ],
                        "iteration": 347,
                        "passed_time": 28.9245921,
                        "remaining_time": 386.6586277,
                        "test": [
                          0.9557153051,
                          0.003567449301
                        ]
                      },
                      {
                        "learn": [
                          0.002671235865
                        ],
                        "iteration": 348,
                        "passed_time": 28.96825661,
                        "remaining_time": 386.0497465,
                        "test": [
                          0.9557709374,
                          0.003565611762
                        ]
                      },
                      {
                        "learn": [
                          0.002668450566
                        ],
                        "iteration": 349,
                        "passed_time": 29.01025699,
                        "remaining_time": 385.4219858,
                        "test": [
                          0.9558056601,
                          0.003563839648
                        ]
                      },
                      {
                        "learn": [
                          0.002667604065
                        ],
                        "iteration": 350,
                        "passed_time": 29.05540193,
                        "remaining_time": 384.8392124,
                        "test": [
                          0.9560191917,
                          0.003563602219
                        ]
                      },
                      {
                        "learn": [
                          0.002666012066
                        ],
                        "iteration": 351,
                        "passed_time": 29.0963379,
                        "remaining_time": 384.2039164,
                        "test": [
                          0.95603706,
                          0.003562510872
                        ]
                      },
                      {
                        "learn": [
                          0.002664367634
                        ],
                        "iteration": 352,
                        "passed_time": 29.13717409,
                        "remaining_time": 383.5706742,
                        "test": [
                          0.9560783723,
                          0.003561344442
                        ]
                      },
                      {
                        "learn": [
                          0.002661191277
                        ],
                        "iteration": 353,
                        "passed_time": 29.17774312,
                        "remaining_time": 382.9372727,
                        "test": [
                          0.9561468038,
                          0.003559078367
                        ]
                      },
                      {
                        "learn": [
                          0.002659629709
                        ],
                        "iteration": 354,
                        "passed_time": 29.21877084,
                        "remaining_time": 382.3132128,
                        "test": [
                          0.9561604902,
                          0.003558062377
                        ]
                      },
                      {
                        "learn": [
                          0.002658258878
                        ],
                        "iteration": 355,
                        "passed_time": 29.27834009,
                        "remaining_time": 381.9343017,
                        "test": [
                          0.9561650523,
                          0.003557005262
                        ]
                      },
                      {
                        "learn": [
                          0.002656792175
                        ],
                        "iteration": 356,
                        "passed_time": 29.33116191,
                        "remaining_time": 381.4694251,
                        "test": [
                          0.9561800058,
                          0.003556005316
                        ]
                      },
                      {
                        "learn": [
                          0.002655528497
                        ],
                        "iteration": 357,
                        "passed_time": 29.37181727,
                        "remaining_time": 380.8490943,
                        "test": [
                          0.9561609971,
                          0.003555523495
                        ]
                      },
                      {
                        "learn": [
                          0.00265244617
                        ],
                        "iteration": 358,
                        "passed_time": 29.41431849,
                        "remaining_time": 380.2558555,
                        "test": [
                          0.95618178,
                          0.003554079206
                        ]
                      },
                      {
                        "learn": [
                          0.002650138652
                        ],
                        "iteration": 359,
                        "passed_time": 29.45594698,
                        "remaining_time": 379.6544277,
                        "test": [
                          0.9562299355,
                          0.00355308287
                        ]
                      },
                      {
                        "learn": [
                          0.002647889543
                        ],
                        "iteration": 360,
                        "passed_time": 29.50889914,
                        "remaining_time": 379.2016153,
                        "test": [
                          0.9562740358,
                          0.003552028443
                        ]
                      },
                      {
                        "learn": [
                          0.002645045572
                        ],
                        "iteration": 361,
                        "passed_time": 29.55133872,
                        "remaining_time": 378.6163232,
                        "test": [
                          0.9562576882,
                          0.003550751434
                        ]
                      },
                      {
                        "learn": [
                          0.002642572132
                        ],
                        "iteration": 362,
                        "passed_time": 29.59359139,
                        "remaining_time": 378.0316344,
                        "test": [
                          0.9566229098,
                          0.00354875783
                        ]
                      },
                      {
                        "learn": [
                          0.002641378315
                        ],
                        "iteration": 363,
                        "passed_time": 29.63620595,
                        "remaining_time": 377.4545352,
                        "test": [
                          0.9566153063,
                          0.00354830088
                        ]
                      },
                      {
                        "learn": [
                          0.002638512882
                        ],
                        "iteration": 364,
                        "passed_time": 29.68127346,
                        "remaining_time": 376.9115137,
                        "test": [
                          0.9572092665,
                          0.003546085709
                        ]
                      },
                      {
                        "learn": [
                          0.002635751729
                        ],
                        "iteration": 365,
                        "passed_time": 29.72177428,
                        "remaining_time": 376.3133935,
                        "test": [
                          0.9572318235,
                          0.003544459025
                        ]
                      },
                      {
                        "learn": [
                          0.002633030342
                        ],
                        "iteration": 366,
                        "passed_time": 29.76357303,
                        "remaining_time": 375.7346971,
                        "test": [
                          0.9572358787,
                          0.003543295823
                        ]
                      },
                      {
                        "learn": [
                          0.002631441895
                        ],
                        "iteration": 367,
                        "passed_time": 29.80365463,
                        "remaining_time": 375.1373051,
                        "test": [
                          0.9572024233,
                          0.003542802872
                        ]
                      },
                      {
                        "learn": [
                          0.00262924179
                        ],
                        "iteration": 368,
                        "passed_time": 29.84570146,
                        "remaining_time": 374.5675974,
                        "test": [
                          0.9574405397,
                          0.003540985713
                        ]
                      },
                      {
                        "learn": [
                          0.002627955677
                        ],
                        "iteration": 369,
                        "passed_time": 29.88678771,
                        "remaining_time": 373.9887218,
                        "test": [
                          0.957452832,
                          0.003540142727
                        ]
                      },
                      {
                        "learn": [
                          0.002626674708
                        ],
                        "iteration": 370,
                        "passed_time": 29.92740847,
                        "remaining_time": 373.4069375,
                        "test": [
                          0.957455113,
                          0.003539124769
                        ]
                      },
                      {
                        "learn": [
                          0.002624567828
                        ],
                        "iteration": 371,
                        "passed_time": 29.97184948,
                        "remaining_time": 372.8755898,
                        "test": [
                          0.9578286984,
                          0.003537115885
                        ]
                      },
                      {
                        "learn": [
                          0.002622004811
                        ],
                        "iteration": 372,
                        "passed_time": 30.01368436,
                        "remaining_time": 372.3145243,
                        "test": [
                          0.9578376959,
                          0.003536083938
                        ]
                      },
                      {
                        "learn": [
                          0.00261996646
                        ],
                        "iteration": 373,
                        "passed_time": 30.05523154,
                        "remaining_time": 371.7526767,
                        "test": [
                          0.9578596193,
                          0.003534690318
                        ]
                      },
                      {
                        "learn": [
                          0.002617489187
                        ],
                        "iteration": 374,
                        "passed_time": 30.09716374,
                        "remaining_time": 371.1983528,
                        "test": [
                          0.9578829367,
                          0.003533009284
                        ]
                      },
                      {
                        "learn": [
                          0.002615737532
                        ],
                        "iteration": 375,
                        "passed_time": 30.13829218,
                        "remaining_time": 370.6368697,
                        "test": [
                          0.957895736,
                          0.003531762927
                        ]
                      },
                      {
                        "learn": [
                          0.002613773164
                        ],
                        "iteration": 376,
                        "passed_time": 30.18062757,
                        "remaining_time": 370.0929476,
                        "test": [
                          0.9579152516,
                          0.003529868554
                        ]
                      },
                      {
                        "learn": [
                          0.002612233454
                        ],
                        "iteration": 377,
                        "passed_time": 30.22182321,
                        "remaining_time": 369.537743,
                        "test": [
                          0.9580812614,
                          0.003528862879
                        ]
                      },
                      {
                        "learn": [
                          0.002610528515
                        ],
                        "iteration": 378,
                        "passed_time": 30.26024247,
                        "remaining_time": 368.9513996,
                        "test": [
                          0.9582903577,
                          0.00352737053
                        ]
                      },
                      {
                        "learn": [
                          0.002608438395
                        ],
                        "iteration": 379,
                        "passed_time": 30.3388038,
                        "remaining_time": 368.855983,
                        "test": [
                          0.9586439205,
                          0.003526145203
                        ]
                      },
                      {
                        "learn": [
                          0.002607752552
                        ],
                        "iteration": 380,
                        "passed_time": 30.38137006,
                        "remaining_time": 368.3242738,
                        "test": [
                          0.9587416255,
                          0.003525714202
                        ]
                      },
                      {
                        "learn": [
                          0.002606963986
                        ],
                        "iteration": 381,
                        "passed_time": 30.42205529,
                        "remaining_time": 367.7723856,
                        "test": [
                          0.95876583,
                          0.003525150193
                        ]
                      },
                      {
                        "learn": [
                          0.002605908752
                        ],
                        "iteration": 382,
                        "passed_time": 30.46272148,
                        "remaining_time": 367.2229375,
                        "test": [
                          0.958768618,
                          0.003524813048
                        ]
                      },
                      {
                        "learn": [
                          0.002605020391
                        ],
                        "iteration": 383,
                        "passed_time": 30.51567563,
                        "remaining_time": 366.8238508,
                        "test": [
                          0.9589024396,
                          0.003524667202
                        ]
                      },
                      {
                        "learn": [
                          0.002604155819
                        ],
                        "iteration": 384,
                        "passed_time": 30.55916091,
                        "remaining_time": 366.3130587,
                        "test": [
                          0.9590107895,
                          0.003524537822
                        ]
                      },
                      {
                        "learn": [
                          0.002602673328
                        ],
                        "iteration": 385,
                        "passed_time": 30.59918208,
                        "remaining_time": 365.7632801,
                        "test": [
                          0.9590902461,
                          0.003523958888
                        ]
                      },
                      {
                        "learn": [
                          0.002601545949
                        ],
                        "iteration": 386,
                        "passed_time": 30.63923732,
                        "remaining_time": 365.216542,
                        "test": [
                          0.9591003841,
                          0.003523182104
                        ]
                      },
                      {
                        "learn": [
                          0.002599115161
                        ],
                        "iteration": 387,
                        "passed_time": 30.68163567,
                        "remaining_time": 364.7002673,
                        "test": [
                          0.9591365007,
                          0.003521460962
                        ]
                      },
                      {
                        "learn": [
                          0.002596912344
                        ],
                        "iteration": 388,
                        "passed_time": 30.72938454,
                        "remaining_time": 364.2498512,
                        "test": [
                          0.9591691958,
                          0.003519759103
                        ]
                      },
                      {
                        "learn": [
                          0.002596185782
                        ],
                        "iteration": 389,
                        "passed_time": 30.76996371,
                        "remaining_time": 363.7167505,
                        "test": [
                          0.9591472724,
                          0.00351970554
                        ]
                      },
                      {
                        "learn": [
                          0.002594907809
                        ],
                        "iteration": 390,
                        "passed_time": 30.80915392,
                        "remaining_time": 363.1697965,
                        "test": [
                          0.9594536935,
                          0.003518409892
                        ]
                      },
                      {
                        "learn": [
                          0.002592519358
                        ],
                        "iteration": 391,
                        "passed_time": 30.85109378,
                        "remaining_time": 362.6577555,
                        "test": [
                          0.959535938,
                          0.003516193072
                        ]
                      },
                      {
                        "learn": [
                          0.002591353189
                        ],
                        "iteration": 392,
                        "passed_time": 30.89212368,
                        "remaining_time": 362.1374397,
                        "test": [
                          0.9597749414,
                          0.003514964497
                        ]
                      },
                      {
                        "learn": [
                          0.002589437038
                        ],
                        "iteration": 393,
                        "passed_time": 30.93423272,
                        "remaining_time": 361.6321724,
                        "test": [
                          0.9597950907,
                          0.003514024179
                        ]
                      },
                      {
                        "learn": [
                          0.002588314225
                        ],
                        "iteration": 394,
                        "passed_time": 30.9767504,
                        "remaining_time": 361.1340142,
                        "test": [
                          0.9598090305,
                          0.003513332401
                        ]
                      },
                      {
                        "learn": [
                          0.002587130128
                        ],
                        "iteration": 395,
                        "passed_time": 31.01804356,
                        "remaining_time": 360.6239205,
                        "test": [
                          0.9600479071,
                          0.003511987237
                        ]
                      },
                      {
                        "learn": [
                          0.00258513321
                        ],
                        "iteration": 396,
                        "passed_time": 31.05938988,
                        "remaining_time": 360.1168051,
                        "test": [
                          0.9602711966,
                          0.003511260334
                        ]
                      },
                      {
                        "learn": [
                          0.00258378109
                        ],
                        "iteration": 397,
                        "passed_time": 31.10096515,
                        "remaining_time": 359.6146775,
                        "test": [
                          0.9603188452,
                          0.003510251191
                        ]
                      },
                      {
                        "learn": [
                          0.002582499196
                        ],
                        "iteration": 398,
                        "passed_time": 31.14157729,
                        "remaining_time": 359.1037521,
                        "test": [
                          0.9603051589,
                          0.003510076168
                        ]
                      },
                      {
                        "learn": [
                          0.002580347718
                        ],
                        "iteration": 399,
                        "passed_time": 31.18351657,
                        "remaining_time": 358.6104406,
                        "test": [
                          0.9603436833,
                          0.003508708981
                        ]
                      },
                      {
                        "learn": [
                          0.002579371064
                        ],
                        "iteration": 400,
                        "passed_time": 31.22389297,
                        "remaining_time": 358.1014558,
                        "test": [
                          0.9603373471,
                          0.003508705143
                        ]
                      },
                      {
                        "learn": [
                          0.002578274614
                        ],
                        "iteration": 401,
                        "passed_time": 31.26408679,
                        "remaining_time": 357.5927141,
                        "test": [
                          0.9603414023,
                          0.00350780348
                        ]
                      },
                      {
                        "learn": [
                          0.002576550504
                        ],
                        "iteration": 402,
                        "passed_time": 31.31050762,
                        "remaining_time": 357.1573289,
                        "test": [
                          0.9604778852,
                          0.003506466979
                        ]
                      },
                      {
                        "learn": [
                          0.002575327703
                        ],
                        "iteration": 403,
                        "passed_time": 31.38282213,
                        "remaining_time": 357.0184419,
                        "test": [
                          0.9604625514,
                          0.003505798844
                        ]
                      },
                      {
                        "learn": [
                          0.002574249041
                        ],
                        "iteration": 404,
                        "passed_time": 31.42339771,
                        "remaining_time": 356.5197839,
                        "test": [
                          0.9604666066,
                          0.003504894578
                        ]
                      },
                      {
                        "learn": [
                          0.002573209591
                        ],
                        "iteration": 405,
                        "passed_time": 31.46754464,
                        "remaining_time": 356.0637932,
                        "test": [
                          0.9604807998,
                          0.003504266064
                        ]
                      },
                      {
                        "learn": [
                          0.002572161862
                        ],
                        "iteration": 406,
                        "passed_time": 31.51968186,
                        "remaining_time": 355.699997,
                        "test": [
                          0.9604833343,
                          0.003503397193
                        ]
                      },
                      {
                        "learn": [
                          0.002570463326
                        ],
                        "iteration": 407,
                        "passed_time": 31.56199233,
                        "remaining_time": 355.2271293,
                        "test": [
                          0.9605693806,
                          0.003502215697
                        ]
                      },
                      {
                        "learn": [
                          0.002568768602
                        ],
                        "iteration": 408,
                        "passed_time": 31.60409871,
                        "remaining_time": 354.7540763,
                        "test": [
                          0.9605831937,
                          0.003501349468
                        ]
                      },
                      {
                        "learn": [
                          0.002566770471
                        ],
                        "iteration": 409,
                        "passed_time": 31.64601762,
                        "remaining_time": 354.2810266,
                        "test": [
                          0.9606057507,
                          0.003499964665
                        ]
                      },
                      {
                        "learn": [
                          0.002565567365
                        ],
                        "iteration": 410,
                        "passed_time": 31.68714074,
                        "remaining_time": 353.8011894,
                        "test": [
                          0.9606131008,
                          0.003499315244
                        ]
                      },
                      {
                        "learn": [
                          0.00256463071
                        ],
                        "iteration": 411,
                        "passed_time": 31.72826414,
                        "remaining_time": 353.3234851,
                        "test": [
                          0.9606213379,
                          0.003498784995
                        ]
                      },
                      {
                        "learn": [
                          0.002563430177
                        ],
                        "iteration": 412,
                        "passed_time": 31.7750979,
                        "remaining_time": 352.9113173,
                        "test": [
                          0.9605914308,
                          0.003498945865
                        ]
                      },
                      {
                        "learn": [
                          0.002562244953
                        ],
                        "iteration": 413,
                        "passed_time": 31.81478866,
                        "remaining_time": 352.4217894,
                        "test": [
                          0.9606866013,
                          0.003498397892
                        ]
                      },
                      {
                        "learn": [
                          0.002561247938
                        ],
                        "iteration": 414,
                        "passed_time": 31.85529004,
                        "remaining_time": 351.9433851,
                        "test": [
                          0.9606868547,
                          0.003497562875
                        ]
                      },
                      {
                        "learn": [
                          0.002560677771
                        ],
                        "iteration": 415,
                        "passed_time": 31.89526444,
                        "remaining_time": 351.4612794,
                        "test": [
                          0.9607459086,
                          0.003496731041
                        ]
                      },
                      {
                        "learn": [
                          0.002559703688
                        ],
                        "iteration": 416,
                        "passed_time": 31.93825164,
                        "remaining_time": 351.0144059,
                        "test": [
                          0.9607589613,
                          0.003496099255
                        ]
                      },
                      {
                        "learn": [
                          0.002558546487
                        ],
                        "iteration": 417,
                        "passed_time": 31.97836922,
                        "remaining_time": 350.538009,
                        "test": [
                          0.9609197753,
                          0.003495366657
                        ]
                      },
                      {
                        "learn": [
                          0.00255760541
                        ],
                        "iteration": 418,
                        "passed_time": 32.01843193,
                        "remaining_time": 350.0630947,
                        "test": [
                          0.9612449518,
                          0.003494670206
                        ]
                      },
                      {
                        "learn": [
                          0.002556618469
                        ],
                        "iteration": 419,
                        "passed_time": 32.05879629,
                        "remaining_time": 349.5935404,
                        "test": [
                          0.9612486268,
                          0.003493842417
                        ]
                      },
                      {
                        "learn": [
                          0.00255482633
                        ],
                        "iteration": 420,
                        "passed_time": 32.10073054,
                        "remaining_time": 349.1431001,
                        "test": [
                          0.9612799279,
                          0.00349251163
                        ]
                      },
                      {
                        "learn": [
                          0.002554058695
                        ],
                        "iteration": 421,
                        "passed_time": 32.14390743,
                        "remaining_time": 348.7080764,
                        "test": [
                          0.9612851236,
                          0.003491749692
                        ]
                      },
                      {
                        "learn": [
                          0.002552811224
                        ],
                        "iteration": 422,
                        "passed_time": 32.18487721,
                        "remaining_time": 348.2510237,
                        "test": [
                          0.9613108488,
                          0.003490949437
                        ]
                      },
                      {
                        "learn": [
                          0.002551983586
                        ],
                        "iteration": 423,
                        "passed_time": 32.22561239,
                        "remaining_time": 347.7934016,
                        "test": [
                          0.9612836029,
                          0.003490228765
                        ]
                      },
                      {
                        "learn": [
                          0.002551094439
                        ],
                        "iteration": 424,
                        "passed_time": 32.2657385,
                        "remaining_time": 347.331185,
                        "test": [
                          0.9612785339,
                          0.003490214701
                        ]
                      },
                      {
                        "learn": [
                          0.002550008815
                        ],
                        "iteration": 425,
                        "passed_time": 32.30567698,
                        "remaining_time": 346.8689355,
                        "test": [
                          0.9614128624,
                          0.00348952088
                        ]
                      },
                      {
                        "learn": [
                          0.002548681984
                        ],
                        "iteration": 426,
                        "passed_time": 32.46124258,
                        "remaining_time": 347.6469843,
                        "test": [
                          0.9614621584,
                          0.003488615152
                        ]
                      },
                      {
                        "learn": [
                          0.002548047573
                        ],
                        "iteration": 427,
                        "passed_time": 32.52091726,
                        "remaining_time": 347.3963405,
                        "test": [
                          0.9614553153,
                          0.003488341854
                        ]
                      },
                      {
                        "learn": [
                          0.002547513098
                        ],
                        "iteration": 428,
                        "passed_time": 32.56551825,
                        "remaining_time": 346.9859765,
                        "test": [
                          0.9614587369,
                          0.003487384038
                        ]
                      },
                      {
                        "learn": [
                          0.002546498228
                        ],
                        "iteration": 429,
                        "passed_time": 32.60480691,
                        "remaining_time": 346.5208548,
                        "test": [
                          0.9614695085,
                          0.00348638076
                        ]
                      },
                      {
                        "learn": [
                          0.002545290977
                        ],
                        "iteration": 430,
                        "passed_time": 32.64737975,
                        "remaining_time": 346.0925246,
                        "test": [
                          0.9614953604,
                          0.003485623782
                        ]
                      },
                      {
                        "learn": [
                          0.002543372141
                        ],
                        "iteration": 431,
                        "passed_time": 32.6893987,
                        "remaining_time": 345.6601233,
                        "test": [
                          0.9615193114,
                          0.003484084833
                        ]
                      },
                      {
                        "learn": [
                          0.002542501639
                        ],
                        "iteration": 432,
                        "passed_time": 32.72926919,
                        "remaining_time": 345.2068646,
                        "test": [
                          0.9615146226,
                          0.003484066221
                        ]
                      },
                      {
                        "learn": [
                          0.002541637061
                        ],
                        "iteration": 433,
                        "passed_time": 32.77028499,
                        "remaining_time": 344.7675605,
                        "test": [
                          0.96148725,
                          0.00348366199
                        ]
                      },
                      {
                        "learn": [
                          0.002540958719
                        ],
                        "iteration": 434,
                        "passed_time": 32.81032175,
                        "remaining_time": 344.3198133,
                        "test": [
                          0.9614867431,
                          0.003482902525
                        ]
                      },
                      {
                        "learn": [
                          0.002539130847
                        ],
                        "iteration": 435,
                        "passed_time": 32.85284881,
                        "remaining_time": 343.9000045,
                        "test": [
                          0.9615015699,
                          0.003481477953
                        ]
                      },
                      {
                        "learn": [
                          0.00253884468
                        ],
                        "iteration": 436,
                        "passed_time": 32.89269031,
                        "remaining_time": 343.4538807,
                        "test": [
                          0.9615063855,
                          0.003481121684
                        ]
                      },
                      {
                        "learn": [
                          0.002538560441
                        ],
                        "iteration": 437,
                        "passed_time": 32.93384971,
                        "remaining_time": 343.0233387,
                        "test": [
                          0.9615120881,
                          0.003480775464
                        ]
                      },
                      {
                        "learn": [
                          0.002537818093
                        ],
                        "iteration": 438,
                        "passed_time": 32.97836986,
                        "remaining_time": 342.6294873,
                        "test": [
                          0.961527802,
                          0.003480620902
                        ]
                      },
                      {
                        "learn": [
                          0.002537542141
                        ],
                        "iteration": 439,
                        "passed_time": 33.01790922,
                        "remaining_time": 342.1856046,
                        "test": [
                          0.9615335046,
                          0.003480281785
                        ]
                      },
                      {
                        "learn": [
                          0.002536860726
                        ],
                        "iteration": 440,
                        "passed_time": 33.05617466,
                        "remaining_time": 341.7303861,
                        "test": [
                          0.9615418685,
                          0.003480186258
                        ]
                      },
                      {
                        "learn": [
                          0.002535829206
                        ],
                        "iteration": 441,
                        "passed_time": 33.09680403,
                        "remaining_time": 341.3014316,
                        "test": [
                          0.9615455435,
                          0.003479657348
                        ]
                      },
                      {
                        "learn": [
                          0.002535120719
                        ],
                        "iteration": 442,
                        "passed_time": 33.13628764,
                        "remaining_time": 340.8624442,
                        "test": [
                          0.9615549212,
                          0.003478947027
                        ]
                      },
                      {
                        "learn": [
                          0.002534715256
                        ],
                        "iteration": 443,
                        "passed_time": 33.17599965,
                        "remaining_time": 340.4276,
                        "test": [
                          0.9615593565,
                          0.003478773671
                        ]
                      },
                      {
                        "learn": [
                          0.002533888116
                        ],
                        "iteration": 444,
                        "passed_time": 33.21553441,
                        "remaining_time": 339.9927174,
                        "test": [
                          0.9618754088,
                          0.003477886638
                        ]
                      },
                      {
                        "learn": [
                          0.002533617379
                        ],
                        "iteration": 445,
                        "passed_time": 33.25567615,
                        "remaining_time": 339.5658053,
                        "test": [
                          0.9618797174,
                          0.003477559659
                        ]
                      },
                      {
                        "learn": [
                          0.002532466063
                        ],
                        "iteration": 446,
                        "passed_time": 33.29482751,
                        "remaining_time": 339.1305361,
                        "test": [
                          0.9618963184,
                          0.003476888477
                        ]
                      },
                      {
                        "learn": [
                          0.002531646567
                        ],
                        "iteration": 447,
                        "passed_time": 33.33560744,
                        "remaining_time": 338.7135827,
                        "test": [
                          0.962201599,
                          0.003475991352
                        ]
                      },
                      {
                        "learn": [
                          0.002530938222
                        ],
                        "iteration": 448,
                        "passed_time": 33.37724064,
                        "remaining_time": 338.3069536,
                        "test": [
                          0.9622326466,
                          0.003475850184
                        ]
                      },
                      {
                        "learn": [
                          0.002530040575
                        ],
                        "iteration": 449,
                        "passed_time": 33.41757879,
                        "remaining_time": 337.8888522,
                        "test": [
                          0.9622330268,
                          0.003475076665
                        ]
                      },
                      {
                        "learn": [
                          0.002529363447
                        ],
                        "iteration": 450,
                        "passed_time": 33.45733659,
                        "remaining_time": 337.4665724,
                        "test": [
                          0.9622374622,
                          0.003474389728
                        ]
                      },
                      {
                        "learn": [
                          0.002528210421
                        ],
                        "iteration": 451,
                        "passed_time": 33.55286664,
                        "remaining_time": 337.6071626,
                        "test": [
                          0.9622282112,
                          0.00347397513
                        ]
                      },
                      {
                        "learn": [
                          0.002527733237
                        ],
                        "iteration": 452,
                        "passed_time": 33.59403325,
                        "remaining_time": 337.2010357,
                        "test": [
                          0.9622311259,
                          0.003473294058
                        ]
                      },
                      {
                        "learn": [
                          0.00252721841
                        ],
                        "iteration": 453,
                        "passed_time": 33.63419954,
                        "remaining_time": 336.7865003,
                        "test": [
                          0.9622383492,
                          0.003472722114
                        ]
                      },
                      {
                        "learn": [
                          0.002526438914
                        ],
                        "iteration": 454,
                        "passed_time": 33.67502028,
                        "remaining_time": 336.3801477,
                        "test": [
                          0.9622507683,
                          0.003471749504
                        ]
                      },
                      {
                        "learn": [
                          0.002524675689
                        ],
                        "iteration": 455,
                        "passed_time": 33.71718534,
                        "remaining_time": 335.9887943,
                        "test": [
                          0.9622629339,
                          0.003470571599
                        ]
                      },
                      {
                        "learn": [
                          0.002523625317
                        ],
                        "iteration": 456,
                        "passed_time": 33.75826373,
                        "remaining_time": 335.5881666,
                        "test": [
                          0.9624194393,
                          0.003469321777
                        ]
                      },
                      {
                        "learn": [
                          0.002522231259
                        ],
                        "iteration": 457,
                        "passed_time": 33.79880313,
                        "remaining_time": 335.1837637,
                        "test": [
                          0.962719144,
                          0.00346790409
                        ]
                      },
                      {
                        "learn": [
                          0.002521145306
                        ],
                        "iteration": 458,
                        "passed_time": 33.84006137,
                        "remaining_time": 334.7880582,
                        "test": [
                          0.9627603296,
                          0.003467263675
                        ]
                      },
                      {
                        "learn": [
                          0.002520762345
                        ],
                        "iteration": 459,
                        "passed_time": 33.880163,
                        "remaining_time": 334.3824783,
                        "test": [
                          0.9627636245,
                          0.003467091819
                        ]
                      },
                      {
                        "learn": [
                          0.002519781617
                        ],
                        "iteration": 460,
                        "passed_time": 33.92110914,
                        "remaining_time": 333.9867991,
                        "test": [
                          0.9627693271,
                          0.003466762454
                        ]
                      },
                      {
                        "learn": [
                          0.00251903391
                        ],
                        "iteration": 461,
                        "passed_time": 33.96397226,
                        "remaining_time": 333.6114851,
                        "test": [
                          0.9627436019,
                          0.003466038552
                        ]
                      },
                      {
                        "learn": [
                          0.002518656949
                        ],
                        "iteration": 462,
                        "passed_time": 34.00698422,
                        "remaining_time": 333.2390657,
                        "test": [
                          0.9627493046,
                          0.003465867437
                        ]
                      },
                      {
                        "learn": [
                          0.00251802061
                        ],
                        "iteration": 463,
                        "passed_time": 34.04653358,
                        "remaining_time": 332.8342162,
                        "test": [
                          0.9627590624,
                          0.003465790576
                        ]
                      },
                      {
                        "learn": [
                          0.002517652007
                        ],
                        "iteration": 464,
                        "passed_time": 34.08612018,
                        "remaining_time": 332.4313011,
                        "test": [
                          0.9627627374,
                          0.003465627312
                        ]
                      },
                      {
                        "learn": [
                          0.00251649662
                        ],
                        "iteration": 465,
                        "passed_time": 34.12720708,
                        "remaining_time": 332.0445427,
                        "test": [
                          0.962901628,
                          0.003464760982
                        ]
                      },
                      {
                        "learn": [
                          0.002516011222
                        ],
                        "iteration": 466,
                        "passed_time": 34.16767115,
                        "remaining_time": 331.6532191,
                        "test": [
                          0.962997052,
                          0.003464306473
                        ]
                      },
                      {
                        "learn": [
                          0.002515239444
                        ],
                        "iteration": 467,
                        "passed_time": 34.20699377,
                        "remaining_time": 331.2523414,
                        "test": [
                          0.9629834924,
                          0.003463802834
                        ]
                      },
                      {
                        "learn": [
                          0.002514609606
                        ],
                        "iteration": 468,
                        "passed_time": 34.24591099,
                        "remaining_time": 330.8490889,
                        "test": [
                          0.9629966718,
                          0.003463444069
                        ]
                      },
                      {
                        "learn": [
                          0.002513533226
                        ],
                        "iteration": 469,
                        "passed_time": 34.28546868,
                        "remaining_time": 330.4535599,
                        "test": [
                          0.9630255651,
                          0.00346248701
                        ]
                      },
                      {
                        "learn": [
                          0.002511556308
                        ],
                        "iteration": 470,
                        "passed_time": 34.32661304,
                        "remaining_time": 330.0747993,
                        "test": [
                          0.9630656102,
                          0.003461186315
                        ]
                      },
                      {
                        "learn": [
                          0.002510583511
                        ],
                        "iteration": 471,
                        "passed_time": 34.36800469,
                        "remaining_time": 329.6998416,
                        "test": [
                          0.9631325211,
                          0.003460114074
                        ]
                      },
                      {
                        "learn": [
                          0.002509629211
                        ],
                        "iteration": 472,
                        "passed_time": 34.40846937,
                        "remaining_time": 329.3174225,
                        "test": [
                          0.9632382097,
                          0.003459374858
                        ]
                      },
                      {
                        "learn": [
                          0.002508562335
                        ],
                        "iteration": 473,
                        "passed_time": 34.44792607,
                        "remaining_time": 328.9268215,
                        "test": [
                          0.9632243967,
                          0.003458829567
                        ]
                      },
                      {
                        "learn": [
                          0.002507485669
                        ],
                        "iteration": 474,
                        "passed_time": 34.48630011,
                        "remaining_time": 328.5273853,
                        "test": [
                          0.9632167932,
                          0.003457954558
                        ]
                      },
                      {
                        "learn": [
                          0.002506219244
                        ],
                        "iteration": 475,
                        "passed_time": 34.5771662,
                        "remaining_time": 328.6283611,
                        "test": [
                          0.963404473,
                          0.003456909564
                        ]
                      },
                      {
                        "learn": [
                          0.002505423745
                        ],
                        "iteration": 476,
                        "passed_time": 34.618698,
                        "remaining_time": 328.2607359,
                        "test": [
                          0.9633754529,
                          0.00345653328
                        ]
                      },
                      {
                        "learn": [
                          0.002504421061
                        ],
                        "iteration": 477,
                        "passed_time": 34.659613,
                        "remaining_time": 327.8886401,
                        "test": [
                          0.9634260162,
                          0.003455895416
                        ]
                      },
                      {
                        "learn": [
                          0.002502795654
                        ],
                        "iteration": 478,
                        "passed_time": 34.70185856,
                        "remaining_time": 327.5304855,
                        "test": [
                          0.9634428706,
                          0.003454654367
                        ]
                      },
                      {
                        "learn": [
                          0.002500997063
                        ],
                        "iteration": 479,
                        "passed_time": 34.74507902,
                        "remaining_time": 327.1828274,
                        "test": [
                          0.9634452784,
                          0.003453354173
                        ]
                      },
                      {
                        "learn": [
                          0.002500203327
                        ],
                        "iteration": 480,
                        "passed_time": 34.78622924,
                        "remaining_time": 326.8169853,
                        "test": [
                          0.9634575707,
                          0.003452857632
                        ]
                      },
                      {
                        "learn": [
                          0.002498843562
                        ],
                        "iteration": 481,
                        "passed_time": 34.8283552,
                        "remaining_time": 326.4616365,
                        "test": [
                          0.9634759459,
                          0.003452381869
                        ]
                      },
                      {
                        "learn": [
                          0.002498065283
                        ],
                        "iteration": 482,
                        "passed_time": 34.8688869,
                        "remaining_time": 326.0926752,
                        "test": [
                          0.9637321839,
                          0.003451503744
                        ]
                      },
                      {
                        "learn": [
                          0.002497085339
                        ],
                        "iteration": 483,
                        "passed_time": 34.90693195,
                        "remaining_time": 325.7018692,
                        "test": [
                          0.9637684272,
                          0.003450937525
                        ]
                      },
                      {
                        "learn": [
                          0.002496416285
                        ],
                        "iteration": 484,
                        "passed_time": 34.95022194,
                        "remaining_time": 325.3613445,
                        "test": [
                          0.9637669065,
                          0.003451148091
                        ]
                      },
                      {
                        "learn": [
                          0.002495520067
                        ],
                        "iteration": 485,
                        "passed_time": 34.99366724,
                        "remaining_time": 325.0234854,
                        "test": [
                          0.9638007421,
                          0.003450125772
                        ]
                      },
                      {
                        "learn": [
                          0.002494925162
                        ],
                        "iteration": 486,
                        "passed_time": 35.03542477,
                        "remaining_time": 324.671195,
                        "test": [
                          0.9638181035,
                          0.00345005611
                        ]
                      },
                      {
                        "learn": [
                          0.002493193718
                        ],
                        "iteration": 487,
                        "passed_time": 35.07539063,
                        "remaining_time": 324.3036117,
                        "test": [
                          0.9637964335,
                          0.003448947904
                        ]
                      },
                      {
                        "learn": [
                          0.002492653174
                        ],
                        "iteration": 488,
                        "passed_time": 35.11535569,
                        "remaining_time": 323.937361,
                        "test": [
                          0.9638808323,
                          0.003448274147
                        ]
                      },
                      {
                        "learn": [
                          0.0024919389
                        ],
                        "iteration": 489,
                        "passed_time": 35.15462468,
                        "remaining_time": 323.5660353,
                        "test": [
                          0.9638651184,
                          0.003448083043
                        ]
                      },
                      {
                        "learn": [
                          0.002490903524
                        ],
                        "iteration": 490,
                        "passed_time": 35.19576063,
                        "remaining_time": 323.2132071,
                        "test": [
                          0.963895279,
                          0.003447407494
                        ]
                      },
                      {
                        "learn": [
                          0.002490484919
                        ],
                        "iteration": 491,
                        "passed_time": 35.23650189,
                        "remaining_time": 322.8580295,
                        "test": [
                          0.9639393793,
                          0.003447552879
                        ]
                      },
                      {
                        "learn": [
                          0.002490131961
                        ],
                        "iteration": 492,
                        "passed_time": 35.2764921,
                        "remaining_time": 322.4972614,
                        "test": [
                          0.9639416604,
                          0.003447384093
                        ]
                      },
                      {
                        "learn": [
                          0.002489351397
                        ],
                        "iteration": 493,
                        "passed_time": 35.31656702,
                        "remaining_time": 322.1385647,
                        "test": [
                          0.9639378586,
                          0.003447350758
                        ]
                      },
                      {
                        "learn": [
                          0.002488443417
                        ],
                        "iteration": 494,
                        "passed_time": 35.35802201,
                        "remaining_time": 321.7937154,
                        "test": [
                          0.9639804382,
                          0.00344633717
                        ]
                      },
                      {
                        "learn": [
                          0.002487554416
                        ],
                        "iteration": 495,
                        "passed_time": 35.39870903,
                        "remaining_time": 321.4431159,
                        "test": [
                          0.9642190614,
                          0.003445427602
                        ]
                      },
                      {
                        "learn": [
                          0.002486595619
                        ],
                        "iteration": 496,
                        "passed_time": 35.44024837,
                        "remaining_time": 321.1014857,
                        "test": [
                          0.96423769,
                          0.003444708256
                        ]
                      },
                      {
                        "learn": [
                          0.00248605993
                        ],
                        "iteration": 497,
                        "passed_time": 35.47942828,
                        "remaining_time": 320.7397312,
                        "test": [
                          0.9641905483,
                          0.003443740202
                        ]
                      },
                      {
                        "learn": [
                          0.002485087893
                        ],
                        "iteration": 498,
                        "passed_time": 35.52050015,
                        "remaining_time": 320.3963351,
                        "test": [
                          0.9641905483,
                          0.003443229312
                        ]
                      },
                      {
                        "learn": [
                          0.002484194244
                        ],
                        "iteration": 499,
                        "passed_time": 35.61893219,
                        "remaining_time": 320.5703897,
                        "test": [
                          0.9641927026,
                          0.003442804642
                        ]
                      },
                      {
                        "learn": [
                          0.002483332243
                        ],
                        "iteration": 500,
                        "passed_time": 35.66245546,
                        "remaining_time": 320.2502737,
                        "test": [
                          0.9642327477,
                          0.003441803585
                        ]
                      },
                      {
                        "learn": [
                          0.002482382586
                        ],
                        "iteration": 501,
                        "passed_time": 35.70451292,
                        "remaining_time": 319.9181257,
                        "test": [
                          0.9642568255,
                          0.003441070228
                        ]
                      },
                      {
                        "learn": [
                          0.002480607291
                        ],
                        "iteration": 502,
                        "passed_time": 35.74636885,
                        "remaining_time": 319.5853295,
                        "test": [
                          0.9642527703,
                          0.003440892135
                        ]
                      },
                      {
                        "learn": [
                          0.002478807339
                        ],
                        "iteration": 503,
                        "passed_time": 35.78676502,
                        "remaining_time": 319.2406657,
                        "test": [
                          0.9642143726,
                          0.003439777968
                        ]
                      },
                      {
                        "learn": [
                          0.00247795998
                        ],
                        "iteration": 504,
                        "passed_time": 35.82774688,
                        "remaining_time": 318.9024203,
                        "test": [
                          0.9642161468,
                          0.003439373937
                        ]
                      },
                      {
                        "learn": [
                          0.002477589022
                        ],
                        "iteration": 505,
                        "passed_time": 35.86937406,
                        "remaining_time": 318.5710811,
                        "test": [
                          0.9643157526,
                          0.003439050354
                        ]
                      },
                      {
                        "learn": [
                          0.002477335643
                        ],
                        "iteration": 506,
                        "passed_time": 35.90948906,
                        "remaining_time": 318.2274839,
                        "test": [
                          0.9643190475,
                          0.003438678309
                        ]
                      },
                      {
                        "learn": [
                          0.002477103054
                        ],
                        "iteration": 507,
                        "passed_time": 35.95288043,
                        "remaining_time": 317.9140529,
                        "test": [
                          0.964334001,
                          0.003438577809
                        ]
                      },
                      {
                        "learn": [
                          0.002476808531
                        ],
                        "iteration": 508,
                        "passed_time": 35.99355945,
                        "remaining_time": 317.5777514,
                        "test": [
                          0.9643436321,
                          0.00343852241
                        ]
                      },
                      {
                        "learn": [
                          0.002476496577
                        ],
                        "iteration": 509,
                        "passed_time": 36.03687801,
                        "remaining_time": 317.2658476,
                        "test": [
                          0.9643343812,
                          0.003438401842
                        ]
                      },
                      {
                        "learn": [
                          0.002475702936
                        ],
                        "iteration": 510,
                        "passed_time": 36.075505,
                        "remaining_time": 316.9137807,
                        "test": [
                          0.9643332407,
                          0.00343834148
                        ]
                      },
                      {
                        "learn": [
                          0.002474826675
                        ],
                        "iteration": 511,
                        "passed_time": 36.11531441,
                        "remaining_time": 316.5733029,
                        "test": [
                          0.9645353671,
                          0.003437444402
                        ]
                      },
                      {
                        "learn": [
                          0.002474005606
                        ],
                        "iteration": 512,
                        "passed_time": 36.15718739,
                        "remaining_time": 316.2520464,
                        "test": [
                          0.9645343533,
                          0.003436840015
                        ]
                      },
                      {
                        "learn": [
                          0.002473499207
                        ],
                        "iteration": 513,
                        "passed_time": 36.19908028,
                        "remaining_time": 315.9320509,
                        "test": [
                          0.9644963358,
                          0.003435897158
                        ]
                      },
                      {
                        "learn": [
                          0.002472667567
                        ],
                        "iteration": 514,
                        "passed_time": 36.239862,
                        "remaining_time": 315.6034584,
                        "test": [
                          0.964524342,
                          0.003434885005
                        ]
                      },
                      {
                        "learn": [
                          0.002472024798
                        ],
                        "iteration": 515,
                        "passed_time": 36.27991672,
                        "remaining_time": 315.2696639,
                        "test": [
                          0.9645202868,
                          0.003434580144
                        ]
                      },
                      {
                        "learn": [
                          0.002471076214
                        ],
                        "iteration": 516,
                        "passed_time": 36.32155172,
                        "remaining_time": 314.9507086,
                        "test": [
                          0.9645430973,
                          0.00343384648
                        ]
                      },
                      {
                        "learn": [
                          0.002469515651
                        ],
                        "iteration": 517,
                        "passed_time": 36.36166283,
                        "remaining_time": 314.6196386,
                        "test": [
                          0.9645273834,
                          0.003433675071
                        ]
                      },
                      {
                        "learn": [
                          0.002469051112
                        ],
                        "iteration": 518,
                        "passed_time": 36.403372,
                        "remaining_time": 314.3034873,
                        "test": [
                          0.9645586845,
                          0.003433697627
                        ]
                      },
                      {
                        "learn": [
                          0.0024684052
                        ],
                        "iteration": 519,
                        "passed_time": 36.44384306,
                        "remaining_time": 313.9777248,
                        "test": [
                          0.964576426,
                          0.003433499093
                        ]
                      },
                      {
                        "learn": [
                          0.002467542458
                        ],
                        "iteration": 520,
                        "passed_time": 36.48484457,
                        "remaining_time": 313.6576177,
                        "test": [
                          0.9646024047,
                          0.003433106643
                        ]
                      },
                      {
                        "learn": [
                          0.002466948075
                        ],
                        "iteration": 521,
                        "passed_time": 36.52540908,
                        "remaining_time": 313.3348312,
                        "test": [
                          0.9646086142,
                          0.003433072504
                        ]
                      },
                      {
                        "learn": [
                          0.002466514753
                        ],
                        "iteration": 522,
                        "passed_time": 36.59387825,
                        "remaining_time": 313.2519941,
                        "test": [
                          0.964662599,
                          0.003433039357
                        ]
                      },
                      {
                        "learn": [
                          0.002465620679
                        ],
                        "iteration": 523,
                        "passed_time": 36.66722444,
                        "remaining_time": 313.2108714,
                        "test": [
                          0.9647186115,
                          0.003431946973
                        ]
                      },
                      {
                        "learn": [
                          0.002464926479
                        ],
                        "iteration": 524,
                        "passed_time": 36.70728145,
                        "remaining_time": 312.8858752,
                        "test": [
                          0.9647149365,
                          0.003431463321
                        ]
                      },
                      {
                        "learn": [
                          0.002464084166
                        ],
                        "iteration": 525,
                        "passed_time": 36.74551246,
                        "remaining_time": 312.5464311,
                        "test": [
                          0.9647406617,
                          0.003430753618
                        ]
                      },
                      {
                        "learn": [
                          0.002463631367
                        ],
                        "iteration": 526,
                        "passed_time": 36.78593883,
                        "remaining_time": 312.2267635,
                        "test": [
                          0.9647453505,
                          0.003430225056
                        ]
                      },
                      {
                        "learn": [
                          0.002462907521
                        ],
                        "iteration": 527,
                        "passed_time": 36.82599681,
                        "remaining_time": 311.9050336,
                        "test": [
                          0.9647405349,
                          0.003430198015
                        ]
                      },
                      {
                        "learn": [
                          0.002461473129
                        ],
                        "iteration": 528,
                        "passed_time": 36.86636664,
                        "remaining_time": 311.5870043,
                        "test": [
                          0.9647184848,
                          0.003429112773
                        ]
                      },
                      {
                        "learn": [
                          0.002460664418
                        ],
                        "iteration": 529,
                        "passed_time": 36.90726554,
                        "remaining_time": 311.2744848,
                        "test": [
                          0.9647563756,
                          0.003428151048
                        ]
                      },
                      {
                        "learn": [
                          0.002460166091
                        ],
                        "iteration": 530,
                        "passed_time": 36.94893111,
                        "remaining_time": 310.9694409,
                        "test": [
                          0.9647233003,
                          0.003427235559
                        ]
                      },
                      {
                        "learn": [
                          0.00245927287
                        ],
                        "iteration": 531,
                        "passed_time": 36.98820769,
                        "remaining_time": 310.6453233,
                        "test": [
                          0.9647182313,
                          0.003426536892
                        ]
                      },
                      {
                        "learn": [
                          0.002458401936
                        ],
                        "iteration": 532,
                        "passed_time": 37.02836424,
                        "remaining_time": 310.3296493,
                        "test": [
                          0.9647258348,
                          0.003425864088
                        ]
                      },
                      {
                        "learn": [
                          0.002457568653
                        ],
                        "iteration": 533,
                        "passed_time": 37.06947816,
                        "remaining_time": 310.0230139,
                        "test": [
                          0.9647032778,
                          0.003426019122
                        ]
                      },
                      {
                        "learn": [
                          0.002457173123
                        ],
                        "iteration": 534,
                        "passed_time": 37.11096196,
                        "remaining_time": 309.7204582,
                        "test": [
                          0.9646750181,
                          0.003426188588
                        ]
                      },
                      {
                        "learn": [
                          0.002456750231
                        ],
                        "iteration": 535,
                        "passed_time": 37.1513531,
                        "remaining_time": 309.4097765,
                        "test": [
                          0.9646278764,
                          0.003426611567
                        ]
                      },
                      {
                        "learn": [
                          0.002455909657
                        ],
                        "iteration": 536,
                        "passed_time": 37.18913148,
                        "remaining_time": 309.078387,
                        "test": [
                          0.964642323,
                          0.003426202891
                        ]
                      },
                      {
                        "learn": [
                          0.002455118517
                        ],
                        "iteration": 537,
                        "passed_time": 37.22880874,
                        "remaining_time": 308.7638376,
                        "test": [
                          0.9646337057,
                          0.003425591276
                        ]
                      },
                      {
                        "learn": [
                          0.00245464412
                        ],
                        "iteration": 538,
                        "passed_time": 37.26911923,
                        "remaining_time": 308.455549,
                        "test": [
                          0.9646276229,
                          0.00342535711
                        ]
                      },
                      {
                        "learn": [
                          0.002453793044
                        ],
                        "iteration": 539,
                        "passed_time": 37.31091719,
                        "remaining_time": 308.1605383,
                        "test": [
                          0.9646439705,
                          0.003424735751
                        ]
                      },
                      {
                        "learn": [
                          0.002453035198
                        ],
                        "iteration": 540,
                        "passed_time": 37.35097344,
                        "remaining_time": 307.8521083,
                        "test": [
                          0.9646461248,
                          0.003423815141
                        ]
                      },
                      {
                        "learn": [
                          0.002452260705
                        ],
                        "iteration": 541,
                        "passed_time": 37.39265521,
                        "remaining_time": 307.5580386,
                        "test": [
                          0.9646784397,
                          0.003422845481
                        ]
                      },
                      {
                        "learn": [
                          0.002451321334
                        ],
                        "iteration": 542,
                        "passed_time": 37.43427783,
                        "remaining_time": 307.2644131,
                        "test": [
                          0.9646846492,
                          0.00342296833
                        ]
                      },
                      {
                        "learn": [
                          0.00245086101
                        ],
                        "iteration": 543,
                        "passed_time": 37.47656355,
                        "remaining_time": 306.9771456,
                        "test": [
                          0.964672737,
                          0.00342286766
                        ]
                      },
                      {
                        "learn": [
                          0.002450050512
                        ],
                        "iteration": 544,
                        "passed_time": 37.51839091,
                        "remaining_time": 306.6870303,
                        "test": [
                          0.9646808475,
                          0.003422701729
                        ]
                      },
                      {
                        "learn": [
                          0.002449471677
                        ],
                        "iteration": 545,
                        "passed_time": 37.5591772,
                        "remaining_time": 306.3893319,
                        "test": [
                          0.9646837621,
                          0.003422195732
                        ]
                      },
                      {
                        "learn": [
                          0.002448802122
                        ],
                        "iteration": 546,
                        "passed_time": 37.60381138,
                        "remaining_time": 306.1238978,
                        "test": [
                          0.9648307632,
                          0.003421449109
                        ]
                      },
                      {
                        "learn": [
                          0.002448039128
                        ],
                        "iteration": 547,
                        "passed_time": 37.6991631,
                        "remaining_time": 306.2713031,
                        "test": [
                          0.9648344382,
                          0.003421247845
                        ]
                      },
                      {
                        "learn": [
                          0.002446470557
                        ],
                        "iteration": 548,
                        "passed_time": 37.74106507,
                        "remaining_time": 305.984482,
                        "test": [
                          0.9647933793,
                          0.003420289543
                        ]
                      },
                      {
                        "learn": [
                          0.002446217823
                        ],
                        "iteration": 549,
                        "passed_time": 37.7826298,
                        "remaining_time": 305.6958229,
                        "test": [
                          0.9647983216,
                          0.00342022562
                        ]
                      },
                      {
                        "learn": [
                          0.002445476472
                        ],
                        "iteration": 550,
                        "passed_time": 37.82284399,
                        "remaining_time": 305.3971559,
                        "test": [
                          0.9648196114,
                          0.003419899833
                        ]
                      },
                      {
                        "learn": [
                          0.0024451288
                        ],
                        "iteration": 551,
                        "passed_time": 37.86439274,
                        "remaining_time": 305.1101792,
                        "test": [
                          0.9647654998,
                          0.003420093074
                        ]
                      },
                      {
                        "learn": [
                          0.002444282588
                        ],
                        "iteration": 552,
                        "passed_time": 37.90387533,
                        "remaining_time": 304.8074749,
                        "test": [
                          0.9647713291,
                          0.00341925437
                        ]
                      },
                      {
                        "learn": [
                          0.002443528668
                        ],
                        "iteration": 553,
                        "passed_time": 37.94967878,
                        "remaining_time": 304.5564474,
                        "test": [
                          0.9648030104,
                          0.003418300596
                        ]
                      },
                      {
                        "learn": [
                          0.002443078059
                        ],
                        "iteration": 554,
                        "passed_time": 37.98960433,
                        "remaining_time": 304.2590833,
                        "test": [
                          0.9648056716,
                          0.003417740293
                        ]
                      },
                      {
                        "learn": [
                          0.002442358999
                        ],
                        "iteration": 555,
                        "passed_time": 38.02968088,
                        "remaining_time": 303.9638522,
                        "test": [
                          0.964801363,
                          0.00341733949
                        ]
                      },
                      {
                        "learn": [
                          0.002441511996
                        ],
                        "iteration": 556,
                        "passed_time": 38.07022402,
                        "remaining_time": 303.6732591,
                        "test": [
                          0.9647781723,
                          0.003416990566
                        ]
                      },
                      {
                        "learn": [
                          0.002440852941
                        ],
                        "iteration": 557,
                        "passed_time": 38.11461979,
                        "remaining_time": 303.4142313,
                        "test": [
                          0.9647894508,
                          0.003416561212
                        ]
                      },
                      {
                        "learn": [
                          0.002440555774
                        ],
                        "iteration": 558,
                        "passed_time": 38.15919865,
                        "remaining_time": 303.1574261,
                        "test": [
                          0.9647145563,
                          0.00341620688
                        ]
                      },
                      {
                        "learn": [
                          0.002439767635
                        ],
                        "iteration": 559,
                        "passed_time": 38.19701323,
                        "remaining_time": 302.8477478,
                        "test": [
                          0.9646941536,
                          0.003416182872
                        ]
                      },
                      {
                        "learn": [
                          0.002438990355
                        ],
                        "iteration": 560,
                        "passed_time": 38.23783148,
                        "remaining_time": 302.5628056,
                        "test": [
                          0.9646751448,
                          0.003415591069
                        ]
                      },
                      {
                        "learn": [
                          0.002438560392
                        ],
                        "iteration": 561,
                        "passed_time": 38.27690328,
                        "remaining_time": 302.2649409,
                        "test": [
                          0.9646508136,
                          0.003414728041
                        ]
                      },
                      {
                        "learn": [
                          0.002437683458
                        ],
                        "iteration": 562,
                        "passed_time": 38.31904076,
                        "remaining_time": 301.9921561,
                        "test": [
                          0.9646590507,
                          0.003414316109
                        ]
                      },
                      {
                        "learn": [
                          0.002437017403
                        ],
                        "iteration": 563,
                        "passed_time": 38.35939411,
                        "remaining_time": 301.7061565,
                        "test": [
                          0.9648197381,
                          0.00341375798
                        ]
                      },
                      {
                        "learn": [
                          0.002436641945
                        ],
                        "iteration": 564,
                        "passed_time": 38.40170717,
                        "remaining_time": 301.4364094,
                        "test": [
                          0.9648147958,
                          0.003413834754
                        ]
                      },
                      {
                        "learn": [
                          0.002435144385
                        ],
                        "iteration": 565,
                        "passed_time": 38.44450211,
                        "remaining_time": 301.1712409,
                        "test": [
                          0.9651042358,
                          0.003412398951
                        ]
                      },
                      {
                        "learn": [
                          0.002434770211
                        ],
                        "iteration": 566,
                        "passed_time": 38.48650404,
                        "remaining_time": 300.9006568,
                        "test": [
                          0.9651335093,
                          0.003412142783
                        ]
                      },
                      {
                        "learn": [
                          0.002434009147
                        ],
                        "iteration": 567,
                        "passed_time": 38.52786376,
                        "remaining_time": 300.6258665,
                        "test": [
                          0.9651153876,
                          0.003411563275
                        ]
                      },
                      {
                        "learn": [
                          0.002433270771
                        ],
                        "iteration": 568,
                        "passed_time": 38.56619542,
                        "remaining_time": 300.3283162,
                        "test": [
                          0.9651183022,
                          0.003410948816
                        ]
                      },
                      {
                        "learn": [
                          0.002432822161
                        ],
                        "iteration": 569,
                        "passed_time": 38.60603478,
                        "remaining_time": 300.0433931,
                        "test": [
                          0.9651218506,
                          0.003410398289
                        ]
                      },
                      {
                        "learn": [
                          0.002432024762
                        ],
                        "iteration": 570,
                        "passed_time": 38.68293941,
                        "remaining_time": 300.0468277,
                        "test": [
                          0.96512071,
                          0.003409933034
                        ]
                      },
                      {
                        "learn": [
                          0.002431616514
                        ],
                        "iteration": 571,
                        "passed_time": 38.74846985,
                        "remaining_time": 299.961931,
                        "test": [
                          0.965125779,
                          0.003409616204
                        ]
                      },
                      {
                        "learn": [
                          0.002431310276
                        ],
                        "iteration": 572,
                        "passed_time": 38.78997502,
                        "remaining_time": 299.6914824,
                        "test": [
                          0.9651145005,
                          0.003409579422
                        ]
                      },
                      {
                        "learn": [
                          0.002430831166
                        ],
                        "iteration": 573,
                        "passed_time": 38.82875712,
                        "remaining_time": 299.4008345,
                        "test": [
                          0.9650928305,
                          0.003408690327
                        ]
                      },
                      {
                        "learn": [
                          0.002430257618
                        ],
                        "iteration": 574,
                        "passed_time": 38.86916101,
                        "remaining_time": 299.1235435,
                        "test": [
                          0.9650959986,
                          0.003408132056
                        ]
                      },
                      {
                        "learn": [
                          0.002429988669
                        ],
                        "iteration": 575,
                        "passed_time": 38.91072339,
                        "remaining_time": 298.8559727,
                        "test": [
                          0.9650821856,
                          0.00340798365
                        ]
                      },
                      {
                        "learn": [
                          0.002429102519
                        ],
                        "iteration": 576,
                        "passed_time": 38.95498111,
                        "remaining_time": 298.6098465,
                        "test": [
                          0.9650982797,
                          0.003407470278
                        ]
                      },
                      {
                        "learn": [
                          0.002427565687
                        ],
                        "iteration": 577,
                        "passed_time": 38.99505487,
                        "remaining_time": 298.3324094,
                        "test": [
                          0.965051138,
                          0.003406571629
                        ]
                      },
                      {
                        "learn": [
                          0.00242711465
                        ],
                        "iteration": 578,
                        "passed_time": 39.03606568,
                        "remaining_time": 298.0629471,
                        "test": [
                          0.9652021942,
                          0.003405931735
                        ]
                      },
                      {
                        "learn": [
                          0.002426359256
                        ],
                        "iteration": 579,
                        "passed_time": 39.07534747,
                        "remaining_time": 297.7810962,
                        "test": [
                          0.9651886346,
                          0.003405202149
                        ]
                      },
                      {
                        "learn": [
                          0.002425645624
                        ],
                        "iteration": 580,
                        "passed_time": 39.11516551,
                        "remaining_time": 297.504159,
                        "test": [
                          0.965189395,
                          0.003404680728
                        ]
                      },
                      {
                        "learn": [
                          0.002425099673
                        ],
                        "iteration": 581,
                        "passed_time": 39.1555628,
                        "remaining_time": 297.2324337,
                        "test": [
                          0.965194464,
                          0.003404148171
                        ]
                      },
                      {
                        "learn": [
                          0.002424325772
                        ],
                        "iteration": 582,
                        "passed_time": 39.19954025,
                        "remaining_time": 296.9886266,
                        "test": [
                          0.9652042218,
                          0.003403813642
                        ]
                      },
                      {
                        "learn": [
                          0.002423685791
                        ],
                        "iteration": 583,
                        "passed_time": 39.24005906,
                        "remaining_time": 296.7193507,
                        "test": [
                          0.9652978716,
                          0.003403077265
                        ]
                      },
                      {
                        "learn": [
                          0.002423270613
                        ],
                        "iteration": 584,
                        "passed_time": 39.27993687,
                        "remaining_time": 296.4460193,
                        "test": [
                          0.9653006596,
                          0.00340257848
                        ]
                      },
                      {
                        "learn": [
                          0.002422645133
                        ],
                        "iteration": 585,
                        "passed_time": 39.31995664,
                        "remaining_time": 296.1745539,
                        "test": [
                          0.9653903809,
                          0.003401875183
                        ]
                      },
                      {
                        "learn": [
                          0.002422051326
                        ],
                        "iteration": 586,
                        "passed_time": 39.36148327,
                        "remaining_time": 295.9152056,
                        "test": [
                          0.9654107836,
                          0.003401167552
                        ]
                      },
                      {
                        "learn": [
                          0.002421735802
                        ],
                        "iteration": 587,
                        "passed_time": 39.40425183,
                        "remaining_time": 295.6659168,
                        "test": [
                          0.9653628816,
                          0.003400942577
                        ]
                      },
                      {
                        "learn": [
                          0.002420930019
                        ],
                        "iteration": 588,
                        "passed_time": 39.44711103,
                        "remaining_time": 295.4180081,
                        "test": [
                          0.9654207949,
                          0.003399246316
                        ]
                      },
                      {
                        "learn": [
                          0.002420648783
                        ],
                        "iteration": 589,
                        "passed_time": 39.48820608,
                        "remaining_time": 295.1576082,
                        "test": [
                          0.9653666833,
                          0.003398989343
                        ]
                      },
                      {
                        "learn": [
                          0.002420137407
                        ],
                        "iteration": 590,
                        "passed_time": 39.53136747,
                        "remaining_time": 294.9133657,
                        "test": [
                          0.9653536306,
                          0.003399023459
                        ]
                      },
                      {
                        "learn": [
                          0.00241947478
                        ],
                        "iteration": 591,
                        "passed_time": 39.57217429,
                        "remaining_time": 294.6522707,
                        "test": [
                          0.9653970973,
                          0.003398141434
                        ]
                      },
                      {
                        "learn": [
                          0.002419075629
                        ],
                        "iteration": 592,
                        "passed_time": 39.61277717,
                        "remaining_time": 294.390403,
                        "test": [
                          0.9654420847,
                          0.00339832824
                        ]
                      },
                      {
                        "learn": [
                          0.002418255936
                        ],
                        "iteration": 593,
                        "passed_time": 39.65479515,
                        "remaining_time": 294.1397768,
                        "test": [
                          0.96545349,
                          0.003397957031
                        ]
                      },
                      {
                        "learn": [
                          0.002417628598
                        ],
                        "iteration": 594,
                        "passed_time": 39.73837961,
                        "remaining_time": 294.1975835,
                        "test": [
                          0.9654422114,
                          0.003397440019
                        ]
                      },
                      {
                        "learn": [
                          0.002416876034
                        ],
                        "iteration": 595,
                        "passed_time": 39.79597396,
                        "remaining_time": 294.062868,
                        "test": [
                          0.9654655288,
                          0.003396814921
                        ]
                      },
                      {
                        "learn": [
                          0.002416582081
                        ],
                        "iteration": 596,
                        "passed_time": 39.83637215,
                        "remaining_time": 293.8015855,
                        "test": [
                          0.9654678099,
                          0.003396678504
                        ]
                      },
                      {
                        "learn": [
                          0.002415970457
                        ],
                        "iteration": 597,
                        "passed_time": 39.87756691,
                        "remaining_time": 293.5469056,
                        "test": [
                          0.9653969706,
                          0.003396905819
                        ]
                      },
                      {
                        "learn": [
                          0.002415154383
                        ],
                        "iteration": 598,
                        "passed_time": 39.92040351,
                        "remaining_time": 293.3050014,
                        "test": [
                          0.9653736532,
                          0.003396584212
                        ]
                      },
                      {
                        "learn": [
                          0.002414752779
                        ],
                        "iteration": 599,
                        "passed_time": 39.96042561,
                        "remaining_time": 293.0431211,
                        "test": [
                          0.9653745403,
                          0.003396095582
                        ]
                      },
                      {
                        "learn": [
                          0.002413736236
                        ],
                        "iteration": 600,
                        "passed_time": 40.00334199,
                        "remaining_time": 292.8031637,
                        "test": [
                          0.9654111638,
                          0.003395445922
                        ]
                      },
                      {
                        "learn": [
                          0.002412744152
                        ],
                        "iteration": 601,
                        "passed_time": 40.04544421,
                        "remaining_time": 292.557913,
                        "test": [
                          0.9654370157,
                          0.003394265871
                        ]
                      },
                      {
                        "learn": [
                          0.002411358746
                        ],
                        "iteration": 602,
                        "passed_time": 40.0845927,
                        "remaining_time": 292.2917978,
                        "test": [
                          0.9654143319,
                          0.003394196152
                        ]
                      },
                      {
                        "learn": [
                          0.002410633039
                        ],
                        "iteration": 603,
                        "passed_time": 40.12514572,
                        "remaining_time": 292.0366566,
                        "test": [
                          0.9654570383,
                          0.003393745623
                        ]
                      },
                      {
                        "learn": [
                          0.002410250222
                        ],
                        "iteration": 604,
                        "passed_time": 40.16401191,
                        "remaining_time": 291.7699708,
                        "test": [
                          0.9654526029,
                          0.003393152543
                        ]
                      },
                      {
                        "learn": [
                          0.002409913481
                        ],
                        "iteration": 605,
                        "passed_time": 40.21440471,
                        "remaining_time": 291.5876143,
                        "test": [
                          0.9654809893,
                          0.00339263754
                        ]
                      },
                      {
                        "learn": [
                          0.002409078696
                        ],
                        "iteration": 606,
                        "passed_time": 40.25586253,
                        "remaining_time": 291.3410281,
                        "test": [
                          0.9655504346,
                          0.003392146732
                        ]
                      },
                      {
                        "learn": [
                          0.002408334945
                        ],
                        "iteration": 607,
                        "passed_time": 40.29708089,
                        "remaining_time": 291.0933869,
                        "test": [
                          0.9655683028,
                          0.003391325897
                        ]
                      },
                      {
                        "learn": [
                          0.002408136214
                        ],
                        "iteration": 608,
                        "passed_time": 40.33750043,
                        "remaining_time": 290.840664,
                        "test": [
                          0.965570077,
                          0.003391039824
                        ]
                      },
                      {
                        "learn": [
                          0.002407561453
                        ],
                        "iteration": 609,
                        "passed_time": 40.37919693,
                        "remaining_time": 290.5978271,
                        "test": [
                          0.9656733579,
                          0.003390332158
                        ]
                      },
                      {
                        "learn": [
                          0.002406867823
                        ],
                        "iteration": 610,
                        "passed_time": 40.42253043,
                        "remaining_time": 290.3674076,
                        "test": [
                          0.9656946477,
                          0.003390452543
                        ]
                      },
                      {
                        "learn": [
                          0.002406583584
                        ],
                        "iteration": 611,
                        "passed_time": 40.46455416,
                        "remaining_time": 290.1282086,
                        "test": [
                          0.9656956615,
                          0.003390318884
                        ]
                      },
                      {
                        "learn": [
                          0.00240527568
                        ],
                        "iteration": 612,
                        "passed_time": 40.50512559,
                        "remaining_time": 289.8792593,
                        "test": [
                          0.9656623328,
                          0.003389518499
                        ]
                      },
                      {
                        "learn": [
                          0.002404427439
                        ],
                        "iteration": 613,
                        "passed_time": 40.54500686,
                        "remaining_time": 289.6260588,
                        "test": [
                          0.965647506,
                          0.003389255341
                        ]
                      },
                      {
                        "learn": [
                          0.00240378681
                        ],
                        "iteration": 614,
                        "passed_time": 40.58453701,
                        "remaining_time": 289.3710484,
                        "test": [
                          0.9656415499,
                          0.003389311514
                        ]
                      },
                      {
                        "learn": [
                          0.002403400636
                        ],
                        "iteration": 615,
                        "passed_time": 40.62755641,
                        "remaining_time": 289.1415703,
                        "test": [
                          0.9656443378,
                          0.003388834877
                        ]
                      },
                      {
                        "learn": [
                          0.002402905167
                        ],
                        "iteration": 616,
                        "passed_time": 40.66736306,
                        "remaining_time": 288.889874,
                        "test": [
                          0.9656496603,
                          0.00338832952
                        ]
                      },
                      {
                        "learn": [
                          0.002401757637
                        ],
                        "iteration": 617,
                        "passed_time": 40.70948392,
                        "remaining_time": 288.6552727,
                        "test": [
                          0.9656647406,
                          0.003387324354
                        ]
                      },
                      {
                        "learn": [
                          0.002401325817
                        ],
                        "iteration": 618,
                        "passed_time": 40.80345156,
                        "remaining_time": 288.7882412,
                        "test": [
                          0.9657084607,
                          0.003386578185
                        ]
                      },
                      {
                        "learn": [
                          0.002400535532
                        ],
                        "iteration": 619,
                        "passed_time": 40.85346786,
                        "remaining_time": 288.6099826,
                        "test": [
                          0.9657268358,
                          0.003385981598
                        ]
                      },
                      {
                        "learn": [
                          0.002400181146
                        ],
                        "iteration": 620,
                        "passed_time": 40.89362856,
                        "remaining_time": 288.36264,
                        "test": [
                          0.9657334255,
                          0.00338580049
                        ]
                      },
                      {
                        "learn": [
                          0.002399406436
                        ],
                        "iteration": 621,
                        "passed_time": 40.93722178,
                        "remaining_time": 288.1401237,
                        "test": [
                          0.9657523076,
                          0.003385218101
                        ]
                      },
                      {
                        "learn": [
                          0.002398743095
                        ],
                        "iteration": 622,
                        "passed_time": 40.97768933,
                        "remaining_time": 287.8962218,
                        "test": [
                          0.9657861432,
                          0.003384339206
                        ]
                      },
                      {
                        "learn": [
                          0.002398103541
                        ],
                        "iteration": 623,
                        "passed_time": 41.0174348,
                        "remaining_time": 287.6479081,
                        "test": [
                          0.9657870302,
                          0.003383869397
                        ]
                      },
                      {
                        "learn": [
                          0.002397451344
                        ],
                        "iteration": 624,
                        "passed_time": 41.05846164,
                        "remaining_time": 287.4092315,
                        "test": [
                          0.965812502,
                          0.003383052998
                        ]
                      },
                      {
                        "learn": [
                          0.002397081529
                        ],
                        "iteration": 625,
                        "passed_time": 41.09989938,
                        "remaining_time": 287.1740573,
                        "test": [
                          0.9657009839,
                          0.003383119647
                        ]
                      },
                      {
                        "learn": [
                          0.002396180589
                        ],
                        "iteration": 626,
                        "passed_time": 41.1387196,
                        "remaining_time": 286.9212453,
                        "test": [
                          0.9657985622,
                          0.003382537655
                        ]
                      },
                      {
                        "learn": [
                          0.002395470314
                        ],
                        "iteration": 627,
                        "passed_time": 41.17941605,
                        "remaining_time": 286.6821767,
                        "test": [
                          0.9657866501,
                          0.003382021273
                        ]
                      },
                      {
                        "learn": [
                          0.002394684035
                        ],
                        "iteration": 628,
                        "passed_time": 41.22330212,
                        "remaining_time": 286.4659039,
                        "test": [
                          0.9657524343,
                          0.003381520203
                        ]
                      },
                      {
                        "learn": [
                          0.002394203709
                        ],
                        "iteration": 629,
                        "passed_time": 41.26339598,
                        "remaining_time": 286.2238737,
                        "test": [
                          0.965755349,
                          0.003381027927
                        ]
                      },
                      {
                        "learn": [
                          0.002393405496
                        ],
                        "iteration": 630,
                        "passed_time": 41.30800679,
                        "remaining_time": 286.0137586,
                        "test": [
                          0.9657602912,
                          0.003380669074
                        ]
                      },
                      {
                        "learn": [
                          0.002392959531
                        ],
                        "iteration": 631,
                        "passed_time": 41.34878706,
                        "remaining_time": 285.7776928,
                        "test": [
                          0.9657862699,
                          0.003379999562
                        ]
                      },
                      {
                        "learn": [
                          0.002392448132
                        ],
                        "iteration": 632,
                        "passed_time": 41.38982807,
                        "remaining_time": 285.5440429,
                        "test": [
                          0.9657979286,
                          0.003379563859
                        ]
                      },
                      {
                        "learn": [
                          0.002391683063
                        ],
                        "iteration": 633,
                        "passed_time": 41.43068188,
                        "remaining_time": 285.3097115,
                        "test": [
                          0.9657787931,
                          0.003379309749
                        ]
                      },
                      {
                        "learn": [
                          0.002391321893
                        ],
                        "iteration": 634,
                        "passed_time": 41.47178864,
                        "remaining_time": 285.0777282,
                        "test": [
                          0.965828596,
                          0.00337884045
                        ]
                      },
                      {
                        "learn": [
                          0.002390702412
                        ],
                        "iteration": 635,
                        "passed_time": 41.51164174,
                        "remaining_time": 284.837743,
                        "test": [
                          0.9658292297,
                          0.003378390653
                        ]
                      },
                      {
                        "learn": [
                          0.002389855984
                        ],
                        "iteration": 636,
                        "passed_time": 41.5520596,
                        "remaining_time": 284.6022543,
                        "test": [
                          0.9658239072,
                          0.003377727593
                        ]
                      },
                      {
                        "learn": [
                          0.002389464667
                        ],
                        "iteration": 637,
                        "passed_time": 41.59515765,
                        "remaining_time": 284.3857017,
                        "test": [
                          0.9658576161,
                          0.003377138598
                        ]
                      },
                      {
                        "learn": [
                          0.00238914707
                        ],
                        "iteration": 638,
                        "passed_time": 41.6368062,
                        "remaining_time": 284.1597994,
                        "test": [
                          0.9658620514,
                          0.003376890754
                        ]
                      },
                      {
                        "learn": [
                          0.002388747965
                        ],
                        "iteration": 639,
                        "passed_time": 41.6776926,
                        "remaining_time": 283.9292809,
                        "test": [
                          0.9659003224,
                          0.003376163756
                        ]
                      },
                      {
                        "learn": [
                          0.002388168058
                        ],
                        "iteration": 640,
                        "passed_time": 41.71778477,
                        "remaining_time": 283.6939529,
                        "test": [
                          0.965897281,
                          0.003376150755
                        ]
                      },
                      {
                        "learn": [
                          0.002387788812
                        ],
                        "iteration": 641,
                        "passed_time": 41.7576343,
                        "remaining_time": 283.4575861,
                        "test": [
                          0.9658974077,
                          0.003375671779
                        ]
                      },
                      {
                        "learn": [
                          0.002387037817
                        ],
                        "iteration": 642,
                        "passed_time": 41.85342585,
                        "remaining_time": 283.6008965,
                        "test": [
                          0.9658947465,
                          0.003375725729
                        ]
                      },
                      {
                        "learn": [
                          0.002386362406
                        ],
                        "iteration": 643,
                        "passed_time": 41.89373541,
                        "remaining_time": 283.3681855,
                        "test": [
                          0.9659947325,
                          0.003374989837
                        ]
                      },
                      {
                        "learn": [
                          0.002385677704
                        ],
                        "iteration": 644,
                        "passed_time": 41.93758369,
                        "remaining_time": 283.1599643,
                        "test": [
                          0.965989917,
                          0.003374617751
                        ]
                      },
                      {
                        "learn": [
                          0.0023854289
                        ],
                        "iteration": 645,
                        "passed_time": 41.97859295,
                        "remaining_time": 282.9331172,
                        "test": [
                          0.9659654591,
                          0.003374652211
                        ]
                      },
                      {
                        "learn": [
                          0.002385259959
                        ],
                        "iteration": 646,
                        "passed_time": 42.01858298,
                        "remaining_time": 282.6999872,
                        "test": [
                          0.9659676134,
                          0.003374407838
                        ]
                      },
                      {
                        "learn": [
                          0.002385088373
                        ],
                        "iteration": 647,
                        "passed_time": 42.05840634,
                        "remaining_time": 282.466334,
                        "test": [
                          0.9659685005,
                          0.003374169189
                        ]
                      },
                      {
                        "learn": [
                          0.002384596975
                        ],
                        "iteration": 648,
                        "passed_time": 42.09786474,
                        "remaining_time": 282.2308313,
                        "test": [
                          0.9659657125,
                          0.003374193281
                        ]
                      },
                      {
                        "learn": [
                          0.002383894843
                        ],
                        "iteration": 649,
                        "passed_time": 42.13849016,
                        "remaining_time": 282.0037419,
                        "test": [
                          0.965978385,
                          0.003374009117
                        ]
                      },
                      {
                        "learn": [
                          0.002383554458
                        ],
                        "iteration": 650,
                        "passed_time": 42.17910701,
                        "remaining_time": 281.777168,
                        "test": [
                          0.9657841155,
                          0.00337441136
                        ]
                      },
                      {
                        "learn": [
                          0.002383023486
                        ],
                        "iteration": 651,
                        "passed_time": 42.21913998,
                        "remaining_time": 281.5472709,
                        "test": [
                          0.9658381004,
                          0.003373777906
                        ]
                      },
                      {
                        "learn": [
                          0.002382079686
                        ],
                        "iteration": 652,
                        "passed_time": 42.2610958,
                        "remaining_time": 281.3307556,
                        "test": [
                          0.9658416487,
                          0.003373597526
                        ]
                      },
                      {
                        "learn": [
                          0.002380598559
                        ],
                        "iteration": 653,
                        "passed_time": 42.30214512,
                        "remaining_time": 281.1087503,
                        "test": [
                          0.965841522,
                          0.003373578504
                        ]
                      },
                      {
                        "learn": [
                          0.002379516867
                        ],
                        "iteration": 654,
                        "passed_time": 42.34824634,
                        "remaining_time": 280.9208097,
                        "test": [
                          0.966152125,
                          0.00337194901
                        ]
                      },
                      {
                        "learn": [
                          0.002379252845
                        ],
                        "iteration": 655,
                        "passed_time": 42.38971941,
                        "remaining_time": 280.7026542,
                        "test": [
                          0.966143381,
                          0.00337181358
                        ]
                      },
                      {
                        "learn": [
                          0.002378662866
                        ],
                        "iteration": 656,
                        "passed_time": 42.42939182,
                        "remaining_time": 280.4731335,
                        "test": [
                          0.9661431276,
                          0.003371386858
                        ]
                      },
                      {
                        "learn": [
                          0.002377400829
                        ],
                        "iteration": 657,
                        "passed_time": 42.47024133,
                        "remaining_time": 280.2519572,
                        "test": [
                          0.9661317223,
                          0.003371784981
                        ]
                      },
                      {
                        "learn": [
                          0.002376820351
                        ],
                        "iteration": 658,
                        "passed_time": 42.5114245,
                        "remaining_time": 280.0335262,
                        "test": [
                          0.9661456621,
                          0.003371444767
                        ]
                      },
                      {
                        "learn": [
                          0.002376285307
                        ],
                        "iteration": 659,
                        "passed_time": 42.55390506,
                        "remaining_time": 279.8241636,
                        "test": [
                          0.9661635303,
                          0.003370773312
                        ]
                      },
                      {
                        "learn": [
                          0.002375588964
                        ],
                        "iteration": 660,
                        "passed_time": 42.59380884,
                        "remaining_time": 279.5983911,
                        "test": [
                          0.9661805114,
                          0.003370210534
                        ]
                      },
                      {
                        "learn": [
                          0.002375325015
                        ],
                        "iteration": 661,
                        "passed_time": 42.63540984,
                        "remaining_time": 279.3843019,
                        "test": [
                          0.9660160224,
                          0.003370336892
                        ]
                      },
                      {
                        "learn": [
                          0.00237457445
                        ],
                        "iteration": 662,
                        "passed_time": 42.67735732,
                        "remaining_time": 279.1729995,
                        "test": [
                          0.9660270474,
                          0.003370144281
                        ]
                      },
                      {
                        "learn": [
                          0.002373988186
                        ],
                        "iteration": 663,
                        "passed_time": 42.71788122,
                        "remaining_time": 278.9529111,
                        "test": [
                          0.9660551804,
                          0.003369360149
                        ]
                      },
                      {
                        "learn": [
                          0.002373295816
                        ],
                        "iteration": 664,
                        "passed_time": 42.75839647,
                        "remaining_time": 278.7333063,
                        "test": [
                          0.9660615166,
                          0.003369174864
                        ]
                      },
                      {
                        "learn": [
                          0.002372856233
                        ],
                        "iteration": 665,
                        "passed_time": 42.79823212,
                        "remaining_time": 278.5098168,
                        "test": [
                          0.9660655718,
                          0.003368714227
                        ]
                      },
                      {
                        "learn": [
                          0.002371973016
                        ],
                        "iteration": 666,
                        "passed_time": 42.90542504,
                        "remaining_time": 278.7244478,
                        "test": [
                          0.9660820461,
                          0.003367658671
                        ]
                      },
                      {
                        "learn": [
                          0.002371504762
                        ],
                        "iteration": 667,
                        "passed_time": 42.94709064,
                        "remaining_time": 278.5131686,
                        "test": [
                          0.9660759633,
                          0.003367575251
                        ]
                      },
                      {
                        "learn": [
                          0.002371137877
                        ],
                        "iteration": 668,
                        "passed_time": 42.98997742,
                        "remaining_time": 278.3103022,
                        "test": [
                          0.9661085316,
                          0.003366996201
                        ]
                      },
                      {
                        "learn": [
                          0.002370456674
                        ],
                        "iteration": 669,
                        "passed_time": 43.03067153,
                        "remaining_time": 278.0937429,
                        "test": [
                          0.9661167688,
                          0.003366734306
                        ]
                      },
                      {
                        "learn": [
                          0.002369914484
                        ],
                        "iteration": 670,
                        "passed_time": 43.07182209,
                        "remaining_time": 277.8806525,
                        "test": [
                          0.966112967,
                          0.003366569332
                        ]
                      },
                      {
                        "learn": [
                          0.002369516166
                        ],
                        "iteration": 671,
                        "passed_time": 43.11193518,
                        "remaining_time": 277.661392,
                        "test": [
                          0.9661148679,
                          0.003366201442
                        ]
                      },
                      {
                        "learn": [
                          0.002368771889
                        ],
                        "iteration": 672,
                        "passed_time": 43.1555814,
                        "remaining_time": 277.46538,
                        "test": [
                          0.9660833133,
                          0.003365708303
                        ]
                      },
                      {
                        "learn": [
                          0.002368238987
                        ],
                        "iteration": 673,
                        "passed_time": 43.19711749,
                        "remaining_time": 277.2562764,
                        "test": [
                          0.9660767236,
                          0.003365550147
                        ]
                      },
                      {
                        "learn": [
                          0.002367534925
                        ],
                        "iteration": 674,
                        "passed_time": 43.23722385,
                        "remaining_time": 277.0385084,
                        "test": [
                          0.96607609,
                          0.003365440568
                        ]
                      },
                      {
                        "learn": [
                          0.002366797075
                        ],
                        "iteration": 675,
                        "passed_time": 43.27806244,
                        "remaining_time": 276.8259497,
                        "test": [
                          0.9660675994,
                          0.003365178318
                        ]
                      },
                      {
                        "learn": [
                          0.002366275031
                        ],
                        "iteration": 676,
                        "passed_time": 43.32023397,
                        "remaining_time": 276.6224098,
                        "test": [
                          0.9660606296,
                          0.003365022893
                        ]
                      },
                      {
                        "learn": [
                          0.002365570187
                        ],
                        "iteration": 677,
                        "passed_time": 43.36507296,
                        "remaining_time": 276.4363501,
                        "test": [
                          0.9660911703,
                          0.003364047162
                        ]
                      },
                      {
                        "learn": [
                          0.002365007639
                        ],
                        "iteration": 678,
                        "passed_time": 43.40461927,
                        "remaining_time": 276.2170248,
                        "test": [
                          0.9660906634,
                          0.003363640096
                        ]
                      },
                      {
                        "learn": [
                          0.002364060241
                        ],
                        "iteration": 679,
                        "passed_time": 43.45107792,
                        "remaining_time": 276.0421421,
                        "test": [
                          0.9661153748,
                          0.00336312618
                        ]
                      },
                      {
                        "learn": [
                          0.002363363113
                        ],
                        "iteration": 680,
                        "passed_time": 43.49328039,
                        "remaining_time": 275.8406431,
                        "test": [
                          0.9661411,
                          0.00336228295
                        ]
                      },
                      {
                        "learn": [
                          0.00236291858
                        ],
                        "iteration": 681,
                        "passed_time": 43.53393218,
                        "remaining_time": 275.6297935,
                        "test": [
                          0.9661770899,
                          0.003362504485
                        ]
                      },
                      {
                        "learn": [
                          0.00236239518
                        ],
                        "iteration": 682,
                        "passed_time": 43.57539294,
                        "remaining_time": 275.4245554,
                        "test": [
                          0.9660795116,
                          0.00336230432
                        ]
                      },
                      {
                        "learn": [
                          0.002362032222
                        ],
                        "iteration": 683,
                        "passed_time": 43.61711165,
                        "remaining_time": 275.2214238,
                        "test": [
                          0.9658382271,
                          0.003362344282
                        ]
                      },
                      {
                        "learn": [
                          0.002360574088
                        ],
                        "iteration": 684,
                        "passed_time": 43.65990266,
                        "remaining_time": 275.0255182,
                        "test": [
                          0.9660588554,
                          0.003361803775
                        ]
                      },
                      {
                        "learn": [
                          0.002360025328
                        ],
                        "iteration": 685,
                        "passed_time": 43.69993705,
                        "remaining_time": 274.8127237,
                        "test": [
                          0.9660589821,
                          0.003361402937
                        ]
                      },
                      {
                        "learn": [
                          0.00235954043
                        ],
                        "iteration": 686,
                        "passed_time": 43.74050882,
                        "remaining_time": 274.6038057,
                        "test": [
                          0.9660643046,
                          0.003360749037
                        ]
                      },
                      {
                        "learn": [
                          0.002358120877
                        ],
                        "iteration": 687,
                        "passed_time": 43.78418711,
                        "remaining_time": 274.4148471,
                        "test": [
                          0.966380737,
                          0.003359632145
                        ]
                      },
                      {
                        "learn": [
                          0.002357423102
                        ],
                        "iteration": 688,
                        "passed_time": 43.8307528,
                        "remaining_time": 274.2443764,
                        "test": [
                          0.9663875801,
                          0.003359346142
                        ]
                      },
                      {
                        "learn": [
                          0.002356761113
                        ],
                        "iteration": 689,
                        "passed_time": 43.90301315,
                        "remaining_time": 274.2347633,
                        "test": [
                          0.9663806103,
                          0.003359405406
                        ]
                      },
                      {
                        "learn": [
                          0.00235625086
                        ],
                        "iteration": 690,
                        "passed_time": 43.99410531,
                        "remaining_time": 274.342402,
                        "test": [
                          0.9664313003,
                          0.00335877403
                        ]
                      },
                      {
                        "learn": [
                          0.002355973409
                        ],
                        "iteration": 691,
                        "passed_time": 44.03626374,
                        "remaining_time": 274.1448326,
                        "test": [
                          0.9662545189,
                          0.003358934478
                        ]
                      },
                      {
                        "learn": [
                          0.002355467437
                        ],
                        "iteration": 692,
                        "passed_time": 44.0780797,
                        "remaining_time": 273.9455834,
                        "test": [
                          0.9662490697,
                          0.003358783812
                        ]
                      },
                      {
                        "learn": [
                          0.002355079763
                        ],
                        "iteration": 693,
                        "passed_time": 44.11987176,
                        "remaining_time": 273.7466395,
                        "test": [
                          0.9661696131,
                          0.003358253331
                        ]
                      },
                      {
                        "learn": [
                          0.002354560004
                        ],
                        "iteration": 694,
                        "passed_time": 44.16030736,
                        "remaining_time": 273.5397456,
                        "test": [
                          0.9661645441,
                          0.00335800339
                        ]
                      },
                      {
                        "learn": [
                          0.002353735581
                        ],
                        "iteration": 695,
                        "passed_time": 44.20150217,
                        "remaining_time": 273.3380249,
                        "test": [
                          0.9661721476,
                          0.003357153274
                        ]
                      },
                      {
                        "learn": [
                          0.002352654558
                        ],
                        "iteration": 696,
                        "passed_time": 44.24351772,
                        "remaining_time": 273.1418318,
                        "test": [
                          0.9661895089,
                          0.003356557797
                        ]
                      },
                      {
                        "learn": [
                          0.002351542005
                        ],
                        "iteration": 697,
                        "passed_time": 44.28567209,
                        "remaining_time": 272.946936,
                        "test": [
                          0.9661883684,
                          0.003356759658
                        ]
                      },
                      {
                        "learn": [
                          0.002351043631
                        ],
                        "iteration": 698,
                        "passed_time": 44.32718551,
                        "remaining_time": 272.7485334,
                        "test": [
                          0.9659840876,
                          0.00335670931
                        ]
                      },
                      {
                        "learn": [
                          0.002350505872
                        ],
                        "iteration": 699,
                        "passed_time": 44.36892995,
                        "remaining_time": 272.5519982,
                        "test": [
                          0.9659838342,
                          0.003356317873
                        ]
                      },
                      {
                        "learn": [
                          0.00235006688
                        ],
                        "iteration": 700,
                        "passed_time": 44.4117301,
                        "remaining_time": 272.3623791,
                        "test": [
                          0.9659890299,
                          0.00335628447
                        ]
                      },
                      {
                        "learn": [
                          0.002349883866
                        ],
                        "iteration": 701,
                        "passed_time": 44.45351421,
                        "remaining_time": 272.1669573,
                        "test": [
                          0.9659859885,
                          0.003356146498
                        ]
                      },
                      {
                        "learn": [
                          0.002349511763
                        ],
                        "iteration": 702,
                        "passed_time": 44.49979362,
                        "remaining_time": 271.9994497,
                        "test": [
                          0.9659840876,
                          0.00335582119
                        ]
                      },
                      {
                        "learn": [
                          0.002348688048
                        ],
                        "iteration": 703,
                        "passed_time": 44.54097602,
                        "remaining_time": 271.8011832,
                        "test": [
                          0.966163657,
                          0.003355270833
                        ]
                      },
                      {
                        "learn": [
                          0.002348205793
                        ],
                        "iteration": 704,
                        "passed_time": 44.58221597,
                        "remaining_time": 271.6037129,
                        "test": [
                          0.9661550397,
                          0.003355205866
                        ]
                      },
                      {
                        "learn": [
                          0.002347831762
                        ],
                        "iteration": 705,
                        "passed_time": 44.62307513,
                        "remaining_time": 271.4043691,
                        "test": [
                          0.9661564337,
                          0.003354849632
                        ]
                      },
                      {
                        "learn": [
                          0.002347680537
                        ],
                        "iteration": 706,
                        "passed_time": 44.66587067,
                        "remaining_time": 271.2172317,
                        "test": [
                          0.9661579544,
                          0.003354608866
                        ]
                      },
                      {
                        "learn": [
                          0.002346833749
                        ],
                        "iteration": 707,
                        "passed_time": 44.70739416,
                        "remaining_time": 271.0227906,
                        "test": [
                          0.9661465491,
                          0.003354623547
                        ]
                      },
                      {
                        "learn": [
                          0.002346441216
                        ],
                        "iteration": 708,
                        "passed_time": 44.74907626,
                        "remaining_time": 270.8297408,
                        "test": [
                          0.9661504776,
                          0.003354773745
                        ]
                      },
                      {
                        "learn": [
                          0.002346282276
                        ],
                        "iteration": 709,
                        "passed_time": 44.79105043,
                        "remaining_time": 270.6388822,
                        "test": [
                          0.9661103058,
                          0.003354660023
                        ]
                      },
                      {
                        "learn": [
                          0.002345484846
                        ],
                        "iteration": 710,
                        "passed_time": 44.83206205,
                        "remaining_time": 270.4426359,
                        "test": [
                          0.966183933,
                          0.003354211905
                        ]
                      },
                      {
                        "learn": [
                          0.002345126961
                        ],
                        "iteration": 711,
                        "passed_time": 44.88331449,
                        "remaining_time": 270.3085007,
                        "test": [
                          0.9661490836,
                          0.003353874804
                        ]
                      },
                      {
                        "learn": [
                          0.002344483047
                        ],
                        "iteration": 712,
                        "passed_time": 44.95033177,
                        "remaining_time": 270.2693861,
                        "test": [
                          0.9661538992,
                          0.003353649129
                        ]
                      },
                      {
                        "learn": [
                          0.002344015722
                        ],
                        "iteration": 713,
                        "passed_time": 45.02161305,
                        "remaining_time": 270.2557892,
                        "test": [
                          0.9661509845,
                          0.003353691154
                        ]
                      },
                      {
                        "learn": [
                          0.002343694625
                        ],
                        "iteration": 714,
                        "passed_time": 45.06185067,
                        "remaining_time": 270.0559862,
                        "test": [
                          0.9661533923,
                          0.003353280383
                        ]
                      },
                      {
                        "learn": [
                          0.002343424032
                        ],
                        "iteration": 715,
                        "passed_time": 45.10350856,
                        "remaining_time": 269.8651266,
                        "test": [
                          0.9659705281,
                          0.003353357579
                        ]
                      },
                      {
                        "learn": [
                          0.002342624393
                        ],
                        "iteration": 716,
                        "passed_time": 45.14729974,
                        "remaining_time": 269.6874265,
                        "test": [
                          0.9660393398,
                          0.003353405025
                        ]
                      },
                      {
                        "learn": [
                          0.002342370373
                        ],
                        "iteration": 717,
                        "passed_time": 45.18781333,
                        "remaining_time": 269.4905525,
                        "test": [
                          0.9658976612,
                          0.003353510443
                        ]
                      },
                      {
                        "learn": [
                          0.00234170903
                        ],
                        "iteration": 718,
                        "passed_time": 45.22982315,
                        "remaining_time": 269.3030221,
                        "test": [
                          0.9659103337,
                          0.003352709425
                        ]
                      },
                      {
                        "learn": [
                          0.00234090282
                        ],
                        "iteration": 719,
                        "passed_time": 45.27149823,
                        "remaining_time": 269.1139061,
                        "test": [
                          0.9659148958,
                          0.003351733231
                        ]
                      },
                      {
                        "learn": [
                          0.002340312056
                        ],
                        "iteration": 720,
                        "passed_time": 45.31091582,
                        "remaining_time": 268.9118014,
                        "test": [
                          0.9658846085,
                          0.003351932415
                        ]
                      },
                      {
                        "learn": [
                          0.00233978644
                        ],
                        "iteration": 721,
                        "passed_time": 45.35248296,
                        "remaining_time": 268.7228838,
                        "test": [
                          0.9658781455,
                          0.003351817226
                        ]
                      },
                      {
                        "learn": [
                          0.002339045809
                        ],
                        "iteration": 722,
                        "passed_time": 45.3941319,
                        "remaining_time": 268.5348577,
                        "test": [
                          0.9658685144,
                          0.003352278159
                        ]
                      },
                      {
                        "learn": [
                          0.002338782787
                        ],
                        "iteration": 723,
                        "passed_time": 45.43753213,
                        "remaining_time": 268.3575793,
                        "test": [
                          0.9657498998,
                          0.003352187946
                        ]
                      },
                      {
                        "learn": [
                          0.002338494407
                        ],
                        "iteration": 724,
                        "passed_time": 45.4784488,
                        "remaining_time": 268.1660257,
                        "test": [
                          0.965743817,
                          0.003352120983
                        ]
                      },
                      {
                        "learn": [
                          0.002337709767
                        ],
                        "iteration": 725,
                        "passed_time": 45.5205692,
                        "remaining_time": 267.9819735,
                        "test": [
                          0.9657572498,
                          0.003352188021
                        ]
                      },
                      {
                        "learn": [
                          0.002337078353
                        ],
                        "iteration": 726,
                        "passed_time": 45.56442112,
                        "remaining_time": 267.8084889,
                        "test": [
                          0.965760418,
                          0.003351943698
                        ]
                      },
                      {
                        "learn": [
                          0.002336473852
                        ],
                        "iteration": 727,
                        "passed_time": 45.60541707,
                        "remaining_time": 267.6186013,
                        "test": [
                          0.9657596576,
                          0.003351281084
                        ]
                      },
                      {
                        "learn": [
                          0.002335994526
                        ],
                        "iteration": 728,
                        "passed_time": 45.64683769,
                        "remaining_time": 267.4316101,
                        "test": [
                          0.9657561093,
                          0.003351146521
                        ]
                      },
                      {
                        "learn": [
                          0.002335518796
                        ],
                        "iteration": 729,
                        "passed_time": 45.68801077,
                        "remaining_time": 267.2435699,
                        "test": [
                          0.9657476187,
                          0.003351015084
                        ]
                      },
                      {
                        "learn": [
                          0.002334868743
                        ],
                        "iteration": 730,
                        "passed_time": 45.73146381,
                        "remaining_time": 267.0692463,
                        "test": [
                          0.965737354,
                          0.00335058525
                        ]
                      },
                      {
                        "learn": [
                          0.002334464709
                        ],
                        "iteration": 731,
                        "passed_time": 45.77219223,
                        "remaining_time": 266.879394,
                        "test": [
                          0.9657341859,
                          0.003350186483
                        ]
                      },
                      {
                        "learn": [
                          0.002333801912
                        ],
                        "iteration": 732,
                        "passed_time": 45.81300542,
                        "remaining_time": 266.6904422,
                        "test": [
                          0.9657202461,
                          0.003350009727
                        ]
                      },
                      {
                        "learn": [
                          0.002333448311
                        ],
                        "iteration": 733,
                        "passed_time": 45.85304918,
                        "remaining_time": 266.4974221,
                        "test": [
                          0.9655262301,
                          0.003349881441
                        ]
                      },
                      {
                        "learn": [
                          0.002333128953
                        ],
                        "iteration": 734,
                        "passed_time": 45.90610002,
                        "remaining_time": 266.3802947,
                        "test": [
                          0.9655285112,
                          0.003349467791
                        ]
                      },
                      {
                        "learn": [
                          0.002331985971
                        ],
                        "iteration": 735,
                        "passed_time": 45.94554738,
                        "remaining_time": 266.1845299,
                        "test": [
                          0.9655122904,
                          0.003349899111
                        ]
                      },
                      {
                        "learn": [
                          0.002331343772
                        ],
                        "iteration": 736,
                        "passed_time": 46.03212751,
                        "remaining_time": 266.2618176,
                        "test": [
                          0.9655200206,
                          0.003349766565
                        ]
                      },
                      {
                        "learn": [
                          0.002331034604
                        ],
                        "iteration": 737,
                        "passed_time": 46.08460624,
                        "remaining_time": 266.1417233,
                        "test": [
                          0.9655224284,
                          0.003349358632
                        ]
                      },
                      {
                        "learn": [
                          0.002330410193
                        ],
                        "iteration": 738,
                        "passed_time": 46.12638907,
                        "remaining_time": 265.9601405,
                        "test": [
                          0.9655249629,
                          0.003348958415
                        ]
                      },
                      {
                        "learn": [
                          0.002330229751
                        ],
                        "iteration": 739,
                        "passed_time": 46.16703745,
                        "remaining_time": 265.7724048,
                        "test": [
                          0.9653915214,
                          0.003349055572
                        ]
                      },
                      {
                        "learn": [
                          0.002329921581
                        ],
                        "iteration": 740,
                        "passed_time": 46.20764957,
                        "remaining_time": 265.5848576,
                        "test": [
                          0.9653816369,
                          0.003348812352
                        ]
                      },
                      {
                        "learn": [
                          0.002328865345
                        ],
                        "iteration": 741,
                        "passed_time": 46.24972969,
                        "remaining_time": 265.4061307,
                        "test": [
                          0.9653788489,
                          0.00334905669
                        ]
                      },
                      {
                        "learn": [
                          0.002328253294
                        ],
                        "iteration": 742,
                        "passed_time": 46.28964392,
                        "remaining_time": 265.2153622,
                        "test": [
                          0.9652556722,
                          0.003349540266
                        ]
                      },
                      {
                        "learn": [
                          0.002327470583
                        ],
                        "iteration": 743,
                        "passed_time": 46.33140154,
                        "remaining_time": 265.0355443,
                        "test": [
                          0.9652901414,
                          0.003349510619
                        ]
                      },
                      {
                        "learn": [
                          0.002327241707
                        ],
                        "iteration": 744,
                        "passed_time": 46.37295653,
                        "remaining_time": 264.8549396,
                        "test": [
                          0.9652920423,
                          0.003349323694
                        ]
                      },
                      {
                        "learn": [
                          0.002326653658
                        ],
                        "iteration": 745,
                        "passed_time": 46.41539962,
                        "remaining_time": 264.6797721,
                        "test": [
                          0.9648799325,
                          0.003349493338
                        ]
                      },
                      {
                        "learn": [
                          0.002325945812
                        ],
                        "iteration": 746,
                        "passed_time": 46.45867504,
                        "remaining_time": 264.5096987,
                        "test": [
                          0.9648720755,
                          0.003349028542
                        ]
                      },
                      {
                        "learn": [
                          0.002325690861
                        ],
                        "iteration": 747,
                        "passed_time": 46.50260597,
                        "remaining_time": 264.3436906,
                        "test": [
                          0.9646871837,
                          0.003349067857
                        ]
                      },
                      {
                        "learn": [
                          0.002325128525
                        ],
                        "iteration": 748,
                        "passed_time": 46.54398351,
                        "remaining_time": 264.1635165,
                        "test": [
                          0.9646925062,
                          0.003348884545
                        ]
                      },
                      {
                        "learn": [
                          0.002324917438
                        ],
                        "iteration": 749,
                        "passed_time": 46.58578487,
                        "remaining_time": 263.9861143,
                        "test": [
                          0.9645235817,
                          0.003348943503
                        ]
                      },
                      {
                        "learn": [
                          0.002324734566
                        ],
                        "iteration": 750,
                        "passed_time": 46.62750878,
                        "remaining_time": 263.8086349,
                        "test": [
                          0.9645693294,
                          0.003348838046
                        ]
                      },
                      {
                        "learn": [
                          0.002324377465
                        ],
                        "iteration": 751,
                        "passed_time": 46.66811976,
                        "remaining_time": 263.6252297,
                        "test": [
                          0.964571357,
                          0.003348499235
                        ]
                      },
                      {
                        "learn": [
                          0.002324198237
                        ],
                        "iteration": 752,
                        "passed_time": 46.70969725,
                        "remaining_time": 263.447655,
                        "test": [
                          0.9644256232,
                          0.003348485133
                        ]
                      },
                      {
                        "learn": [
                          0.002323906242
                        ],
                        "iteration": 753,
                        "passed_time": 46.75119288,
                        "remaining_time": 263.26998,
                        "test": [
                          0.9644157387,
                          0.003349007554
                        ]
                      },
                      {
                        "learn": [
                          0.002323612218
                        ],
                        "iteration": 754,
                        "passed_time": 46.79155036,
                        "remaining_time": 263.0862666,
                        "test": [
                          0.964417893,
                          0.003348613935
                        ]
                      },
                      {
                        "learn": [
                          0.002322780933
                        ],
                        "iteration": 755,
                        "passed_time": 46.83183186,
                        "remaining_time": 262.9025059,
                        "test": [
                          0.9645008979,
                          0.003346977759
                        ]
                      },
                      {
                        "learn": [
                          0.002322441905
                        ],
                        "iteration": 756,
                        "passed_time": 46.87211153,
                        "remaining_time": 262.7191139,
                        "test": [
                          0.9645024186,
                          0.003346652594
                        ]
                      },
                      {
                        "learn": [
                          0.002322129522
                        ],
                        "iteration": 757,
                        "passed_time": 46.9239977,
                        "remaining_time": 262.6010531,
                        "test": [
                          0.9645033057,
                          0.003345980861
                        ]
                      },
                      {
                        "learn": [
                          0.002321513256
                        ],
                        "iteration": 758,
                        "passed_time": 46.96705573,
                        "remaining_time": 262.4338384,
                        "test": [
                          0.9645001376,
                          0.003346143455
                        ]
                      },
                      {
                        "learn": [
                          0.00232086234
                        ],
                        "iteration": 759,
                        "passed_time": 47.0113337,
                        "remaining_time": 262.2737565,
                        "test": [
                          0.964509135,
                          0.003345793312
                        ]
                      },
                      {
                        "learn": [
                          0.002320253575
                        ],
                        "iteration": 760,
                        "passed_time": 47.11541832,
                        "remaining_time": 262.4471199,
                        "test": [
                          0.9645057135,
                          0.003345649824
                        ]
                      },
                      {
                        "learn": [
                          0.002318907101
                        ],
                        "iteration": 761,
                        "passed_time": 47.15504333,
                        "remaining_time": 262.2612515,
                        "test": [
                          0.9645086281,
                          0.003344925246
                        ]
                      },
                      {
                        "learn": [
                          0.00231808317
                        ],
                        "iteration": 762,
                        "passed_time": 47.19863048,
                        "remaining_time": 262.0977685,
                        "test": [
                          0.9646202729,
                          0.003344457316
                        ]
                      },
                      {
                        "learn": [
                          0.002317500497
                        ],
                        "iteration": 763,
                        "passed_time": 47.23894906,
                        "remaining_time": 261.9164767,
                        "test": [
                          0.9646595576,
                          0.003344017255
                        ]
                      },
                      {
                        "learn": [
                          0.002317067176
                        ],
                        "iteration": 764,
                        "passed_time": 47.27937558,
                        "remaining_time": 261.7361511,
                        "test": [
                          0.9648288623,
                          0.003343561035
                        ]
                      },
                      {
                        "learn": [
                          0.002316738699
                        ],
                        "iteration": 765,
                        "passed_time": 47.32022725,
                        "remaining_time": 261.5585407,
                        "test": [
                          0.9647366065,
                          0.003343211004
                        ]
                      },
                      {
                        "learn": [
                          0.002316421671
                        ],
                        "iteration": 766,
                        "passed_time": 47.36278555,
                        "remaining_time": 261.3907056,
                        "test": [
                          0.9645793407,
                          0.003343286278
                        ]
                      },
                      {
                        "learn": [
                          0.00231612529
                        ],
                        "iteration": 767,
                        "passed_time": 47.40484529,
                        "remaining_time": 261.2204495,
                        "test": [
                          0.9644010386,
                          0.003343467762
                        ]
                      },
                      {
                        "learn": [
                          0.002315829695
                        ],
                        "iteration": 768,
                        "passed_time": 47.44513403,
                        "remaining_time": 261.040783,
                        "test": [
                          0.9644021791,
                          0.003343075903
                        ]
                      },
                      {
                        "learn": [
                          0.002315472021
                        ],
                        "iteration": 769,
                        "passed_time": 47.485474,
                        "remaining_time": 260.8617598,
                        "test": [
                          0.9644025593,
                          0.003343054941
                        ]
                      },
                      {
                        "learn": [
                          0.002314984052
                        ],
                        "iteration": 770,
                        "passed_time": 47.52575691,
                        "remaining_time": 260.6827834,
                        "test": [
                          0.9644021791,
                          0.003342700364
                        ]
                      },
                      {
                        "learn": [
                          0.002314673741
                        ],
                        "iteration": 771,
                        "passed_time": 47.56845025,
                        "remaining_time": 260.5173674,
                        "test": [
                          0.9644035731,
                          0.003342030005
                        ]
                      },
                      {
                        "learn": [
                          0.002314149702
                        ],
                        "iteration": 772,
                        "passed_time": 47.60864086,
                        "remaining_time": 260.3385833,
                        "test": [
                          0.9645897322,
                          0.003341910916
                        ]
                      },
                      {
                        "learn": [
                          0.002313722808
                        ],
                        "iteration": 773,
                        "passed_time": 47.65205777,
                        "remaining_time": 260.1777728,
                        "test": [
                          0.9645702165,
                          0.003341475471
                        ]
                      },
                      {
                        "learn": [
                          0.002313164904
                        ],
                        "iteration": 774,
                        "passed_time": 47.6928755,
                        "remaining_time": 260.0030955,
                        "test": [
                          0.9645577974,
                          0.003341381052
                        ]
                      },
                      {
                        "learn": [
                          0.002312878809
                        ],
                        "iteration": 775,
                        "passed_time": 47.73281751,
                        "remaining_time": 259.8239964,
                        "test": [
                          0.9645536155,
                          0.00334111758
                        ]
                      },
                      {
                        "learn": [
                          0.002312323548
                        ],
                        "iteration": 776,
                        "passed_time": 47.84925185,
                        "remaining_time": 260.0609917,
                        "test": [
                          0.9645564035,
                          0.003340725479
                        ]
                      },
                      {
                        "learn": [
                          0.002311851795
                        ],
                        "iteration": 777,
                        "passed_time": 47.892222,
                        "remaining_time": 259.8984078,
                        "test": [
                          0.9645607121,
                          0.003340082751
                        ]
                      },
                      {
                        "learn": [
                          0.002311403327
                        ],
                        "iteration": 778,
                        "passed_time": 47.94348507,
                        "remaining_time": 259.7810661,
                        "test": [
                          0.9645512077,
                          0.003339972003
                        ]
                      },
                      {
                        "learn": [
                          0.002311227243
                        ],
                        "iteration": 779,
                        "passed_time": 47.98405245,
                        "remaining_time": 259.6060274,
                        "test": [
                          0.9644604726,
                          0.0033398177
                        ]
                      },
                      {
                        "learn": [
                          0.00231072142
                        ],
                        "iteration": 780,
                        "passed_time": 48.02416694,
                        "remaining_time": 259.4288865,
                        "test": [
                          0.9646517007,
                          0.003339715135
                        ]
                      },
                      {
                        "learn": [
                          0.002309477736
                        ],
                        "iteration": 781,
                        "passed_time": 48.08551757,
                        "remaining_time": 259.3666408,
                        "test": [
                          0.9648341847,
                          0.003339134173
                        ]
                      },
                      {
                        "learn": [
                          0.002309008268
                        ],
                        "iteration": 782,
                        "passed_time": 48.16475323,
                        "remaining_time": 259.4007208,
                        "test": [
                          0.9648327908,
                          0.003338798521
                        ]
                      },
                      {
                        "learn": [
                          0.002307704443
                        ],
                        "iteration": 783,
                        "passed_time": 48.20774767,
                        "remaining_time": 259.2396227,
                        "test": [
                          0.965056207,
                          0.003337703322
                        ]
                      },
                      {
                        "learn": [
                          0.002307567575
                        ],
                        "iteration": 784,
                        "passed_time": 48.24854105,
                        "remaining_time": 259.0670071,
                        "test": [
                          0.9650568406,
                          0.003337489178
                        ]
                      },
                      {
                        "learn": [
                          0.002306644064
                        ],
                        "iteration": 785,
                        "passed_time": 48.29085617,
                        "remaining_time": 258.9028854,
                        "test": [
                          0.9651015745,
                          0.003336660441
                        ]
                      },
                      {
                        "learn": [
                          0.002305378645
                        ],
                        "iteration": 786,
                        "passed_time": 48.33236791,
                        "remaining_time": 258.7347725,
                        "test": [
                          0.9650976461,
                          0.003336455798
                        ]
                      },
                      {
                        "learn": [
                          0.002304802736
                        ],
                        "iteration": 787,
                        "passed_time": 48.37425344,
                        "remaining_time": 258.568979,
                        "test": [
                          0.9650806649,
                          0.003336337797
                        ]
                      },
                      {
                        "learn": [
                          0.002304141512
                        ],
                        "iteration": 788,
                        "passed_time": 48.41747296,
                        "remaining_time": 258.4106193,
                        "test": [
                          0.9650844667,
                          0.003336306574
                        ]
                      },
                      {
                        "learn": [
                          0.002303782982
                        ],
                        "iteration": 789,
                        "passed_time": 48.54365561,
                        "remaining_time": 258.694671,
                        "test": [
                          0.9650847201,
                          0.003336268229
                        ]
                      },
                      {
                        "learn": [
                          0.002303185429
                        ],
                        "iteration": 790,
                        "passed_time": 48.58792976,
                        "remaining_time": 258.5418412,
                        "test": [
                          0.9650729347,
                          0.00333614996
                        ]
                      },
                      {
                        "learn": [
                          0.002302953268
                        ],
                        "iteration": 791,
                        "passed_time": 48.62949246,
                        "remaining_time": 258.3748791,
                        "test": [
                          0.9649652184,
                          0.003336021852
                        ]
                      },
                      {
                        "learn": [
                          0.002302649341
                        ],
                        "iteration": 792,
                        "passed_time": 48.66859438,
                        "remaining_time": 258.1951785,
                        "test": [
                          0.9649663589,
                          0.00333536256
                        ]
                      },
                      {
                        "learn": [
                          0.002302211447
                        ],
                        "iteration": 793,
                        "passed_time": 48.7100378,
                        "remaining_time": 258.0282355,
                        "test": [
                          0.9649604029,
                          0.003335254983
                        ]
                      },
                      {
                        "learn": [
                          0.002301524175
                        ],
                        "iteration": 794,
                        "passed_time": 48.75090251,
                        "remaining_time": 257.8585473,
                        "test": [
                          0.964958502,
                          0.003335742408
                        ]
                      },
                      {
                        "learn": [
                          0.002301100997
                        ],
                        "iteration": 795,
                        "passed_time": 48.79047329,
                        "remaining_time": 257.6823489,
                        "test": [
                          0.9649691469,
                          0.003335508741
                        ]
                      },
                      {
                        "learn": [
                          0.002300152959
                        ],
                        "iteration": 796,
                        "passed_time": 48.83280408,
                        "remaining_time": 257.5210484,
                        "test": [
                          0.9649823263,
                          0.003334791432
                        ]
                      },
                      {
                        "learn": [
                          0.002299686091
                        ],
                        "iteration": 797,
                        "passed_time": 48.87359398,
                        "remaining_time": 257.3519322,
                        "test": [
                          0.9650186964,
                          0.003334303143
                        ]
                      },
                      {
                        "learn": [
                          0.00229905151
                        ],
                        "iteration": 798,
                        "passed_time": 48.92209305,
                        "remaining_time": 257.2236707,
                        "test": [
                          0.9650062773,
                          0.003334249619
                        ]
                      },
                      {
                        "learn": [
                          0.002298375596
                        ],
                        "iteration": 799,
                        "passed_time": 48.96670515,
                        "remaining_time": 257.075202,
                        "test": [
                          0.9650081782,
                          0.003334745909
                        ]
                      },
                      {
                        "learn": [
                          0.002297947776
                        ],
                        "iteration": 800,
                        "passed_time": 49.00632659,
                        "remaining_time": 256.9008306,
                        "test": [
                          0.9650541794,
                          0.003334332352
                        ]
                      },
                      {
                        "learn": [
                          0.002297613107
                        ],
                        "iteration": 801,
                        "passed_time": 49.04673588,
                        "remaining_time": 256.7309192,
                        "test": [
                          0.9650579811,
                          0.003333963455
                        ]
                      },
                      {
                        "learn": [
                          0.002297086347
                        ],
                        "iteration": 802,
                        "passed_time": 49.08994293,
                        "remaining_time": 256.5759533,
                        "test": [
                          0.9650456888,
                          0.003333648969
                        ]
                      },
                      {
                        "learn": [
                          0.002296655168
                        ],
                        "iteration": 803,
                        "passed_time": 49.2217211,
                        "remaining_time": 256.8835096,
                        "test": [
                          0.9650355508,
                          0.003333548588
                        ]
                      },
                      {
                        "learn": [
                          0.002296027213
                        ],
                        "iteration": 804,
                        "passed_time": 49.30610554,
                        "remaining_time": 256.9429972,
                        "test": [
                          0.965022118,
                          0.003333178271
                        ]
                      },
                      {
                        "learn": [
                          0.002295459161
                        ],
                        "iteration": 805,
                        "passed_time": 49.34656688,
                        "remaining_time": 256.7735751,
                        "test": [
                          0.9649922108,
                          0.003332678045
                        ]
                      },
                      {
                        "learn": [
                          0.002294873229
                        ],
                        "iteration": 806,
                        "passed_time": 49.38712239,
                        "remaining_time": 256.6049618,
                        "test": [
                          0.9649851142,
                          0.003332657446
                        ]
                      },
                      {
                        "learn": [
                          0.002294582919
                        ],
                        "iteration": 807,
                        "passed_time": 49.4287225,
                        "remaining_time": 256.4420851,
                        "test": [
                          0.9646821147,
                          0.003332842526
                        ]
                      },
                      {
                        "learn": [
                          0.002293807352
                        ],
                        "iteration": 808,
                        "passed_time": 49.47398344,
                        "remaining_time": 256.2984729,
                        "test": [
                          0.964702264,
                          0.003332420091
                        ]
                      },
                      {
                        "learn": [
                          0.002293096864
                        ],
                        "iteration": 809,
                        "passed_time": 49.52014774,
                        "remaining_time": 256.1597766,
                        "test": [
                          0.9647003631,
                          0.003331533727
                        ]
                      },
                      {
                        "learn": [
                          0.002292827626
                        ],
                        "iteration": 810,
                        "passed_time": 49.56522624,
                        "remaining_time": 256.0157,
                        "test": [
                          0.9646252152,
                          0.003331633212
                        ]
                      },
                      {
                        "learn": [
                          0.002291962835
                        ],
                        "iteration": 811,
                        "passed_time": 49.60573239,
                        "remaining_time": 255.8482848,
                        "test": [
                          0.9646477722,
                          0.003331397982
                        ]
                      },
                      {
                        "learn": [
                          0.002291359071
                        ],
                        "iteration": 812,
                        "passed_time": 49.6482318,
                        "remaining_time": 255.6914472,
                        "test": [
                          0.9646989691,
                          0.00333118289
                        ]
                      },
                      {
                        "learn": [
                          0.002290935964
                        ],
                        "iteration": 813,
                        "passed_time": 49.68966217,
                        "remaining_time": 255.5293929,
                        "test": [
                          0.9646887044,
                          0.003331086926
                        ]
                      },
                      {
                        "learn": [
                          0.002290656941
                        ],
                        "iteration": 814,
                        "passed_time": 49.73025901,
                        "remaining_time": 255.3633545,
                        "test": [
                          0.9646843958,
                          0.00333081419
                        ]
                      },
                      {
                        "learn": [
                          0.002290235119
                        ],
                        "iteration": 815,
                        "passed_time": 49.77077203,
                        "remaining_time": 255.1971938,
                        "test": [
                          0.9646933932,
                          0.003330553565
                        ]
                      },
                      {
                        "learn": [
                          0.00228998067
                        ],
                        "iteration": 816,
                        "passed_time": 49.81118199,
                        "remaining_time": 255.0308131,
                        "test": [
                          0.9647269754,
                          0.00333029375
                        ]
                      },
                      {
                        "learn": [
                          0.002289735009
                        ],
                        "iteration": 817,
                        "passed_time": 49.85267994,
                        "remaining_time": 254.8703026,
                        "test": [
                          0.9646847759,
                          0.003330333085
                        ]
                      },
                      {
                        "learn": [
                          0.002289223678
                        ],
                        "iteration": 818,
                        "passed_time": 49.89599111,
                        "remaining_time": 254.7193392,
                        "test": [
                          0.9646824949,
                          0.00332998264
                        ]
                      },
                      {
                        "learn": [
                          0.00228890851
                        ],
                        "iteration": 819,
                        "passed_time": 49.9506441,
                        "remaining_time": 254.6264541,
                        "test": [
                          0.9646122892,
                          0.00332980515
                        ]
                      },
                      {
                        "learn": [
                          0.002287917139
                        ],
                        "iteration": 820,
                        "passed_time": 49.98897598,
                        "remaining_time": 254.4505854,
                        "test": [
                          0.9645950546,
                          0.003330257779
                        ]
                      },
                      {
                        "learn": [
                          0.002287645687
                        ],
                        "iteration": 821,
                        "passed_time": 50.02897772,
                        "remaining_time": 254.2835388,
                        "test": [
                          0.9645956882,
                          0.003329891721
                        ]
                      },
                      {
                        "learn": [
                          0.002287009774
                        ],
                        "iteration": 822,
                        "passed_time": 50.0718748,
                        "remaining_time": 254.1314958,
                        "test": [
                          0.9645969555,
                          0.003329881606
                        ]
                      },
                      {
                        "learn": [
                          0.002286405725
                        ],
                        "iteration": 823,
                        "passed_time": 50.11561323,
                        "remaining_time": 253.9839816,
                        "test": [
                          0.964576426,
                          0.003329491329
                        ]
                      },
                      {
                        "learn": [
                          0.002285663662
                        ],
                        "iteration": 824,
                        "passed_time": 50.15917952,
                        "remaining_time": 253.8358479,
                        "test": [
                          0.9647620782,
                          0.003328524932
                        ]
                      },
                      {
                        "learn": [
                          0.002285014746
                        ],
                        "iteration": 825,
                        "passed_time": 50.201979,
                        "remaining_time": 253.6840924,
                        "test": [
                          0.9648084596,
                          0.003328269745
                        ]
                      },
                      {
                        "learn": [
                          0.002284112879
                        ],
                        "iteration": 826,
                        "passed_time": 50.26033627,
                        "remaining_time": 253.6111043,
                        "test": [
                          0.9648360856,
                          0.003327567825
                        ]
                      },
                      {
                        "learn": [
                          0.002283706488
                        ],
                        "iteration": 827,
                        "passed_time": 50.35371329,
                        "remaining_time": 253.7146037,
                        "test": [
                          0.964826708,
                          0.003327480888
                        ]
                      },
                      {
                        "learn": [
                          0.00228318716
                        ],
                        "iteration": 828,
                        "passed_time": 50.39549135,
                        "remaining_time": 253.558015,
                        "test": [
                          0.9647709489,
                          0.003327358234
                        ]
                      },
                      {
                        "learn": [
                          0.002282905849
                        ],
                        "iteration": 829,
                        "passed_time": 50.43474364,
                        "remaining_time": 253.3890132,
                        "test": [
                          0.9647720895,
                          0.003326722362
                        ]
                      },
                      {
                        "learn": [
                          0.002282506458
                        ],
                        "iteration": 830,
                        "passed_time": 50.47638757,
                        "remaining_time": 253.2323222,
                        "test": [
                          0.9647658799,
                          0.003326639391
                        ]
                      },
                      {
                        "learn": [
                          0.002282123787
                        ],
                        "iteration": 831,
                        "passed_time": 50.51746696,
                        "remaining_time": 253.0730797,
                        "test": [
                          0.9647808335,
                          0.003326528235
                        ]
                      },
                      {
                        "learn": [
                          0.002281814545
                        ],
                        "iteration": 832,
                        "passed_time": 50.55830817,
                        "remaining_time": 252.9129294,
                        "test": [
                          0.9647852689,
                          0.00332618171
                        ]
                      },
                      {
                        "learn": [
                          0.00228110791
                        ],
                        "iteration": 833,
                        "passed_time": 50.60177286,
                        "remaining_time": 252.76617,
                        "test": [
                          0.964830383,
                          0.003325814248
                        ]
                      },
                      {
                        "learn": [
                          0.002280451428
                        ],
                        "iteration": 834,
                        "passed_time": 50.64506043,
                        "remaining_time": 252.6187745,
                        "test": [
                          0.9648302563,
                          0.003326317983
                        ]
                      },
                      {
                        "learn": [
                          0.002279728508
                        ],
                        "iteration": 835,
                        "passed_time": 50.68572312,
                        "remaining_time": 252.4585539,
                        "test": [
                          0.9648327908,
                          0.00332643218
                        ]
                      },
                      {
                        "learn": [
                          0.002279336547
                        ],
                        "iteration": 836,
                        "passed_time": 50.72733043,
                        "remaining_time": 252.3033173,
                        "test": [
                          0.9648265812,
                          0.003326352675
                        ]
                      },
                      {
                        "learn": [
                          0.002278952229
                        ],
                        "iteration": 837,
                        "passed_time": 50.76899979,
                        "remaining_time": 252.1486601,
                        "test": [
                          0.9648172036,
                          0.003326275165
                        ]
                      },
                      {
                        "learn": [
                          0.002278490046
                        ],
                        "iteration": 838,
                        "passed_time": 50.80872857,
                        "remaining_time": 251.9846479,
                        "test": [
                          0.9648139087,
                          0.003326255537
                        ]
                      },
                      {
                        "learn": [
                          0.002277917212
                        ],
                        "iteration": 839,
                        "passed_time": 50.85319035,
                        "remaining_time": 251.8443712,
                        "test": [
                          0.9648096001,
                          0.003325902479
                        ]
                      },
                      {
                        "learn": [
                          0.002277643047
                        ],
                        "iteration": 840,
                        "passed_time": 50.89552409,
                        "remaining_time": 251.6937987,
                        "test": [
                          0.9645476594,
                          0.003326313095
                        ]
                      },
                      {
                        "learn": [
                          0.002277194582
                        ],
                        "iteration": 841,
                        "passed_time": 50.93857719,
                        "remaining_time": 251.5470356,
                        "test": [
                          0.964283311,
                          0.003326037887
                        ]
                      },
                      {
                        "learn": [
                          0.002276731329
                        ],
                        "iteration": 842,
                        "passed_time": 50.98955214,
                        "remaining_time": 251.4395827,
                        "test": [
                          0.9640329024,
                          0.003326225205
                        ]
                      },
                      {
                        "learn": [
                          0.002276342301
                        ],
                        "iteration": 843,
                        "passed_time": 51.03041534,
                        "remaining_time": 251.2824718,
                        "test": [
                          0.9641368169,
                          0.00332552221
                        ]
                      },
                      {
                        "learn": [
                          0.002276178002
                        ],
                        "iteration": 844,
                        "passed_time": 51.07147713,
                        "remaining_time": 251.1266124,
                        "test": [
                          0.9641790163,
                          0.003325558331
                        ]
                      },
                      {
                        "learn": [
                          0.002275154222
                        ],
                        "iteration": 845,
                        "passed_time": 51.11417506,
                        "remaining_time": 250.9790582,
                        "test": [
                          0.9643770876,
                          0.003324850269
                        ]
                      },
                      {
                        "learn": [
                          0.002274872054
                        ],
                        "iteration": 846,
                        "passed_time": 51.15446277,
                        "remaining_time": 250.8199337,
                        "test": [
                          0.9643779746,
                          0.003324580919
                        ]
                      },
                      {
                        "learn": [
                          0.002274676181
                        ],
                        "iteration": 847,
                        "passed_time": 51.19524234,
                        "remaining_time": 250.6634979,
                        "test": [
                          0.9643805091,
                          0.003324500437
                        ]
                      },
                      {
                        "learn": [
                          0.002274263461
                        ],
                        "iteration": 848,
                        "passed_time": 51.23625216,
                        "remaining_time": 250.5084602,
                        "test": [
                          0.9643583323,
                          0.003324590342
                        ]
                      },
                      {
                        "learn": [
                          0.002273782538
                        ],
                        "iteration": 849,
                        "passed_time": 51.27487748,
                        "remaining_time": 250.3420489,
                        "test": [
                          0.9643684703,
                          0.003324523155
                        ]
                      },
                      {
                        "learn": [
                          0.002273404791
                        ],
                        "iteration": 850,
                        "passed_time": 51.39657079,
                        "remaining_time": 250.5809309,
                        "test": [
                          0.9643578254,
                          0.003324447657
                        ]
                      },
                      {
                        "learn": [
                          0.002273132053
                        ],
                        "iteration": 851,
                        "passed_time": 51.44449072,
                        "remaining_time": 250.4597975,
                        "test": [
                          0.9643488279,
                          0.003324347024
                        ]
                      },
                      {
                        "learn": [
                          0.002272979209
                        ],
                        "iteration": 852,
                        "passed_time": 51.48634842,
                        "remaining_time": 250.3093633,
                        "test": [
                          0.9643403373,
                          0.00332417563
                        ]
                      },
                      {
                        "learn": [
                          0.002272633828
                        ],
                        "iteration": 853,
                        "passed_time": 51.52840733,
                        "remaining_time": 250.1601602,
                        "test": [
                          0.9643371692,
                          0.003324745231
                        ]
                      },
                      {
                        "learn": [
                          0.002272059994
                        ],
                        "iteration": 854,
                        "passed_time": 51.5730758,
                        "remaining_time": 250.0238587,
                        "test": [
                          0.9643176535,
                          0.003324414159
                        ]
                      },
                      {
                        "learn": [
                          0.002271689177
                        ],
                        "iteration": 855,
                        "passed_time": 51.61625921,
                        "remaining_time": 249.880582,
                        "test": [
                          0.9643089095,
                          0.003324342708
                        ]
                      },
                      {
                        "learn": [
                          0.002271407084
                        ],
                        "iteration": 856,
                        "passed_time": 51.65654469,
                        "remaining_time": 249.7235294,
                        "test": [
                          0.9643021931,
                          0.003324649576
                        ]
                      },
                      {
                        "learn": [
                          0.002270958453
                        ],
                        "iteration": 857,
                        "passed_time": 51.6986241,
                        "remaining_time": 249.5754091,
                        "test": [
                          0.964318794,
                          0.003324546586
                        ]
                      },
                      {
                        "learn": [
                          0.002270189241
                        ],
                        "iteration": 858,
                        "passed_time": 51.74257284,
                        "remaining_time": 249.4365473,
                        "test": [
                          0.964341858,
                          0.003324038335
                        ]
                      },
                      {
                        "learn": [
                          0.002269315879
                        ],
                        "iteration": 859,
                        "passed_time": 51.7846058,
                        "remaining_time": 249.2886838,
                        "test": [
                          0.9643566848,
                          0.003323645714
                        ]
                      },
                      {
                        "learn": [
                          0.002268362629
                        ],
                        "iteration": 860,
                        "passed_time": 51.82302995,
                        "remaining_time": 249.1237177,
                        "test": [
                          0.9643431252,
                          0.003324106937
                        ]
                      },
                      {
                        "learn": [
                          0.002268040602
                        ],
                        "iteration": 861,
                        "passed_time": 51.86323128,
                        "remaining_time": 248.9675766,
                        "test": [
                          0.9643478141,
                          0.003323856356
                        ]
                      },
                      {
                        "learn": [
                          0.002267522699
                        ],
                        "iteration": 862,
                        "passed_time": 51.90316631,
                        "remaining_time": 248.8104276,
                        "test": [
                          0.9643706246,
                          0.003323573367
                        ]
                      },
                      {
                        "learn": [
                          0.002267174384
                        ],
                        "iteration": 863,
                        "passed_time": 51.94494398,
                        "remaining_time": 248.6623707,
                        "test": [
                          0.9643737927,
                          0.00332388546
                        ]
                      },
                      {
                        "learn": [
                          0.002265981355
                        ],
                        "iteration": 864,
                        "passed_time": 52.00006486,
                        "remaining_time": 248.5783447,
                        "test": [
                          0.9645646406,
                          0.003322862417
                        ]
                      },
                      {
                        "learn": [
                          0.00226577505
                        ],
                        "iteration": 865,
                        "passed_time": 52.0407398,
                        "remaining_time": 248.4254254,
                        "test": [
                          0.9645833959,
                          0.003322666134
                        ]
                      },
                      {
                        "learn": [
                          0.002265427306
                        ],
                        "iteration": 866,
                        "passed_time": 52.08345213,
                        "remaining_time": 248.2824771,
                        "test": [
                          0.9646295238,
                          0.003321870443
                        ]
                      },
                      {
                        "learn": [
                          0.002265183073
                        ],
                        "iteration": 867,
                        "passed_time": 52.12362073,
                        "remaining_time": 248.1276508,
                        "test": [
                          0.9646674146,
                          0.003321620922
                        ]
                      },
                      {
                        "learn": [
                          0.002264575595
                        ],
                        "iteration": 868,
                        "passed_time": 52.16591107,
                        "remaining_time": 247.9831745,
                        "test": [
                          0.9647557419,
                          0.003320579506
                        ]
                      },
                      {
                        "learn": [
                          0.002264194586
                        ],
                        "iteration": 869,
                        "passed_time": 52.20747735,
                        "remaining_time": 247.8354959,
                        "test": [
                          0.9645172454,
                          0.00332093367
                        ]
                      },
                      {
                        "learn": [
                          0.002263986858
                        ],
                        "iteration": 870,
                        "passed_time": 52.25231823,
                        "remaining_time": 247.7035844,
                        "test": [
                          0.9644657951,
                          0.003320707393
                        ]
                      },
                      {
                        "learn": [
                          0.002263582181
                        ],
                        "iteration": 871,
                        "passed_time": 52.29281172,
                        "remaining_time": 247.5512922,
                        "test": [
                          0.9644684563,
                          0.003320121701
                        ]
                      },
                      {
                        "learn": [
                          0.002263222937
                        ],
                        "iteration": 872,
                        "passed_time": 52.3364045,
                        "remaining_time": 247.4139076,
                        "test": [
                          0.9645149644,
                          0.003319442839
                        ]
                      },
                      {
                        "learn": [
                          0.002263007993
                        ],
                        "iteration": 873,
                        "passed_time": 52.44481368,
                        "remaining_time": 247.5827245,
                        "test": [
                          0.9645328326,
                          0.00331922966
                        ]
                      },
                      {
                        "learn": [
                          0.002262335075
                        ],
                        "iteration": 874,
                        "passed_time": 52.49503847,
                        "remaining_time": 247.4766099,
                        "test": [
                          0.9645172454,
                          0.003319250111
                        ]
                      },
                      {
                        "learn": [
                          0.002261742812
                        ],
                        "iteration": 875,
                        "passed_time": 52.53565948,
                        "remaining_time": 247.3254106,
                        "test": [
                          0.9645551362,
                          0.003318474652
                        ]
                      },
                      {
                        "learn": [
                          0.002261574443
                        ],
                        "iteration": 876,
                        "passed_time": 52.5768305,
                        "remaining_time": 247.1770492,
                        "test": [
                          0.9644976031,
                          0.003318370038
                        ]
                      },
                      {
                        "learn": [
                          0.002261200198
                        ],
                        "iteration": 877,
                        "passed_time": 52.61735333,
                        "remaining_time": 247.0258888,
                        "test": [
                          0.9645405628,
                          0.003317789952
                        ]
                      },
                      {
                        "learn": [
                          0.002260836025
                        ],
                        "iteration": 878,
                        "passed_time": 52.65857528,
                        "remaining_time": 246.8782579,
                        "test": [
                          0.9645313119,
                          0.003317723073
                        ]
                      },
                      {
                        "learn": [
                          0.002260290975
                        ],
                        "iteration": 879,
                        "passed_time": 52.70113868,
                        "remaining_time": 246.7371493,
                        "test": [
                          0.9645403094,
                          0.003317551844
                        ]
                      },
                      {
                        "learn": [
                          0.002259750716
                        ],
                        "iteration": 880,
                        "passed_time": 52.74484126,
                        "remaining_time": 246.6015904,
                        "test": [
                          0.9645223144,
                          0.003317197837
                        ]
                      },
                      {
                        "learn": [
                          0.00225919574
                        ],
                        "iteration": 881,
                        "passed_time": 52.78668612,
                        "remaining_time": 246.4575663,
                        "test": [
                          0.9645196532,
                          0.003317074654
                        ]
                      },
                      {
                        "learn": [
                          0.002258779702
                        ],
                        "iteration": 882,
                        "passed_time": 52.8278512,
                        "remaining_time": 246.3106041,
                        "test": [
                          0.9644036998,
                          0.0033174392
                        ]
                      },
                      {
                        "learn": [
                          0.002258151104
                        ],
                        "iteration": 883,
                        "passed_time": 52.86989146,
                        "remaining_time": 246.1679562,
                        "test": [
                          0.9643910273,
                          0.003317603318
                        ]
                      },
                      {
                        "learn": [
                          0.002257697853
                        ],
                        "iteration": 884,
                        "passed_time": 52.91279449,
                        "remaining_time": 246.0295473,
                        "test": [
                          0.9643668228,
                          0.003317711755
                        ]
                      },
                      {
                        "learn": [
                          0.00225704544
                        ],
                        "iteration": 885,
                        "passed_time": 52.95432781,
                        "remaining_time": 245.8849939,
                        "test": [
                          0.9643587124,
                          0.003317765194
                        ]
                      },
                      {
                        "learn": [
                          0.002256862209
                        ],
                        "iteration": 886,
                        "passed_time": 53.00910691,
                        "remaining_time": 245.8020933,
                        "test": [
                          0.9642385771,
                          0.003317956998
                        ]
                      },
                      {
                        "learn": [
                          0.002256575688
                        ],
                        "iteration": 887,
                        "passed_time": 53.04976703,
                        "remaining_time": 245.6538761,
                        "test": [
                          0.9642414918,
                          0.00331764376
                        ]
                      },
                      {
                        "learn": [
                          0.00225627109
                        ],
                        "iteration": 888,
                        "passed_time": 53.09246123,
                        "remaining_time": 245.5153072,
                        "test": [
                          0.9642805231,
                          0.003317561302
                        ]
                      },
                      {
                        "learn": [
                          0.00225611522
                        ],
                        "iteration": 889,
                        "passed_time": 53.1335022,
                        "remaining_time": 245.3693191,
                        "test": [
                          0.9641706525,
                          0.003317705972
                        ]
                      },
                      {
                        "learn": [
                          0.002256008784
                        ],
                        "iteration": 890,
                        "passed_time": 53.17424283,
                        "remaining_time": 245.2221816,
                        "test": [
                          0.9641586136,
                          0.003317512054
                        ]
                      },
                      {
                        "learn": [
                          0.002255682691
                        ],
                        "iteration": 891,
                        "passed_time": 53.21508497,
                        "remaining_time": 245.0757501,
                        "test": [
                          0.9641204694,
                          0.003318124608
                        ]
                      },
                      {
                        "learn": [
                          0.002255097209
                        ],
                        "iteration": 892,
                        "passed_time": 53.25447512,
                        "remaining_time": 244.9228772,
                        "test": [
                          0.9641105848,
                          0.003318115236
                        ]
                      },
                      {
                        "learn": [
                          0.002254765611
                        ],
                        "iteration": 893,
                        "passed_time": 53.29545205,
                        "remaining_time": 244.777546,
                        "test": [
                          0.9641152736,
                          0.003318427964
                        ]
                      },
                      {
                        "learn": [
                          0.002253537858
                        ],
                        "iteration": 894,
                        "passed_time": 53.33934512,
                        "remaining_time": 244.6458231,
                        "test": [
                          0.964142773,
                          0.003317356376
                        ]
                      },
                      {
                        "learn": [
                          0.002253170112
                        ],
                        "iteration": 895,
                        "passed_time": 53.3810897,
                        "remaining_time": 244.5044555,
                        "test": [
                          0.9641577265,
                          0.003317096511
                        ]
                      },
                      {
                        "learn": [
                          0.002252896733
                        ],
                        "iteration": 896,
                        "passed_time": 53.58254608,
                        "remaining_time": 245.0938535,
                        "test": [
                          0.9641127391,
                          0.003316670697
                        ]
                      },
                      {
                        "learn": [
                          0.002252392188
                        ],
                        "iteration": 897,
                        "passed_time": 53.62535699,
                        "remaining_time": 244.9568089,
                        "test": [
                          0.964116034,
                          0.003316515133
                        ]
                      },
                      {
                        "learn": [
                          0.002252087021
                        ],
                        "iteration": 898,
                        "passed_time": 53.66847362,
                        "remaining_time": 244.8213686,
                        "test": [
                          0.9641467015,
                          0.003316530647
                        ]
                      },
                      {
                        "learn": [
                          0.002251472399
                        ],
                        "iteration": 899,
                        "passed_time": 53.71171893,
                        "remaining_time": 244.6867196,
                        "test": [
                          0.9641370704,
                          0.003316546232
                        ]
                      },
                      {
                        "learn": [
                          0.002251155944
                        ],
                        "iteration": 900,
                        "passed_time": 53.75923086,
                        "remaining_time": 244.571684,
                        "test": [
                          0.9640444344,
                          0.003316143041
                        ]
                      },
                      {
                        "learn": [
                          0.002250949783
                        ],
                        "iteration": 901,
                        "passed_time": 53.80056179,
                        "remaining_time": 244.4287164,
                        "test": [
                          0.9640271998,
                          0.003316112829
                        ]
                      },
                      {
                        "learn": [
                          0.002250411308
                        ],
                        "iteration": 902,
                        "passed_time": 53.84325728,
                        "remaining_time": 244.2921651,
                        "test": [
                          0.9640100919,
                          0.003316326719
                        ]
                      },
                      {
                        "learn": [
                          0.002249858047
                        ],
                        "iteration": 903,
                        "passed_time": 53.88659412,
                        "remaining_time": 244.1587273,
                        "test": [
                          0.9639779037,
                          0.003316312182
                        ]
                      },
                      {
                        "learn": [
                          0.002249738394
                        ],
                        "iteration": 904,
                        "passed_time": 53.92703805,
                        "remaining_time": 244.0123987,
                        "test": [
                          0.9639784106,
                          0.003316119029
                        ]
                      },
                      {
                        "learn": [
                          0.002249644245
                        ],
                        "iteration": 905,
                        "passed_time": 53.96821134,
                        "remaining_time": 243.8695996,
                        "test": [
                          0.9639757494,
                          0.003315952136
                        ]
                      },
                      {
                        "learn": [
                          0.002249119129
                        ],
                        "iteration": 906,
                        "passed_time": 54.02207137,
                        "remaining_time": 243.7842758,
                        "test": [
                          0.9639801848,
                          0.00331572369
                        ]
                      },
                      {
                        "learn": [
                          0.002248749027
                        ],
                        "iteration": 907,
                        "passed_time": 54.0632624,
                        "remaining_time": 243.641927,
                        "test": [
                          0.9638053042,
                          0.003315548756
                        ]
                      },
                      {
                        "learn": [
                          0.002248551155
                        ],
                        "iteration": 908,
                        "passed_time": 54.10464642,
                        "remaining_time": 243.5006694,
                        "test": [
                          0.9638126543,
                          0.003315515557
                        ]
                      },
                      {
                        "learn": [
                          0.002248231487
                        ],
                        "iteration": 909,
                        "passed_time": 54.1500642,
                        "remaining_time": 243.3777611,
                        "test": [
                          0.9638340708,
                          0.003314925825
                        ]
                      },
                      {
                        "learn": [
                          0.00224763265
                        ],
                        "iteration": 910,
                        "passed_time": 54.19107892,
                        "remaining_time": 243.2352598,
                        "test": [
                          0.9638282415,
                          0.00331506126
                        ]
                      },
                      {
                        "learn": [
                          0.002247358269
                        ],
                        "iteration": 911,
                        "passed_time": 54.23272176,
                        "remaining_time": 243.0957967,
                        "test": [
                          0.9638154422,
                          0.003314570095
                        ]
                      },
                      {
                        "learn": [
                          0.002247060602
                        ],
                        "iteration": 912,
                        "passed_time": 54.27279524,
                        "remaining_time": 242.9495226,
                        "test": [
                          0.9638181035,
                          0.003314236859
                        ]
                      },
                      {
                        "learn": [
                          0.002246738646
                        ],
                        "iteration": 913,
                        "passed_time": 54.31299004,
                        "remaining_time": 242.8040233,
                        "test": [
                          0.9638093594,
                          0.003314155507
                        ]
                      },
                      {
                        "learn": [
                          0.002246300611
                        ],
                        "iteration": 914,
                        "passed_time": 54.3543849,
                        "remaining_time": 242.6641118,
                        "test": [
                          0.9638504183,
                          0.003313582379
                        ]
                      },
                      {
                        "learn": [
                          0.002245945013
                        ],
                        "iteration": 915,
                        "passed_time": 54.39511005,
                        "remaining_time": 242.5214295,
                        "test": [
                          0.9638116405,
                          0.00331370801
                        ]
                      },
                      {
                        "learn": [
                          0.002245138369
                        ],
                        "iteration": 916,
                        "passed_time": 54.43527493,
                        "remaining_time": 242.3764749,
                        "test": [
                          0.9638107534,
                          0.003313391265
                        ]
                      },
                      {
                        "learn": [
                          0.002244950569
                        ],
                        "iteration": 917,
                        "passed_time": 54.47676668,
                        "remaining_time": 242.2376488,
                        "test": [
                          0.9638028965,
                          0.003313376302
                        ]
                      },
                      {
                        "learn": [
                          0.002244476961
                        ],
                        "iteration": 918,
                        "passed_time": 54.5177663,
                        "remaining_time": 242.096849,
                        "test": [
                          0.9638387596,
                          0.003312844147
                        ]
                      },
                      {
                        "learn": [
                          0.002244140361
                        ],
                        "iteration": 919,
                        "passed_time": 54.61818505,
                        "remaining_time": 242.2197772,
                        "test": [
                          0.9638297622,
                          0.003312787829
                        ]
                      },
                      {
                        "learn": [
                          0.002243907483
                        ],
                        "iteration": 920,
                        "passed_time": 54.67465755,
                        "remaining_time": 242.1475876,
                        "test": [
                          0.9638287484,
                          0.003312699045
                        ]
                      },
                      {
                        "learn": [
                          0.002243578169
                        ],
                        "iteration": 921,
                        "passed_time": 54.71671379,
                        "remaining_time": 242.011669,
                        "test": [
                          0.9638200043,
                          0.003312644042
                        ]
                      },
                      {
                        "learn": [
                          0.002243006762
                        ],
                        "iteration": 922,
                        "passed_time": 54.75723602,
                        "remaining_time": 241.869178,
                        "test": [
                          0.9638131612,
                          0.003312642588
                        ]
                      },
                      {
                        "learn": [
                          0.002242734025
                        ],
                        "iteration": 923,
                        "passed_time": 54.7974323,
                        "remaining_time": 241.7254697,
                        "test": [
                          0.9638098663,
                          0.003312489053
                        ]
                      },
                      {
                        "learn": [
                          0.002242081538
                        ],
                        "iteration": 924,
                        "passed_time": 54.84067812,
                        "remaining_time": 241.5954198,
                        "test": [
                          0.9638315363,
                          0.003312177888
                        ]
                      },
                      {
                        "learn": [
                          0.002241743295
                        ],
                        "iteration": 925,
                        "passed_time": 54.88310598,
                        "remaining_time": 241.4619587,
                        "test": [
                          0.963840914,
                          0.00331166056
                        ]
                      },
                      {
                        "learn": [
                          0.002241500135
                        ],
                        "iteration": 926,
                        "passed_time": 54.92343154,
                        "remaining_time": 241.319457,
                        "test": [
                          0.9638336906,
                          0.003311744052
                        ]
                      },
                      {
                        "learn": [
                          0.002240767901
                        ],
                        "iteration": 927,
                        "passed_time": 54.96618123,
                        "remaining_time": 241.1878125,
                        "test": [
                          0.9639448285,
                          0.003311779666
                        ]
                      },
                      {
                        "learn": [
                          0.002240455592
                        ],
                        "iteration": 928,
                        "passed_time": 55.02106537,
                        "remaining_time": 241.109534,
                        "test": [
                          0.9638581486,
                          0.003311407134
                        ]
                      },
                      {
                        "learn": [
                          0.00223935121
                        ],
                        "iteration": 929,
                        "passed_time": 55.06493551,
                        "remaining_time": 240.9831049,
                        "test": [
                          0.9638551072,
                          0.003311294943
                        ]
                      },
                      {
                        "learn": [
                          0.00223873844
                        ],
                        "iteration": 930,
                        "passed_time": 55.10546239,
                        "remaining_time": 240.8422411,
                        "test": [
                          0.9639225249,
                          0.003311014598
                        ]
                      },
                      {
                        "learn": [
                          0.002238545709
                        ],
                        "iteration": 931,
                        "passed_time": 55.14564351,
                        "remaining_time": 240.7000835,
                        "test": [
                          0.963927087,
                          0.003310801423
                        ]
                      },
                      {
                        "learn": [
                          0.002238253829
                        ],
                        "iteration": 932,
                        "passed_time": 55.18717831,
                        "remaining_time": 240.5640452,
                        "test": [
                          0.9638535865,
                          0.003310427611
                        ]
                      },
                      {
                        "learn": [
                          0.002238022381
                        ],
                        "iteration": 933,
                        "passed_time": 55.22877435,
                        "remaining_time": 240.4284759,
                        "test": [
                          0.9638080922,
                          0.003310301496
                        ]
                      },
                      {
                        "learn": [
                          0.00223741783
                        ],
                        "iteration": 934,
                        "passed_time": 55.26927529,
                        "remaining_time": 240.2883466,
                        "test": [
                          0.9638073318,
                          0.003310826503
                        ]
                      },
                      {
                        "learn": [
                          0.00223632695
                        ],
                        "iteration": 935,
                        "passed_time": 55.3109109,
                        "remaining_time": 240.1533567,
                        "test": [
                          0.9638046706,
                          0.003310714659
                        ]
                      },
                      {
                        "learn": [
                          0.002235571244
                        ],
                        "iteration": 936,
                        "passed_time": 55.35359623,
                        "remaining_time": 240.0231179,
                        "test": [
                          0.9638159491,
                          0.003310490055
                        ]
                      },
                      {
                        "learn": [
                          0.002234514511
                        ],
                        "iteration": 937,
                        "passed_time": 55.39341794,
                        "remaining_time": 239.8806649,
                        "test": [
                          0.9638230457,
                          0.003309593669
                        ]
                      },
                      {
                        "learn": [
                          0.002233924033
                        ],
                        "iteration": 938,
                        "passed_time": 55.43433659,
                        "remaining_time": 239.7431745,
                        "test": [
                          0.9638207647,
                          0.003310125881
                        ]
                      },
                      {
                        "learn": [
                          0.002233457779
                        ],
                        "iteration": 939,
                        "passed_time": 55.47777996,
                        "remaining_time": 239.6167943,
                        "test": [
                          0.9638106267,
                          0.003310093675
                        ]
                      },
                      {
                        "learn": [
                          0.002233188785
                        ],
                        "iteration": 940,
                        "passed_time": 55.51862145,
                        "remaining_time": 239.4793671,
                        "test": [
                          0.963800362,
                          0.003310401556
                        ]
                      },
                      {
                        "learn": [
                          0.002232648143
                        ],
                        "iteration": 941,
                        "passed_time": 55.55903826,
                        "remaining_time": 239.3403156,
                        "test": [
                          0.9637715954,
                          0.003309914677
                        ]
                      },
                      {
                        "learn": [
                          0.002232396648
                        ],
                        "iteration": 942,
                        "passed_time": 55.61892234,
                        "remaining_time": 239.2852258,
                        "test": [
                          0.9637356055,
                          0.003309607225
                        ]
                      },
                      {
                        "learn": [
                          0.002231929322
                        ],
                        "iteration": 943,
                        "passed_time": 55.71616902,
                        "remaining_time": 239.3906584,
                        "test": [
                          0.9637177372,
                          0.003309313046
                        ]
                      },
                      {
                        "learn": [
                          0.002231605366
                        ],
                        "iteration": 944,
                        "passed_time": 55.75861405,
                        "remaining_time": 239.2605079,
                        "test": [
                          0.9637340848,
                          0.003309162271
                        ]
                      },
                      {
                        "learn": [
                          0.00223137306
                        ],
                        "iteration": 945,
                        "passed_time": 55.79946223,
                        "remaining_time": 239.1236996,
                        "test": [
                          0.9637255942,
                          0.003308971421
                        ]
                      },
                      {
                        "learn": [
                          0.002230771225
                        ],
                        "iteration": 946,
                        "passed_time": 55.84236082,
                        "remaining_time": 238.9958695,
                        "test": [
                          0.9637203985,
                          0.003308994426
                        ]
                      },
                      {
                        "learn": [
                          0.002230470347
                        ],
                        "iteration": 947,
                        "passed_time": 55.8868332,
                        "remaining_time": 238.8749453,
                        "test": [
                          0.9636428427,
                          0.003309263021
                        ]
                      },
                      {
                        "learn": [
                          0.002229937659
                        ],
                        "iteration": 948,
                        "passed_time": 55.92804308,
                        "remaining_time": 238.7402555,
                        "test": [
                          0.9636903646,
                          0.003309079197
                        ]
                      },
                      {
                        "learn": [
                          0.002229637562
                        ],
                        "iteration": 949,
                        "passed_time": 55.96846013,
                        "remaining_time": 238.6023827,
                        "test": [
                          0.9636885905,
                          0.003309039506
                        ]
                      },
                      {
                        "learn": [
                          0.002229056441
                        ],
                        "iteration": 950,
                        "passed_time": 56.01108533,
                        "remaining_time": 238.4741162,
                        "test": [
                          0.9636789594,
                          0.003309071412
                        ]
                      },
                      {
                        "learn": [
                          0.002228699482
                        ],
                        "iteration": 951,
                        "passed_time": 56.06298452,
                        "remaining_time": 238.3854636,
                        "test": [
                          0.9636847887,
                          0.003308688993
                        ]
                      },
                      {
                        "learn": [
                          0.002228116691
                        ],
                        "iteration": 952,
                        "passed_time": 56.10490879,
                        "remaining_time": 238.2545287,
                        "test": [
                          0.9636765516,
                          0.003308681493
                        ]
                      },
                      {
                        "learn": [
                          0.002227761089
                        ],
                        "iteration": 953,
                        "passed_time": 56.14599737,
                        "remaining_time": 238.1202362,
                        "test": [
                          0.9636988552,
                          0.003308370078
                        ]
                      },
                      {
                        "learn": [
                          0.00222696352
                        ],
                        "iteration": 954,
                        "passed_time": 56.19064911,
                        "remaining_time": 238.001231,
                        "test": [
                          0.9637855351,
                          0.003308330412
                        ]
                      },
                      {
                        "learn": [
                          0.002226806435
                        ],
                        "iteration": 955,
                        "passed_time": 56.23158181,
                        "remaining_time": 237.8666494,
                        "test": [
                          0.9637633582,
                          0.003308238891
                        ]
                      },
                      {
                        "learn": [
                          0.002226362539
                        ],
                        "iteration": 956,
                        "passed_time": 56.27679188,
                        "remaining_time": 237.7503339,
                        "test": [
                          0.9637805928,
                          0.003308108168
                        ]
                      },
                      {
                        "learn": [
                          0.002225998724
                        ],
                        "iteration": 957,
                        "passed_time": 56.31809662,
                        "remaining_time": 237.6176895,
                        "test": [
                          0.963642716,
                          0.003308296245
                        ]
                      },
                      {
                        "learn": [
                          0.00222563855
                        ],
                        "iteration": 958,
                        "passed_time": 56.35992572,
                        "remaining_time": 237.4874451,
                        "test": [
                          0.9636495592,
                          0.003308020222
                        ]
                      },
                      {
                        "learn": [
                          0.002225031715
                        ],
                        "iteration": 959,
                        "passed_time": 56.40143591,
                        "remaining_time": 237.3560428,
                        "test": [
                          0.9636522204,
                          0.003307243854
                        ]
                      },
                      {
                        "learn": [
                          0.002224691543
                        ],
                        "iteration": 960,
                        "passed_time": 56.44287955,
                        "remaining_time": 237.2245478,
                        "test": [
                          0.9636612179,
                          0.003307420784
                        ]
                      },
                      {
                        "learn": [
                          0.002224101207
                        ],
                        "iteration": 961,
                        "passed_time": 56.4840794,
                        "remaining_time": 237.0922169,
                        "test": [
                          0.9636567825,
                          0.003307005013
                        ]
                      },
                      {
                        "learn": [
                          0.002223645312
                        ],
                        "iteration": 962,
                        "passed_time": 56.52510569,
                        "remaining_time": 236.9593475,
                        "test": [
                          0.9636552618,
                          0.003306440313
                        ]
                      },
                      {
                        "learn": [
                          0.002223398006
                        ],
                        "iteration": 963,
                        "passed_time": 56.56616569,
                        "remaining_time": 236.8268099,
                        "test": [
                          0.9636234538,
                          0.003306182993
                        ]
                      },
                      {
                        "learn": [
                          0.002222736234
                        ],
                        "iteration": 964,
                        "passed_time": 56.60872344,
                        "remaining_time": 236.7007244,
                        "test": [
                          0.9637352253,
                          0.003305410089
                        ]
                      },
                      {
                        "learn": [
                          0.002222645797
                        ],
                        "iteration": 965,
                        "passed_time": 56.6522611,
                        "remaining_time": 236.578904,
                        "test": [
                          0.9637221726,
                          0.003305359606
                        ]
                      },
                      {
                        "learn": [
                          0.002222329343
                        ],
                        "iteration": 966,
                        "passed_time": 56.77774491,
                        "remaining_time": 236.7990126,
                        "test": [
                          0.9637231864,
                          0.003305341972
                        ]
                      },
                      {
                        "learn": [
                          0.002221753363
                        ],
                        "iteration": 967,
                        "passed_time": 56.82095845,
                        "remaining_time": 236.6757278,
                        "test": [
                          0.9637236933,
                          0.003305380227
                        ]
                      },
                      {
                        "learn": [
                          0.002221413403
                        ],
                        "iteration": 968,
                        "passed_time": 56.8656752,
                        "remaining_time": 236.5588614,
                        "test": [
                          0.9637231864,
                          0.003305584924
                        ]
                      },
                      {
                        "learn": [
                          0.002220967081
                        ],
                        "iteration": 969,
                        "passed_time": 56.90928423,
                        "remaining_time": 236.4375417,
                        "test": [
                          0.9637027837,
                          0.003305307282
                        ]
                      },
                      {
                        "learn": [
                          0.002220079292
                        ],
                        "iteration": 970,
                        "passed_time": 56.95127204,
                        "remaining_time": 236.3096551,
                        "test": [
                          0.9637013897,
                          0.003305108265
                        ]
                      },
                      {
                        "learn": [
                          0.002219469287
                        ],
                        "iteration": 971,
                        "passed_time": 56.99126912,
                        "remaining_time": 236.1736955,
                        "test": [
                          0.9636978414,
                          0.003305051441
                        ]
                      },
                      {
                        "learn": [
                          0.002219046324
                        ],
                        "iteration": 972,
                        "passed_time": 57.0308447,
                        "remaining_time": 236.0361887,
                        "test": [
                          0.9636932793,
                          0.00330481038
                        ]
                      },
                      {
                        "learn": [
                          0.002218727443
                        ],
                        "iteration": 973,
                        "passed_time": 57.08160768,
                        "remaining_time": 235.9451258,
                        "test": [
                          0.9636588101,
                          0.003304931027
                        ]
                      },
                      {
                        "learn": [
                          0.002218242688
                        ],
                        "iteration": 974,
                        "passed_time": 57.12202279,
                        "remaining_time": 235.8114274,
                        "test": [
                          0.9636800999,
                          0.003304695926
                        ]
                      },
                      {
                        "learn": [
                          0.002217686926
                        ],
                        "iteration": 975,
                        "passed_time": 57.16509759,
                        "remaining_time": 235.688886,
                        "test": [
                          0.9636778188,
                          0.003304745992
                        ]
                      },
                      {
                        "learn": [
                          0.002217387756
                        ],
                        "iteration": 976,
                        "passed_time": 57.20578911,
                        "remaining_time": 235.5566935,
                        "test": [
                          0.9636818741,
                          0.003304520148
                        ]
                      },
                      {
                        "learn": [
                          0.002217082946
                        ],
                        "iteration": 977,
                        "passed_time": 57.24819845,
                        "remaining_time": 235.4317527,
                        "test": [
                          0.9637245804,
                          0.003304078144
                        ]
                      },
                      {
                        "learn": [
                          0.002216519682
                        ],
                        "iteration": 978,
                        "passed_time": 57.28864992,
                        "remaining_time": 235.2989391,
                        "test": [
                          0.9637190045,
                          0.003304243901
                        ]
                      },
                      {
                        "learn": [
                          0.002216194726
                        ],
                        "iteration": 979,
                        "passed_time": 57.32889426,
                        "remaining_time": 235.1654642,
                        "test": [
                          0.9637269882,
                          0.003303727471
                        ]
                      },
                      {
                        "learn": [
                          0.002215662038
                        ],
                        "iteration": 980,
                        "passed_time": 57.37577998,
                        "remaining_time": 235.0593881,
                        "test": [
                          0.9638600494,
                          0.003302749732
                        ]
                      },
                      {
                        "learn": [
                          0.002215421162
                        ],
                        "iteration": 981,
                        "passed_time": 57.41769754,
                        "remaining_time": 234.9331046,
                        "test": [
                          0.9638590356,
                          0.003302295484
                        ]
                      },
                      {
                        "learn": [
                          0.002214222985
                        ],
                        "iteration": 982,
                        "passed_time": 57.46062217,
                        "remaining_time": 234.8111081,
                        "test": [
                          0.9640097117,
                          0.003301651933
                        ]
                      },
                      {
                        "learn": [
                          0.002213290687
                        ],
                        "iteration": 983,
                        "passed_time": 57.50515399,
                        "remaining_time": 234.6958317,
                        "test": [
                          0.9640986727,
                          0.00330098415
                        ]
                      },
                      {
                        "learn": [
                          0.002212895724
                        ],
                        "iteration": 984,
                        "passed_time": 57.54823553,
                        "remaining_time": 234.5747875,
                        "test": [
                          0.9640990528,
                          0.003301068156
                        ]
                      },
                      {
                        "learn": [
                          0.002212625088
                        ],
                        "iteration": 985,
                        "passed_time": 57.59170503,
                        "remaining_time": 234.4554807,
                        "test": [
                          0.9640930968,
                          0.003301336367
                        ]
                      },
                      {
                        "learn": [
                          0.002212320135
                        ],
                        "iteration": 986,
                        "passed_time": 57.63253573,
                        "remaining_time": 234.3255987,
                        "test": [
                          0.9639919702,
                          0.003301516195
                        ]
                      },
                      {
                        "learn": [
                          0.00221198411
                        ],
                        "iteration": 987,
                        "passed_time": 57.67245857,
                        "remaining_time": 234.1922103,
                        "test": [
                          0.9639820856,
                          0.003301555725
                        ]
                      },
                      {
                        "learn": [
                          0.002211798595
                        ],
                        "iteration": 988,
                        "passed_time": 57.73081674,
                        "remaining_time": 234.1337775,
                        "test": [
                          0.9639704269,
                          0.003301476372
                        ]
                      },
                      {
                        "learn": [
                          0.002211540148
                        ],
                        "iteration": 989,
                        "passed_time": 57.82625133,
                        "remaining_time": 234.2255231,
                        "test": [
                          0.9639591484,
                          0.003301762726
                        ]
                      },
                      {
                        "learn": [
                          0.002211093898
                        ],
                        "iteration": 990,
                        "passed_time": 57.87883924,
                        "remaining_time": 234.1435585,
                        "test": [
                          0.9639530656,
                          0.00330134497
                        ]
                      },
                      {
                        "learn": [
                          0.002210526207
                        ],
                        "iteration": 991,
                        "passed_time": 57.92238426,
                        "remaining_time": 234.025117,
                        "test": [
                          0.9640659776,
                          0.003300527491
                        ]
                      },
                      {
                        "learn": [
                          0.002210165461
                        ],
                        "iteration": 992,
                        "passed_time": 57.96203851,
                        "remaining_time": 233.8911262,
                        "test": [
                          0.9640735811,
                          0.003300261638
                        ]
                      },
                      {
                        "learn": [
                          0.002209894797
                        ],
                        "iteration": 993,
                        "passed_time": 58.00516987,
                        "remaining_time": 233.7713385,
                        "test": [
                          0.964099433,
                          0.003299700982
                        ]
                      },
                      {
                        "learn": [
                          0.002209688209
                        ],
                        "iteration": 994,
                        "passed_time": 58.04576899,
                        "remaining_time": 233.6415124,
                        "test": [
                          0.9641066563,
                          0.003299465114
                        ]
                      },
                      {
                        "learn": [
                          0.002209147662
                        ],
                        "iteration": 995,
                        "passed_time": 58.09816526,
                        "remaining_time": 233.5592909,
                        "test": [
                          0.9641046287,
                          0.003299519886
                        ]
                      },
                      {
                        "learn": [
                          0.002208927501
                        ],
                        "iteration": 996,
                        "passed_time": 58.13894489,
                        "remaining_time": 233.4304879,
                        "test": [
                          0.964102221,
                          0.003299598245
                        ]
                      },
                      {
                        "learn": [
                          0.002208421314
                        ],
                        "iteration": 997,
                        "passed_time": 58.17929129,
                        "remaining_time": 233.300124,
                        "test": [
                          0.9640986727,
                          0.003299647427
                        ]
                      },
                      {
                        "learn": [
                          0.002208082029
                        ],
                        "iteration": 998,
                        "passed_time": 58.21961724,
                        "remaining_time": 233.1698584,
                        "test": [
                          0.9640862536,
                          0.003299705563
                        ]
                      },
                      {
                        "learn": [
                          0.002207141707
                        ],
                        "iteration": 999,
                        "passed_time": 58.26292382,
                        "remaining_time": 233.0516953,
                        "test": [
                          0.9641077969,
                          0.003299224631
                        ]
                      },
                      {
                        "learn": [
                          0.002206930764
                        ],
                        "iteration": 1000,
                        "passed_time": 58.30364522,
                        "remaining_time": 232.9233539,
                        "test": [
                          0.9640951244,
                          0.003299326087
                        ]
                      },
                      {
                        "learn": [
                          0.002206573377
                        ],
                        "iteration": 1001,
                        "passed_time": 58.34794011,
                        "remaining_time": 232.8094457,
                        "test": [
                          0.9640965183,
                          0.003299194124
                        ]
                      },
                      {
                        "learn": [
                          0.002206320432
                        ],
                        "iteration": 1002,
                        "passed_time": 58.39304584,
                        "remaining_time": 232.6989075,
                        "test": [
                          0.9640873941,
                          0.003299475509
                        ]
                      },
                      {
                        "learn": [
                          0.002206096842
                        ],
                        "iteration": 1003,
                        "passed_time": 58.43393444,
                        "remaining_time": 232.5717151,
                        "test": [
                          0.9640840993,
                          0.003299236076
                        ]
                      },
                      {
                        "learn": [
                          0.002205896682
                        ],
                        "iteration": 1004,
                        "passed_time": 58.47821506,
                        "remaining_time": 232.4581783,
                        "test": [
                          0.9640699061,
                          0.003299274878
                        ]
                      },
                      {
                        "learn": [
                          0.002205413783
                        ],
                        "iteration": 1005,
                        "passed_time": 58.52667222,
                        "remaining_time": 232.3613607,
                        "test": [
                          0.964055206,
                          0.003299516765
                        ]
                      },
                      {
                        "learn": [
                          0.002204326047
                        ],
                        "iteration": 1006,
                        "passed_time": 58.5708735,
                        "remaining_time": 232.2477636,
                        "test": [
                          0.9642186813,
                          0.003298072545
                        ]
                      },
                      {
                        "learn": [
                          0.002204074197
                        ],
                        "iteration": 1007,
                        "passed_time": 58.61197404,
                        "remaining_time": 232.1220242,
                        "test": [
                          0.9642098105,
                          0.003298351629
                        ]
                      },
                      {
                        "learn": [
                          0.002203769101
                        ],
                        "iteration": 1008,
                        "passed_time": 58.653521,
                        "remaining_time": 231.9982184,
                        "test": [
                          0.9642024605,
                          0.003298309709
                        ]
                      },
                      {
                        "learn": [
                          0.002203286774
                        ],
                        "iteration": 1009,
                        "passed_time": 58.69766682,
                        "remaining_time": 231.8848422,
                        "test": [
                          0.9641800301,
                          0.003298032481
                        ]
                      },
                      {
                        "learn": [
                          0.002202910886
                        ],
                        "iteration": 1010,
                        "passed_time": 58.73890654,
                        "remaining_time": 231.7601367,
                        "test": [
                          0.9641581067,
                          0.003297878351
                        ]
                      },
                      {
                        "learn": [
                          0.002202074243
                        ],
                        "iteration": 1011,
                        "passed_time": 58.80193225,
                        "remaining_time": 231.7214484,
                        "test": [
                          0.9641622886,
                          0.003297677803
                        ]
                      },
                      {
                        "learn": [
                          0.002201837936
                        ],
                        "iteration": 1012,
                        "passed_time": 58.90687966,
                        "remaining_time": 231.847709,
                        "test": [
                          0.9641610214,
                          0.00329721703
                        ]
                      },
                      {
                        "learn": [
                          0.002201556915
                        ],
                        "iteration": 1013,
                        "passed_time": 58.94846617,
                        "remaining_time": 231.7244439,
                        "test": [
                          0.9641700189,
                          0.003297156569
                        ]
                      },
                      {
                        "learn": [
                          0.002201288325
                        ],
                        "iteration": 1014,
                        "passed_time": 58.9889617,
                        "remaining_time": 231.5970565,
                        "test": [
                          0.9641432799,
                          0.003297348241
                        ]
                      },
                      {
                        "learn": [
                          0.002201093023
                        ],
                        "iteration": 1015,
                        "passed_time": 59.02871831,
                        "remaining_time": 231.4669427,
                        "test": [
                          0.9641489825,
                          0.00329712916
                        ]
                      },
                      {
                        "learn": [
                          0.002200903435
                        ],
                        "iteration": 1016,
                        "passed_time": 59.0728788,
                        "remaining_time": 231.354254,
                        "test": [
                          0.9641506299,
                          0.003297035318
                        ]
                      },
                      {
                        "learn": [
                          0.002200152726
                        ],
                        "iteration": 1017,
                        "passed_time": 59.122,
                        "remaining_time": 231.2611041,
                        "test": [
                          0.9641639361,
                          0.00329668955
                        ]
                      },
                      {
                        "learn": [
                          0.002199816341
                        ],
                        "iteration": 1018,
                        "passed_time": 59.16506662,
                        "remaining_time": 231.1443868,
                        "test": [
                          0.9640820717,
                          0.003296519711
                        ]
                      },
                      {
                        "learn": [
                          0.002199490099
                        ],
                        "iteration": 1019,
                        "passed_time": 59.20662461,
                        "remaining_time": 231.0219274,
                        "test": [
                          0.9640744682,
                          0.003296497214
                        ]
                      },
                      {
                        "learn": [
                          0.002199028561
                        ],
                        "iteration": 1020,
                        "passed_time": 59.24999826,
                        "remaining_time": 230.9067023,
                        "test": [
                          0.9641193288,
                          0.003296032505
                        ]
                      },
                      {
                        "learn": [
                          0.002198786356
                        ],
                        "iteration": 1021,
                        "passed_time": 59.29108176,
                        "remaining_time": 230.7827037,
                        "test": [
                          0.9641104581,
                          0.003296321646
                        ]
                      },
                      {
                        "learn": [
                          0.002197664301
                        ],
                        "iteration": 1022,
                        "passed_time": 59.33368751,
                        "remaining_time": 230.6647852,
                        "test": [
                          0.964223877,
                          0.003295765649
                        ]
                      },
                      {
                        "learn": [
                          0.002196992171
                        ],
                        "iteration": 1023,
                        "passed_time": 59.37888309,
                        "remaining_time": 230.5570695,
                        "test": [
                          0.9642445332,
                          0.00329566493
                        ]
                      },
                      {
                        "learn": [
                          0.002196703933
                        ],
                        "iteration": 1024,
                        "passed_time": 59.42104654,
                        "remaining_time": 230.4377171,
                        "test": [
                          0.9642385771,
                          0.003295579736
                        ]
                      },
                      {
                        "learn": [
                          0.00219617503
                        ],
                        "iteration": 1025,
                        "passed_time": 59.46472808,
                        "remaining_time": 230.3243951,
                        "test": [
                          0.9642357892,
                          0.003295650397
                        ]
                      },
                      {
                        "learn": [
                          0.002195074721
                        ],
                        "iteration": 1026,
                        "passed_time": 59.5089172,
                        "remaining_time": 230.2131724,
                        "test": [
                          0.9643720186,
                          0.00329461032
                        ]
                      },
                      {
                        "learn": [
                          0.002194690975
                        ],
                        "iteration": 1027,
                        "passed_time": 59.54889104,
                        "remaining_time": 230.085793,
                        "test": [
                          0.9643830436,
                          0.003294087164
                        ]
                      },
                      {
                        "learn": [
                          0.002194007484
                        ],
                        "iteration": 1028,
                        "passed_time": 59.59113453,
                        "remaining_time": 229.9673423,
                        "test": [
                          0.9644356345,
                          0.003293669035
                        ]
                      },
                      {
                        "learn": [
                          0.002193431291
                        ],
                        "iteration": 1029,
                        "passed_time": 59.6317871,
                        "remaining_time": 229.8429075,
                        "test": [
                          0.9644438716,
                          0.00329390013
                        ]
                      },
                      {
                        "learn": [
                          0.002192914032
                        ],
                        "iteration": 1030,
                        "passed_time": 59.67513886,
                        "remaining_time": 229.7290263,
                        "test": [
                          0.9644355078,
                          0.003293997838
                        ]
                      },
                      {
                        "learn": [
                          0.002192683942
                        ],
                        "iteration": 1031,
                        "passed_time": 59.71542614,
                        "remaining_time": 229.6034989,
                        "test": [
                          0.964436775,
                          0.003293631727
                        ]
                      },
                      {
                        "learn": [
                          0.002192104533
                        ],
                        "iteration": 1032,
                        "passed_time": 59.75611196,
                        "remaining_time": 229.4796671,
                        "test": [
                          0.9644260034,
                          0.003293315247
                        ]
                      },
                      {
                        "learn": [
                          0.002191992883
                        ],
                        "iteration": 1033,
                        "passed_time": 59.79755827,
                        "remaining_time": 229.358913,
                        "test": [
                          0.9644000248,
                          0.003293243108
                        ]
                      },
                      {
                        "learn": [
                          0.002191800724
                        ],
                        "iteration": 1034,
                        "passed_time": 59.84099516,
                        "remaining_time": 229.245938,
                        "test": [
                          0.9643698642,
                          0.003293268556
                        ]
                      },
                      {
                        "learn": [
                          0.002191576638
                        ],
                        "iteration": 1035,
                        "passed_time": 59.96295594,
                        "remaining_time": 229.4335496,
                        "test": [
                          0.9643623875,
                          0.003293514265
                        ]
                      },
                      {
                        "learn": [
                          0.00219138605
                        ],
                        "iteration": 1036,
                        "passed_time": 60.00411647,
                        "remaining_time": 229.3117778,
                        "test": [
                          0.9643845643,
                          0.003293026086
                        ]
                      },
                      {
                        "learn": [
                          0.002190967873
                        ],
                        "iteration": 1037,
                        "passed_time": 60.04446036,
                        "remaining_time": 229.1870443,
                        "test": [
                          0.9644110499,
                          0.003292042785
                        ]
                      },
                      {
                        "learn": [
                          0.002190796432
                        ],
                        "iteration": 1038,
                        "passed_time": 60.09050044,
                        "remaining_time": 229.0841889,
                        "test": [
                          0.9643986308,
                          0.003291960087
                        ]
                      },
                      {
                        "learn": [
                          0.002190596202
                        ],
                        "iteration": 1039,
                        "passed_time": 60.13675533,
                        "remaining_time": 228.9822607,
                        "test": [
                          0.9643955894,
                          0.003291789613
                        ]
                      },
                      {
                        "learn": [
                          0.002190085731
                        ],
                        "iteration": 1040,
                        "passed_time": 60.17668251,
                        "remaining_time": 228.8563747,
                        "test": [
                          0.9644126973,
                          0.00329135281
                        ]
                      },
                      {
                        "learn": [
                          0.002189860811
                        ],
                        "iteration": 1041,
                        "passed_time": 60.21790888,
                        "remaining_time": 228.7355886,
                        "test": [
                          0.9644045869,
                          0.003291596553
                        ]
                      },
                      {
                        "learn": [
                          0.002189604361
                        ],
                        "iteration": 1042,
                        "passed_time": 60.25854618,
                        "remaining_time": 228.6127203,
                        "test": [
                          0.9643682168,
                          0.00329134971
                        ]
                      },
                      {
                        "learn": [
                          0.002189010668
                        ],
                        "iteration": 1043,
                        "passed_time": 60.29840276,
                        "remaining_time": 228.4870511,
                        "test": [
                          0.9643835505,
                          0.003290600694
                        ]
                      },
                      {
                        "learn": [
                          0.002188760008
                        ],
                        "iteration": 1044,
                        "passed_time": 60.34267133,
                        "remaining_time": 228.3782441,
                        "test": [
                          0.9644019257,
                          0.003290096333
                        ]
                      },
                      {
                        "learn": [
                          0.002188257891
                        ],
                        "iteration": 1045,
                        "passed_time": 60.3814506,
                        "remaining_time": 228.2488104,
                        "test": [
                          0.964395336,
                          0.003290130436
                        ]
                      },
                      {
                        "learn": [
                          0.00218796808
                        ],
                        "iteration": 1046,
                        "passed_time": 60.42288444,
                        "remaining_time": 228.1295723,
                        "test": [
                          0.9643845643,
                          0.003290093102
                        ]
                      },
                      {
                        "learn": [
                          0.002187035144
                        ],
                        "iteration": 1047,
                        "passed_time": 60.46493368,
                        "remaining_time": 228.0128033,
                        "test": [
                          0.9644963358,
                          0.00328929123
                        ]
                      },
                      {
                        "learn": [
                          0.002186815053
                        ],
                        "iteration": 1048,
                        "passed_time": 60.50583257,
                        "remaining_time": 227.8918441,
                        "test": [
                          0.9644812555,
                          0.003288950516
                        ]
                      },
                      {
                        "learn": [
                          0.002186601463
                        ],
                        "iteration": 1049,
                        "passed_time": 60.54859842,
                        "remaining_time": 227.7780607,
                        "test": [
                          0.9644756796,
                          0.003288751104
                        ]
                      },
                      {
                        "learn": [
                          0.002186373231
                        ],
                        "iteration": 1050,
                        "passed_time": 60.59148904,
                        "remaining_time": 227.6648813,
                        "test": [
                          0.9644503346,
                          0.003288313169
                        ]
                      },
                      {
                        "learn": [
                          0.002186161214
                        ],
                        "iteration": 1051,
                        "passed_time": 60.6329552,
                        "remaining_time": 227.5464897,
                        "test": [
                          0.9644576847,
                          0.003287861608
                        ]
                      },
                      {
                        "learn": [
                          0.002186054564
                        ],
                        "iteration": 1052,
                        "passed_time": 60.6738601,
                        "remaining_time": 227.4261404,
                        "test": [
                          0.9644347474,
                          0.003287814529
                        ]
                      },
                      {
                        "learn": [
                          0.002185443154
                        ],
                        "iteration": 1053,
                        "passed_time": 60.71527144,
                        "remaining_time": 227.3078379,
                        "test": [
                          0.9644548967,
                          0.003287772141
                        ]
                      },
                      {
                        "learn": [
                          0.002185154344
                        ],
                        "iteration": 1054,
                        "passed_time": 60.75852783,
                        "remaining_time": 227.1965804,
                        "test": [
                          0.9644751727,
                          0.003287187917
                        ]
                      },
                      {
                        "learn": [
                          0.00218487654
                        ],
                        "iteration": 1055,
                        "passed_time": 60.7989789,
                        "remaining_time": 227.0749742,
                        "test": [
                          0.9644485605,
                          0.003287357322
                        ]
                      },
                      {
                        "learn": [
                          0.00218397332
                        ],
                        "iteration": 1056,
                        "passed_time": 60.84270887,
                        "remaining_time": 226.9657532,
                        "test": [
                          0.9646206531,
                          0.003286845104
                        ]
                      },
                      {
                        "learn": [
                          0.002183509064
                        ],
                        "iteration": 1057,
                        "passed_time": 60.88767773,
                        "remaining_time": 226.8612719,
                        "test": [
                          0.9646054461,
                          0.003287096754
                        ]
                      },
                      {
                        "learn": [
                          0.002182971803
                        ],
                        "iteration": 1058,
                        "passed_time": 60.9780244,
                        "remaining_time": 226.9257735,
                        "test": [
                          0.9645887184,
                          0.003287169422
                        ]
                      },
                      {
                        "learn": [
                          0.002182580342
                        ],
                        "iteration": 1059,
                        "passed_time": 61.0613157,
                        "remaining_time": 226.9637584,
                        "test": [
                          0.9645880847,
                          0.00328712137
                        ]
                      },
                      {
                        "learn": [
                          0.002182152231
                        ],
                        "iteration": 1060,
                        "passed_time": 61.12184178,
                        "remaining_time": 226.9169979,
                        "test": [
                          0.9646420696,
                          0.003286987409
                        ]
                      },
                      {
                        "learn": [
                          0.002181563611
                        ],
                        "iteration": 1061,
                        "passed_time": 61.165892,
                        "remaining_time": 226.8091174,
                        "test": [
                          0.9646710896,
                          0.003287156514
                        ]
                      },
                      {
                        "learn": [
                          0.002180868763
                        ],
                        "iteration": 1062,
                        "passed_time": 61.21024683,
                        "remaining_time": 226.7024852,
                        "test": [
                          0.9646894648,
                          0.003286685034
                        ]
                      },
                      {
                        "learn": [
                          0.002180418511
                        ],
                        "iteration": 1063,
                        "passed_time": 61.2536889,
                        "remaining_time": 226.5925935,
                        "test": [
                          0.9647099942,
                          0.00328693814
                        ]
                      },
                      {
                        "learn": [
                          0.002180089698
                        ],
                        "iteration": 1064,
                        "passed_time": 61.29684582,
                        "remaining_time": 226.481773,
                        "test": [
                          0.9647457307,
                          0.003286168762
                        ]
                      },
                      {
                        "learn": [
                          0.002179775672
                        ],
                        "iteration": 1065,
                        "passed_time": 61.33927417,
                        "remaining_time": 226.3683908,
                        "test": [
                          0.9647671472,
                          0.003286093388
                        ]
                      },
                      {
                        "learn": [
                          0.002179386067
                        ],
                        "iteration": 1066,
                        "passed_time": 61.37700822,
                        "remaining_time": 226.2378382,
                        "test": [
                          0.9647785524,
                          0.003286085249
                        ]
                      },
                      {
                        "learn": [
                          0.00217891567
                        ],
                        "iteration": 1067,
                        "passed_time": 61.42017625,
                        "remaining_time": 226.1274654,
                        "test": [
                          0.9647736102,
                          0.003286190545
                        ]
                      },
                      {
                        "learn": [
                          0.002178717439
                        ],
                        "iteration": 1068,
                        "passed_time": 61.46315464,
                        "remaining_time": 226.016521,
                        "test": [
                          0.9647841283,
                          0.003285947982
                        ]
                      },
                      {
                        "learn": [
                          0.002178516494
                        ],
                        "iteration": 1069,
                        "passed_time": 61.50314141,
                        "remaining_time": 225.8947157,
                        "test": [
                          0.9647885637,
                          0.003285691934
                        ]
                      },
                      {
                        "learn": [
                          0.002177942941
                        ],
                        "iteration": 1070,
                        "passed_time": 61.5434824,
                        "remaining_time": 225.7743626,
                        "test": [
                          0.9647760179,
                          0.003285440637
                        ]
                      },
                      {
                        "learn": [
                          0.002177642061
                        ],
                        "iteration": 1071,
                        "passed_time": 61.5883812,
                        "remaining_time": 225.6708595,
                        "test": [
                          0.964776905,
                          0.003285041492
                        ]
                      },
                      {
                        "learn": [
                          0.002177397755
                        ],
                        "iteration": 1072,
                        "passed_time": 61.6295577,
                        "remaining_time": 225.5538426,
                        "test": [
                          0.964771836,
                          0.003284801807
                        ]
                      },
                      {
                        "learn": [
                          0.002177186309
                        ],
                        "iteration": 1073,
                        "passed_time": 61.66979292,
                        "remaining_time": 225.4335261,
                        "test": [
                          0.9647660067,
                          0.003284594847
                        ]
                      },
                      {
                        "learn": [
                          0.002176911929
                        ],
                        "iteration": 1074,
                        "passed_time": 61.70987543,
                        "remaining_time": 225.312801,
                        "test": [
                          0.9647585299,
                          0.003284530356
                        ]
                      },
                      {
                        "learn": [
                          0.00217659869
                        ],
                        "iteration": 1075,
                        "passed_time": 61.74958762,
                        "remaining_time": 225.1908753,
                        "test": [
                          0.9647538411,
                          0.003283970308
                        ]
                      },
                      {
                        "learn": [
                          0.002175740822
                        ],
                        "iteration": 1076,
                        "passed_time": 61.79404038,
                        "remaining_time": 225.0863699,
                        "test": [
                          0.9648107406,
                          0.00328385862
                        ]
                      },
                      {
                        "learn": [
                          0.002175581737
                        ],
                        "iteration": 1077,
                        "passed_time": 61.83524343,
                        "remaining_time": 224.9701528,
                        "test": [
                          0.9648052914,
                          0.003283727741
                        ]
                      },
                      {
                        "learn": [
                          0.002174644012
                        ],
                        "iteration": 1078,
                        "passed_time": 61.8818301,
                        "remaining_time": 224.8736384,
                        "test": [
                          0.9648547142,
                          0.003283623169
                        ]
                      },
                      {
                        "learn": [
                          0.002174126681
                        ],
                        "iteration": 1079,
                        "passed_time": 61.92364347,
                        "remaining_time": 224.7598911,
                        "test": [
                          0.9648262011,
                          0.003283735098
                        ]
                      },
                      {
                        "learn": [
                          0.002173720503
                        ],
                        "iteration": 1080,
                        "passed_time": 61.96445114,
                        "remaining_time": 224.6426309,
                        "test": [
                          0.964825314,
                          0.003283327095
                        ]
                      },
                      {
                        "learn": [
                          0.002173441841
                        ],
                        "iteration": 1081,
                        "passed_time": 62.06789162,
                        "remaining_time": 224.7523099,
                        "test": [
                          0.9648026302,
                          0.00328348363
                        ]
                      },
                      {
                        "learn": [
                          0.002173273756
                        ],
                        "iteration": 1082,
                        "passed_time": 62.14780053,
                        "remaining_time": 224.7764863,
                        "test": [
                          0.9647734834,
                          0.00328341361
                        ]
                      },
                      {
                        "learn": [
                          0.00217311946
                        ],
                        "iteration": 1083,
                        "passed_time": 62.19074111,
                        "remaining_time": 224.6669209,
                        "test": [
                          0.9647804533,
                          0.003283236589
                        ]
                      },
                      {
                        "learn": [
                          0.002172548194
                        ],
                        "iteration": 1084,
                        "passed_time": 62.2353129,
                        "remaining_time": 224.5633641,
                        "test": [
                          0.9648146691,
                          0.003283057214
                        ]
                      },
                      {
                        "learn": [
                          0.002172029433
                        ],
                        "iteration": 1085,
                        "passed_time": 62.27683049,
                        "remaining_time": 224.4489084,
                        "test": [
                          0.9648139087,
                          0.003282939049
                        ]
                      },
                      {
                        "learn": [
                          0.002171815918
                        ],
                        "iteration": 1086,
                        "passed_time": 62.31985905,
                        "remaining_time": 224.3400262,
                        "test": [
                          0.9648017431,
                          0.003282538439
                        ]
                      },
                      {
                        "learn": [
                          0.002171385525
                        ],
                        "iteration": 1087,
                        "passed_time": 62.36380662,
                        "remaining_time": 224.2345694,
                        "test": [
                          0.9647785524,
                          0.003282469111
                        ]
                      },
                      {
                        "learn": [
                          0.002170979777
                        ],
                        "iteration": 1088,
                        "passed_time": 62.40910619,
                        "remaining_time": 224.1340811,
                        "test": [
                          0.9647638523,
                          0.003282216025
                        ]
                      },
                      {
                        "learn": [
                          0.002170681039
                        ],
                        "iteration": 1089,
                        "passed_time": 62.45328068,
                        "remaining_time": 224.0296582,
                        "test": [
                          0.9647964207,
                          0.003281361469
                        ]
                      },
                      {
                        "learn": [
                          0.002170357442
                        ],
                        "iteration": 1090,
                        "passed_time": 62.49558566,
                        "remaining_time": 223.9186474,
                        "test": [
                          0.9646923794,
                          0.003281545148
                        ]
                      },
                      {
                        "learn": [
                          0.002169456149
                        ],
                        "iteration": 1091,
                        "passed_time": 62.5408764,
                        "remaining_time": 223.8184478,
                        "test": [
                          0.9648222726,
                          0.003280293865
                        ]
                      },
                      {
                        "learn": [
                          0.002169054473
                        ],
                        "iteration": 1092,
                        "passed_time": 62.58199173,
                        "remaining_time": 223.7034233,
                        "test": [
                          0.9648370994,
                          0.003279671425
                        ]
                      },
                      {
                        "learn": [
                          0.002168512284
                        ],
                        "iteration": 1093,
                        "passed_time": 62.62332532,
                        "remaining_time": 223.5893133,
                        "test": [
                          0.964837733,
                          0.003280222405
                        ]
                      },
                      {
                        "learn": [
                          0.002168091534
                        ],
                        "iteration": 1094,
                        "passed_time": 62.66885013,
                        "remaining_time": 223.4902829,
                        "test": [
                          0.9648286088,
                          0.003280490128
                        ]
                      },
                      {
                        "learn": [
                          0.002167300678
                        ],
                        "iteration": 1095,
                        "passed_time": 62.71381575,
                        "remaining_time": 223.3893583,
                        "test": [
                          0.9648720755,
                          0.003279992119
                        ]
                      },
                      {
                        "learn": [
                          0.002166619951
                        ],
                        "iteration": 1096,
                        "passed_time": 62.75567259,
                        "remaining_time": 223.277475,
                        "test": [
                          0.9648865222,
                          0.003279736224
                        ]
                      },
                      {
                        "learn": [
                          0.002166167625
                        ],
                        "iteration": 1097,
                        "passed_time": 62.79537503,
                        "remaining_time": 223.1580632,
                        "test": [
                          0.9648806928,
                          0.003279802646
                        ]
                      },
                      {
                        "learn": [
                          0.00216600421
                        ],
                        "iteration": 1098,
                        "passed_time": 62.83643452,
                        "remaining_time": 223.0436133,
                        "test": [
                          0.9648611772,
                          0.003279719245
                        ]
                      },
                      {
                        "learn": [
                          0.00216574333
                        ],
                        "iteration": 1099,
                        "passed_time": 62.87858911,
                        "remaining_time": 222.9331796,
                        "test": [
                          0.9648501521,
                          0.003279657645
                        ]
                      },
                      {
                        "learn": [
                          0.002165427806
                        ],
                        "iteration": 1100,
                        "passed_time": 62.91890496,
                        "remaining_time": 222.8163583,
                        "test": [
                          0.9648610504,
                          0.003279187271
                        ]
                      },
                      {
                        "learn": [
                          0.002164957953
                        ],
                        "iteration": 1101,
                        "passed_time": 62.96186152,
                        "remaining_time": 222.7090165,
                        "test": [
                          0.9648547142,
                          0.003279294574
                        ]
                      },
                      {
                        "learn": [
                          0.002164707792
                        ],
                        "iteration": 1102,
                        "passed_time": 63.00503102,
                        "remaining_time": 222.6025439,
                        "test": [
                          0.9648751169,
                          0.00327875018
                        ]
                      },
                      {
                        "learn": [
                          0.002164263181
                        ],
                        "iteration": 1103,
                        "passed_time": 63.05109193,
                        "remaining_time": 222.5063896,
                        "test": [
                          0.9648613039,
                          0.003278476786
                        ]
                      },
                      {
                        "learn": [
                          0.002164051093
                        ],
                        "iteration": 1104,
                        "passed_time": 63.18427876,
                        "remaining_time": 222.7174351,
                        "test": [
                          0.9648632048,
                          0.003278052606
                        ]
                      },
                      {
                        "learn": [
                          0.002163436754
                        ],
                        "iteration": 1105,
                        "passed_time": 63.22734043,
                        "remaining_time": 222.6105458,
                        "test": [
                          0.9650056437,
                          0.003276725613
                        ]
                      },
                      {
                        "learn": [
                          0.002163040651
                        ],
                        "iteration": 1106,
                        "passed_time": 63.27088308,
                        "remaining_time": 222.5054633,
                        "test": [
                          0.9650223714,
                          0.003276967302
                        ]
                      },
                      {
                        "learn": [
                          0.00216253068
                        ],
                        "iteration": 1107,
                        "passed_time": 63.31152269,
                        "remaining_time": 222.3902945,
                        "test": [
                          0.9650344103,
                          0.003276249251
                        ]
                      },
                      {
                        "learn": [
                          0.002161623639
                        ],
                        "iteration": 1108,
                        "passed_time": 63.35584603,
                        "remaining_time": 222.2881848,
                        "test": [
                          0.9652960975,
                          0.003275791408
                        ]
                      },
                      {
                        "learn": [
                          0.002161313043
                        ],
                        "iteration": 1109,
                        "passed_time": 63.39681104,
                        "remaining_time": 222.1744099,
                        "test": [
                          0.9652976182,
                          0.003275304739
                        ]
                      },
                      {
                        "learn": [
                          0.002161132171
                        ],
                        "iteration": 1110,
                        "passed_time": 63.43778745,
                        "remaining_time": 222.0608059,
                        "test": [
                          0.9652941966,
                          0.003275345113
                        ]
                      },
                      {
                        "learn": [
                          0.002160870578
                        ],
                        "iteration": 1111,
                        "passed_time": 63.47848306,
                        "remaining_time": 221.9463508,
                        "test": [
                          0.9652816508,
                          0.003275270538
                        ]
                      },
                      {
                        "learn": [
                          0.002160621844
                        ],
                        "iteration": 1112,
                        "passed_time": 63.51943571,
                        "remaining_time": 221.832926,
                        "test": [
                          0.9652862129,
                          0.00327522518
                        ]
                      },
                      {
                        "learn": [
                          0.002160369394
                        ],
                        "iteration": 1113,
                        "passed_time": 63.56252379,
                        "remaining_time": 221.7270803,
                        "test": [
                          0.9652723999,
                          0.003275168889
                        ]
                      },
                      {
                        "learn": [
                          0.002159867207
                        ],
                        "iteration": 1114,
                        "passed_time": 63.60485896,
                        "remaining_time": 221.6187238,
                        "test": [
                          0.9652342557,
                          0.003275273209
                        ]
                      },
                      {
                        "learn": [
                          0.002159300302
                        ],
                        "iteration": 1115,
                        "passed_time": 63.64575448,
                        "remaining_time": 221.5054753,
                        "test": [
                          0.9651940838,
                          0.003274973766
                        ]
                      },
                      {
                        "learn": [
                          0.002158723537
                        ],
                        "iteration": 1116,
                        "passed_time": 63.68928909,
                        "remaining_time": 221.4015305,
                        "test": [
                          0.9652253849,
                          0.003274804817
                        ]
                      },
                      {
                        "learn": [
                          0.002157941157
                        ],
                        "iteration": 1117,
                        "passed_time": 63.7343605,
                        "remaining_time": 221.3030299,
                        "test": [
                          0.9652232306,
                          0.003274573605
                        ]
                      },
                      {
                        "learn": [
                          0.002157075484
                        ],
                        "iteration": 1118,
                        "passed_time": 63.77450113,
                        "remaining_time": 221.1875236,
                        "test": [
                          0.9653298063,
                          0.00327418854
                        ]
                      },
                      {
                        "learn": [
                          0.002156625803
                        ],
                        "iteration": 1119,
                        "passed_time": 63.81743665,
                        "remaining_time": 221.0818341,
                        "test": [
                          0.9653261313,
                          0.003274308957
                        ]
                      },
                      {
                        "learn": [
                          0.002156144548
                        ],
                        "iteration": 1120,
                        "passed_time": 63.85971722,
                        "remaining_time": 220.9739903,
                        "test": [
                          0.9653325943,
                          0.003273553096
                        ]
                      },
                      {
                        "learn": [
                          0.002155872623
                        ],
                        "iteration": 1121,
                        "passed_time": 63.90099525,
                        "remaining_time": 220.8627982,
                        "test": [
                          0.9653424788,
                          0.003273181714
                        ]
                      },
                      {
                        "learn": [
                          0.002155648819
                        ],
                        "iteration": 1122,
                        "passed_time": 63.94278485,
                        "remaining_time": 220.7534968,
                        "test": [
                          0.9653053484,
                          0.003272867641
                        ]
                      },
                      {
                        "learn": [
                          0.002155026168
                        ],
                        "iteration": 1123,
                        "passed_time": 63.98589396,
                        "remaining_time": 220.6488657,
                        "test": [
                          0.9654272579,
                          0.003271915451
                        ]
                      },
                      {
                        "learn": [
                          0.002154580985
                        ],
                        "iteration": 1124,
                        "passed_time": 64.02875615,
                        "remaining_time": 220.5434934,
                        "test": [
                          0.9654234561,
                          0.003272037531
                        ]
                      },
                      {
                        "learn": [
                          0.002154368781
                        ],
                        "iteration": 1125,
                        "passed_time": 64.06931423,
                        "remaining_time": 220.4303049,
                        "test": [
                          0.9654134448,
                          0.003272310174
                        ]
                      },
                      {
                        "learn": [
                          0.002154138338
                        ],
                        "iteration": 1126,
                        "passed_time": 64.11241894,
                        "remaining_time": 220.3259969,
                        "test": [
                          0.965391268,
                          0.00327249648
                        ]
                      },
                      {
                        "learn": [
                          0.002153874131
                        ],
                        "iteration": 1127,
                        "passed_time": 64.22722389,
                        "remaining_time": 220.4679175,
                        "test": [
                          0.9653826507,
                          0.003272734124
                        ]
                      },
                      {
                        "learn": [
                          0.002153684829
                        ],
                        "iteration": 1128,
                        "passed_time": 64.28840239,
                        "remaining_time": 220.4255143,
                        "test": [
                          0.9653386771,
                          0.003272802301
                        ]
                      },
                      {
                        "learn": [
                          0.002153519961
                        ],
                        "iteration": 1129,
                        "passed_time": 64.32963733,
                        "remaining_time": 220.3147756,
                        "test": [
                          0.9652992656,
                          0.003272835127
                        ]
                      },
                      {
                        "learn": [
                          0.002153378235
                        ],
                        "iteration": 1130,
                        "passed_time": 64.37221817,
                        "remaining_time": 220.208764,
                        "test": [
                          0.9653025604,
                          0.003272672001
                        ]
                      },
                      {
                        "learn": [
                          0.002153131499
                        ],
                        "iteration": 1131,
                        "passed_time": 64.41287476,
                        "remaining_time": 220.0962894,
                        "test": [
                          0.9652849457,
                          0.003272615072
                        ]
                      },
                      {
                        "learn": [
                          0.002152459728
                        ],
                        "iteration": 1132,
                        "passed_time": 64.45501555,
                        "remaining_time": 219.9890072,
                        "test": [
                          0.9652840586,
                          0.003272252283
                        ]
                      },
                      {
                        "learn": [
                          0.002152252212
                        ],
                        "iteration": 1133,
                        "passed_time": 64.49916408,
                        "remaining_time": 219.8886846,
                        "test": [
                          0.9652528842,
                          0.003271980619
                        ]
                      },
                      {
                        "learn": [
                          0.002152007406
                        ],
                        "iteration": 1134,
                        "passed_time": 64.54189289,
                        "remaining_time": 219.7836264,
                        "test": [
                          0.96523641,
                          0.003271954134
                        ]
                      },
                      {
                        "learn": [
                          0.002151818392
                        ],
                        "iteration": 1135,
                        "passed_time": 64.58366786,
                        "remaining_time": 219.6754336,
                        "test": [
                          0.9652440135,
                          0.003271502191
                        ]
                      },
                      {
                        "learn": [
                          0.002151311059
                        ],
                        "iteration": 1136,
                        "passed_time": 64.62780115,
                        "remaining_time": 219.5753701,
                        "test": [
                          0.9652737939,
                          0.003271458131
                        ]
                      },
                      {
                        "learn": [
                          0.002151078611
                        ],
                        "iteration": 1137,
                        "passed_time": 64.66787848,
                        "remaining_time": 219.4616403,
                        "test": [
                          0.9652716395,
                          0.003271219536
                        ]
                      },
                      {
                        "learn": [
                          0.002150731296
                        ],
                        "iteration": 1138,
                        "passed_time": 64.70904635,
                        "remaining_time": 219.3517366,
                        "test": [
                          0.9652693585,
                          0.003271212774
                        ]
                      },
                      {
                        "learn": [
                          0.002150536781
                        ],
                        "iteration": 1139,
                        "passed_time": 64.75419638,
                        "remaining_time": 219.2554369,
                        "test": [
                          0.9652859595,
                          0.003270933029
                        ]
                      },
                      {
                        "learn": [
                          0.002150164823
                        ],
                        "iteration": 1140,
                        "passed_time": 64.79801079,
                        "remaining_time": 219.1547096,
                        "test": [
                          0.9652683447,
                          0.003270675829
                        ]
                      },
                      {
                        "learn": [
                          0.002149204025
                        ],
                        "iteration": 1141,
                        "passed_time": 64.84194902,
                        "remaining_time": 219.0545003,
                        "test": [
                          0.9653801162,
                          0.003269785367
                        ]
                      },
                      {
                        "learn": [
                          0.002148811133
                        ],
                        "iteration": 1142,
                        "passed_time": 64.88475671,
                        "remaining_time": 218.9505745,
                        "test": [
                          0.9653663031,
                          0.003270064953
                        ]
                      },
                      {
                        "learn": [
                          0.002148606404
                        ],
                        "iteration": 1143,
                        "passed_time": 64.92603363,
                        "remaining_time": 218.8415959,
                        "test": [
                          0.9653450133,
                          0.003269780928
                        ]
                      },
                      {
                        "learn": [
                          0.002148136506
                        ],
                        "iteration": 1144,
                        "passed_time": 64.96662609,
                        "remaining_time": 218.7304311,
                        "test": [
                          0.9653281589,
                          0.003269457204
                        ]
                      },
                      {
                        "learn": [
                          0.002147389587
                        ],
                        "iteration": 1145,
                        "passed_time": 65.00766451,
                        "remaining_time": 218.6208892,
                        "test": [
                          0.9653401978,
                          0.003269393595
                        ]
                      },
                      {
                        "learn": [
                          0.002147169427
                        ],
                        "iteration": 1146,
                        "passed_time": 65.04909619,
                        "remaining_time": 218.5127878,
                        "test": [
                          0.9652607412,
                          0.003269607358
                        ]
                      },
                      {
                        "learn": [
                          0.002146962127
                        ],
                        "iteration": 1147,
                        "passed_time": 65.08933489,
                        "remaining_time": 218.4007996,
                        "test": [
                          0.9652536446,
                          0.003269873729
                        ]
                      },
                      {
                        "learn": [
                          0.00214642051
                        ],
                        "iteration": 1148,
                        "passed_time": 65.12967474,
                        "remaining_time": 218.2892754,
                        "test": [
                          0.9652612481,
                          0.003269225117
                        ]
                      },
                      {
                        "learn": [
                          0.002146052081
                        ],
                        "iteration": 1149,
                        "passed_time": 65.17098685,
                        "remaining_time": 218.1811299,
                        "test": [
                          0.9652536446,
                          0.003269667401
                        ]
                      },
                      {
                        "learn": [
                          0.002145858206
                        ],
                        "iteration": 1150,
                        "passed_time": 65.39284576,
                        "remaining_time": 218.6768578,
                        "test": [
                          0.9652556722,
                          0.003269256125
                        ]
                      },
                      {
                        "learn": [
                          0.00214566712
                        ],
                        "iteration": 1151,
                        "passed_time": 65.45032652,
                        "remaining_time": 218.6222712,
                        "test": [
                          0.9652622619,
                          0.003268845578
                        ]
                      },
                      {
                        "learn": [
                          0.002145011562
                        ],
                        "iteration": 1152,
                        "passed_time": 65.49169821,
                        "remaining_time": 218.5139315,
                        "test": [
                          0.9652722732,
                          0.003268643738
                        ]
                      },
                      {
                        "learn": [
                          0.002144774187
                        ],
                        "iteration": 1153,
                        "passed_time": 65.53206984,
                        "remaining_time": 218.4023749,
                        "test": [
                          0.9652454075,
                          0.003268403149
                        ]
                      },
                      {
                        "learn": [
                          0.002144602672
                        ],
                        "iteration": 1154,
                        "passed_time": 65.57276102,
                        "remaining_time": 218.2920053,
                        "test": [
                          0.9652455342,
                          0.003268144071
                        ]
                      },
                      {
                        "learn": [
                          0.002144223568
                        ],
                        "iteration": 1155,
                        "passed_time": 65.61360814,
                        "remaining_time": 218.1822748,
                        "test": [
                          0.9653001527,
                          0.003267289578
                        ]
                      },
                      {
                        "learn": [
                          0.0021439029
                        ],
                        "iteration": 1156,
                        "passed_time": 65.65387894,
                        "remaining_time": 218.0707492,
                        "test": [
                          0.9653083898,
                          0.003266811127
                        ]
                      },
                      {
                        "learn": [
                          0.002143456791
                        ],
                        "iteration": 1157,
                        "passed_time": 65.69707266,
                        "remaining_time": 217.9690442,
                        "test": [
                          0.9653021803,
                          0.003266932561
                        ]
                      },
                      {
                        "learn": [
                          0.002143189701
                        ],
                        "iteration": 1158,
                        "passed_time": 65.73822137,
                        "remaining_time": 217.8606629,
                        "test": [
                          0.9652877336,
                          0.003267059195
                        ]
                      },
                      {
                        "learn": [
                          0.002142984969
                        ],
                        "iteration": 1159,
                        "passed_time": 65.78394562,
                        "remaining_time": 217.7675441,
                        "test": [
                          0.9652536446,
                          0.003266790712
                        ]
                      },
                      {
                        "learn": [
                          0.002142852817
                        ],
                        "iteration": 1160,
                        "passed_time": 65.82527145,
                        "remaining_time": 217.6599631,
                        "test": [
                          0.9652576998,
                          0.003266634892
                        ]
                      },
                      {
                        "learn": [
                          0.002142019599
                        ],
                        "iteration": 1161,
                        "passed_time": 65.86790011,
                        "remaining_time": 217.5567992,
                        "test": [
                          0.9652601076,
                          0.00326650794
                        ]
                      },
                      {
                        "learn": [
                          0.002141603851
                        ],
                        "iteration": 1162,
                        "passed_time": 65.91165141,
                        "remaining_time": 217.4574432,
                        "test": [
                          0.9652427462,
                          0.003266251245
                        ]
                      },
                      {
                        "learn": [
                          0.002140855289
                        ],
                        "iteration": 1163,
                        "passed_time": 65.95338675,
                        "remaining_time": 217.3515391,
                        "test": [
                          0.965256686,
                          0.003266099851
                        ]
                      },
                      {
                        "learn": [
                          0.002140650774
                        ],
                        "iteration": 1164,
                        "passed_time": 65.99344971,
                        "remaining_time": 217.24024,
                        "test": [
                          0.9652635291,
                          0.003265750451
                        ]
                      },
                      {
                        "learn": [
                          0.002140413039
                        ],
                        "iteration": 1165,
                        "passed_time": 66.03941145,
                        "remaining_time": 217.1484593,
                        "test": [
                          0.9652475618,
                          0.003265688963
                        ]
                      },
                      {
                        "learn": [
                          0.002140067868
                        ],
                        "iteration": 1166,
                        "passed_time": 66.08338101,
                        "remaining_time": 217.0502137,
                        "test": [
                          0.9652280461,
                          0.003265444402
                        ]
                      },
                      {
                        "learn": [
                          0.00213989771
                        ],
                        "iteration": 1167,
                        "passed_time": 66.12464317,
                        "remaining_time": 216.9431786,
                        "test": [
                          0.9652290599,
                          0.003265032676
                        ]
                      },
                      {
                        "learn": [
                          0.002139670406
                        ],
                        "iteration": 1168,
                        "passed_time": 66.16481756,
                        "remaining_time": 216.8326913,
                        "test": [
                          0.9652105581,
                          0.003264986994
                        ]
                      },
                      {
                        "learn": [
                          0.002139450458
                        ],
                        "iteration": 1169,
                        "passed_time": 66.21591882,
                        "remaining_time": 216.7580932,
                        "test": [
                          0.965191676,
                          0.003264942754
                        ]
                      },
                      {
                        "learn": [
                          0.002139276874
                        ],
                        "iteration": 1170,
                        "passed_time": 66.25801168,
                        "remaining_time": 216.6540792,
                        "test": [
                          0.9651918028,
                          0.003264591607
                        ]
                      },
                      {
                        "learn": [
                          0.002138774328
                        ],
                        "iteration": 1171,
                        "passed_time": 66.29848661,
                        "remaining_time": 216.5448863,
                        "test": [
                          0.9651887614,
                          0.003264771368
                        ]
                      },
                      {
                        "learn": [
                          0.002138510193
                        ],
                        "iteration": 1172,
                        "passed_time": 66.3688037,
                        "remaining_time": 216.5331729,
                        "test": [
                          0.9651686121,
                          0.003264929252
                        ]
                      },
                      {
                        "learn": [
                          0.002137729528
                        ],
                        "iteration": 1173,
                        "passed_time": 66.4765457,
                        "remaining_time": 216.6433252,
                        "test": [
                          0.9653286658,
                          0.003263770511
                        ]
                      },
                      {
                        "learn": [
                          0.002137385642
                        ],
                        "iteration": 1174,
                        "passed_time": 66.52146147,
                        "remaining_time": 216.5485873,
                        "test": [
                          0.9653163735,
                          0.003263550507
                        ]
                      },
                      {
                        "learn": [
                          0.002136955318
                        ],
                        "iteration": 1175,
                        "passed_time": 66.56618297,
                        "remaining_time": 216.4533025,
                        "test": [
                          0.9653091501,
                          0.003263675859
                        ]
                      },
                      {
                        "learn": [
                          0.002136532139
                        ],
                        "iteration": 1176,
                        "passed_time": 66.61575951,
                        "remaining_time": 216.3738731,
                        "test": [
                          0.965303701,
                          0.003263800772
                        ]
                      },
                      {
                        "learn": [
                          0.002136143393
                        ],
                        "iteration": 1177,
                        "passed_time": 66.65992366,
                        "remaining_time": 216.276934,
                        "test": [
                          0.9652877336,
                          0.00326356482
                        ]
                      },
                      {
                        "learn": [
                          0.002135884086
                        ],
                        "iteration": 1178,
                        "passed_time": 66.69999512,
                        "remaining_time": 216.1668205,
                        "test": [
                          0.9652996458,
                          0.003263091735
                        ]
                      },
                      {
                        "learn": [
                          0.002135714572
                        ],
                        "iteration": 1179,
                        "passed_time": 66.74285915,
                        "remaining_time": 216.0658661,
                        "test": [
                          0.9653187812,
                          0.003262618058
                        ]
                      },
                      {
                        "learn": [
                          0.002135011011
                        ],
                        "iteration": 1180,
                        "passed_time": 66.78478724,
                        "remaining_time": 215.9619835,
                        "test": [
                          0.9653224563,
                          0.003262453742
                        ]
                      },
                      {
                        "learn": [
                          0.002134822353
                        ],
                        "iteration": 1181,
                        "passed_time": 66.82620078,
                        "remaining_time": 215.8565436,
                        "test": [
                          0.9652836784,
                          0.003262204988
                        ]
                      },
                      {
                        "learn": [
                          0.00213430738
                        ],
                        "iteration": 1182,
                        "passed_time": 66.87529934,
                        "remaining_time": 215.7760081,
                        "test": [
                          0.9653066156,
                          0.003262406142
                        ]
                      },
                      {
                        "learn": [
                          0.002134111679
                        ],
                        "iteration": 1183,
                        "passed_time": 66.91579778,
                        "remaining_time": 215.6678077,
                        "test": [
                          0.9653021803,
                          0.003262659409
                        ]
                      },
                      {
                        "learn": [
                          0.002133616349
                        ],
                        "iteration": 1184,
                        "passed_time": 66.95730559,
                        "remaining_time": 215.5629711,
                        "test": [
                          0.9652819043,
                          0.003262728945
                        ]
                      },
                      {
                        "learn": [
                          0.002132937862
                        ],
                        "iteration": 1185,
                        "passed_time": 66.99925274,
                        "remaining_time": 215.4596542,
                        "test": [
                          0.965295844,
                          0.003262384959
                        ]
                      },
                      {
                        "learn": [
                          0.002132076503
                        ],
                        "iteration": 1186,
                        "passed_time": 67.04258225,
                        "remaining_time": 215.3608813,
                        "test": [
                          0.9653043346,
                          0.00326162678
                        ]
                      },
                      {
                        "learn": [
                          0.002131796907
                        ],
                        "iteration": 1187,
                        "passed_time": 67.08448134,
                        "remaining_time": 215.2576118,
                        "test": [
                          0.9653312003,
                          0.003261556523
                        ]
                      },
                      {
                        "learn": [
                          0.002131573746
                        ],
                        "iteration": 1188,
                        "passed_time": 67.13200016,
                        "remaining_time": 215.172458,
                        "test": [
                          0.9653168804,
                          0.003261484467
                        ]
                      },
                      {
                        "learn": [
                          0.002131237361
                        ],
                        "iteration": 1189,
                        "passed_time": 67.21089626,
                        "remaining_time": 215.1878275,
                        "test": [
                          0.9653342417,
                          0.003260993709
                        ]
                      },
                      {
                        "learn": [
                          0.002130778318
                        ],
                        "iteration": 1190,
                        "passed_time": 67.29199721,
                        "remaining_time": 215.2100902,
                        "test": [
                          0.9653808765,
                          0.003260821871
                        ]
                      }
                    ],
                    "meta": {
                      "test_sets": [
                        "test"
                      ],
                      "test_metrics": [
                        {
                          "best_value": "Max",
                          "name": "AUC"
                        },
                        {
                          "best_value": "Min",
                          "name": "Logloss"
                        }
                      ],
                      "learn_metrics": [
                        {
                          "best_value": "Min",
                          "name": "Logloss"
                        }
                      ],
                      "launch_mode": "Train",
                      "parameters": "",
                      "iteration_count": 5000,
                      "learn_sets": [
                        "learn"
                      ],
                      "name": "experiment"
                    }
                  }
                }
              }
            },
            "layout": "IPY_MODEL_461e8637d96946bdab6dc8009fece485"
          }
        }
      }
    }
  },
  "cells": [
    {
      "cell_type": "markdown",
      "metadata": {
        "id": "view-in-github",
        "colab_type": "text"
      },
      "source": [
        "<a href=\"https://colab.research.google.com/github/williamvinct/credit-card-fraud-detection/blob/main/Credit_Card_Fraud_Detection_using_ML.ipynb\" target=\"_parent\"><img src=\"https://colab.research.google.com/assets/colab-badge.svg\" alt=\"Open In Colab\"/></a>"
      ]
    },
    {
      "cell_type": "code",
      "execution_count": 1,
      "metadata": {
        "colab": {
          "base_uri": "https://localhost:8080/"
        },
        "id": "v2Pm5PG6GtjG",
        "outputId": "207868b0-81d9-47da-baef-7c7bc511ef4c"
      },
      "outputs": [
        {
          "output_type": "stream",
          "name": "stdout",
          "text": [
            "Mounted at /content/drive/\n"
          ]
        }
      ],
      "source": [
        "import pandas as pd\n",
        "import seaborn as sns\n",
        "import numpy as np\n",
        "import matplotlib.pyplot as plt\n",
        "\n",
        "from google.colab import drive\n",
        "drive.mount('/content/drive/')"
      ]
    },
    {
      "cell_type": "code",
      "source": [
        "#dataset from kaggle.com\n",
        "\n",
        "df = pd.read_csv('/content/drive/My Drive/ColabNotebooks/DataSample/creditcard.csv')"
      ],
      "metadata": {
        "id": "G0OyZpeCHj8x"
      },
      "execution_count": 2,
      "outputs": []
    },
    {
      "cell_type": "code",
      "source": [
        "df.head()"
      ],
      "metadata": {
        "colab": {
          "base_uri": "https://localhost:8080/",
          "height": 299
        },
        "id": "ySlb6C5BHiTu",
        "outputId": "82f1249a-2dd6-44d7-bf33-4e2b2820bbb7"
      },
      "execution_count": 3,
      "outputs": [
        {
          "output_type": "execute_result",
          "data": {
            "text/plain": [
              "   Time        V1        V2        V3        V4        V5        V6        V7  \\\n",
              "0   0.0 -1.359807 -0.072781  2.536347  1.378155 -0.338321  0.462388  0.239599   \n",
              "1   0.0  1.191857  0.266151  0.166480  0.448154  0.060018 -0.082361 -0.078803   \n",
              "2   1.0 -1.358354 -1.340163  1.773209  0.379780 -0.503198  1.800499  0.791461   \n",
              "3   1.0 -0.966272 -0.185226  1.792993 -0.863291 -0.010309  1.247203  0.237609   \n",
              "4   2.0 -1.158233  0.877737  1.548718  0.403034 -0.407193  0.095921  0.592941   \n",
              "\n",
              "         V8        V9  ...       V21       V22       V23       V24       V25  \\\n",
              "0  0.098698  0.363787  ... -0.018307  0.277838 -0.110474  0.066928  0.128539   \n",
              "1  0.085102 -0.255425  ... -0.225775 -0.638672  0.101288 -0.339846  0.167170   \n",
              "2  0.247676 -1.514654  ...  0.247998  0.771679  0.909412 -0.689281 -0.327642   \n",
              "3  0.377436 -1.387024  ... -0.108300  0.005274 -0.190321 -1.175575  0.647376   \n",
              "4 -0.270533  0.817739  ... -0.009431  0.798278 -0.137458  0.141267 -0.206010   \n",
              "\n",
              "        V26       V27       V28  Amount  Class  \n",
              "0 -0.189115  0.133558 -0.021053  149.62      0  \n",
              "1  0.125895 -0.008983  0.014724    2.69      0  \n",
              "2 -0.139097 -0.055353 -0.059752  378.66      0  \n",
              "3 -0.221929  0.062723  0.061458  123.50      0  \n",
              "4  0.502292  0.219422  0.215153   69.99      0  \n",
              "\n",
              "[5 rows x 31 columns]"
            ],
            "text/html": [
              "\n",
              "  <div id=\"df-85494e84-c8ca-4387-965b-ab95329d7e89\">\n",
              "    <div class=\"colab-df-container\">\n",
              "      <div>\n",
              "<style scoped>\n",
              "    .dataframe tbody tr th:only-of-type {\n",
              "        vertical-align: middle;\n",
              "    }\n",
              "\n",
              "    .dataframe tbody tr th {\n",
              "        vertical-align: top;\n",
              "    }\n",
              "\n",
              "    .dataframe thead th {\n",
              "        text-align: right;\n",
              "    }\n",
              "</style>\n",
              "<table border=\"1\" class=\"dataframe\">\n",
              "  <thead>\n",
              "    <tr style=\"text-align: right;\">\n",
              "      <th></th>\n",
              "      <th>Time</th>\n",
              "      <th>V1</th>\n",
              "      <th>V2</th>\n",
              "      <th>V3</th>\n",
              "      <th>V4</th>\n",
              "      <th>V5</th>\n",
              "      <th>V6</th>\n",
              "      <th>V7</th>\n",
              "      <th>V8</th>\n",
              "      <th>V9</th>\n",
              "      <th>...</th>\n",
              "      <th>V21</th>\n",
              "      <th>V22</th>\n",
              "      <th>V23</th>\n",
              "      <th>V24</th>\n",
              "      <th>V25</th>\n",
              "      <th>V26</th>\n",
              "      <th>V27</th>\n",
              "      <th>V28</th>\n",
              "      <th>Amount</th>\n",
              "      <th>Class</th>\n",
              "    </tr>\n",
              "  </thead>\n",
              "  <tbody>\n",
              "    <tr>\n",
              "      <th>0</th>\n",
              "      <td>0.0</td>\n",
              "      <td>-1.359807</td>\n",
              "      <td>-0.072781</td>\n",
              "      <td>2.536347</td>\n",
              "      <td>1.378155</td>\n",
              "      <td>-0.338321</td>\n",
              "      <td>0.462388</td>\n",
              "      <td>0.239599</td>\n",
              "      <td>0.098698</td>\n",
              "      <td>0.363787</td>\n",
              "      <td>...</td>\n",
              "      <td>-0.018307</td>\n",
              "      <td>0.277838</td>\n",
              "      <td>-0.110474</td>\n",
              "      <td>0.066928</td>\n",
              "      <td>0.128539</td>\n",
              "      <td>-0.189115</td>\n",
              "      <td>0.133558</td>\n",
              "      <td>-0.021053</td>\n",
              "      <td>149.62</td>\n",
              "      <td>0</td>\n",
              "    </tr>\n",
              "    <tr>\n",
              "      <th>1</th>\n",
              "      <td>0.0</td>\n",
              "      <td>1.191857</td>\n",
              "      <td>0.266151</td>\n",
              "      <td>0.166480</td>\n",
              "      <td>0.448154</td>\n",
              "      <td>0.060018</td>\n",
              "      <td>-0.082361</td>\n",
              "      <td>-0.078803</td>\n",
              "      <td>0.085102</td>\n",
              "      <td>-0.255425</td>\n",
              "      <td>...</td>\n",
              "      <td>-0.225775</td>\n",
              "      <td>-0.638672</td>\n",
              "      <td>0.101288</td>\n",
              "      <td>-0.339846</td>\n",
              "      <td>0.167170</td>\n",
              "      <td>0.125895</td>\n",
              "      <td>-0.008983</td>\n",
              "      <td>0.014724</td>\n",
              "      <td>2.69</td>\n",
              "      <td>0</td>\n",
              "    </tr>\n",
              "    <tr>\n",
              "      <th>2</th>\n",
              "      <td>1.0</td>\n",
              "      <td>-1.358354</td>\n",
              "      <td>-1.340163</td>\n",
              "      <td>1.773209</td>\n",
              "      <td>0.379780</td>\n",
              "      <td>-0.503198</td>\n",
              "      <td>1.800499</td>\n",
              "      <td>0.791461</td>\n",
              "      <td>0.247676</td>\n",
              "      <td>-1.514654</td>\n",
              "      <td>...</td>\n",
              "      <td>0.247998</td>\n",
              "      <td>0.771679</td>\n",
              "      <td>0.909412</td>\n",
              "      <td>-0.689281</td>\n",
              "      <td>-0.327642</td>\n",
              "      <td>-0.139097</td>\n",
              "      <td>-0.055353</td>\n",
              "      <td>-0.059752</td>\n",
              "      <td>378.66</td>\n",
              "      <td>0</td>\n",
              "    </tr>\n",
              "    <tr>\n",
              "      <th>3</th>\n",
              "      <td>1.0</td>\n",
              "      <td>-0.966272</td>\n",
              "      <td>-0.185226</td>\n",
              "      <td>1.792993</td>\n",
              "      <td>-0.863291</td>\n",
              "      <td>-0.010309</td>\n",
              "      <td>1.247203</td>\n",
              "      <td>0.237609</td>\n",
              "      <td>0.377436</td>\n",
              "      <td>-1.387024</td>\n",
              "      <td>...</td>\n",
              "      <td>-0.108300</td>\n",
              "      <td>0.005274</td>\n",
              "      <td>-0.190321</td>\n",
              "      <td>-1.175575</td>\n",
              "      <td>0.647376</td>\n",
              "      <td>-0.221929</td>\n",
              "      <td>0.062723</td>\n",
              "      <td>0.061458</td>\n",
              "      <td>123.50</td>\n",
              "      <td>0</td>\n",
              "    </tr>\n",
              "    <tr>\n",
              "      <th>4</th>\n",
              "      <td>2.0</td>\n",
              "      <td>-1.158233</td>\n",
              "      <td>0.877737</td>\n",
              "      <td>1.548718</td>\n",
              "      <td>0.403034</td>\n",
              "      <td>-0.407193</td>\n",
              "      <td>0.095921</td>\n",
              "      <td>0.592941</td>\n",
              "      <td>-0.270533</td>\n",
              "      <td>0.817739</td>\n",
              "      <td>...</td>\n",
              "      <td>-0.009431</td>\n",
              "      <td>0.798278</td>\n",
              "      <td>-0.137458</td>\n",
              "      <td>0.141267</td>\n",
              "      <td>-0.206010</td>\n",
              "      <td>0.502292</td>\n",
              "      <td>0.219422</td>\n",
              "      <td>0.215153</td>\n",
              "      <td>69.99</td>\n",
              "      <td>0</td>\n",
              "    </tr>\n",
              "  </tbody>\n",
              "</table>\n",
              "<p>5 rows × 31 columns</p>\n",
              "</div>\n",
              "      <button class=\"colab-df-convert\" onclick=\"convertToInteractive('df-85494e84-c8ca-4387-965b-ab95329d7e89')\"\n",
              "              title=\"Convert this dataframe to an interactive table.\"\n",
              "              style=\"display:none;\">\n",
              "        \n",
              "  <svg xmlns=\"http://www.w3.org/2000/svg\" height=\"24px\"viewBox=\"0 0 24 24\"\n",
              "       width=\"24px\">\n",
              "    <path d=\"M0 0h24v24H0V0z\" fill=\"none\"/>\n",
              "    <path d=\"M18.56 5.44l.94 2.06.94-2.06 2.06-.94-2.06-.94-.94-2.06-.94 2.06-2.06.94zm-11 1L8.5 8.5l.94-2.06 2.06-.94-2.06-.94L8.5 2.5l-.94 2.06-2.06.94zm10 10l.94 2.06.94-2.06 2.06-.94-2.06-.94-.94-2.06-.94 2.06-2.06.94z\"/><path d=\"M17.41 7.96l-1.37-1.37c-.4-.4-.92-.59-1.43-.59-.52 0-1.04.2-1.43.59L10.3 9.45l-7.72 7.72c-.78.78-.78 2.05 0 2.83L4 21.41c.39.39.9.59 1.41.59.51 0 1.02-.2 1.41-.59l7.78-7.78 2.81-2.81c.8-.78.8-2.07 0-2.86zM5.41 20L4 18.59l7.72-7.72 1.47 1.35L5.41 20z\"/>\n",
              "  </svg>\n",
              "      </button>\n",
              "      \n",
              "  <style>\n",
              "    .colab-df-container {\n",
              "      display:flex;\n",
              "      flex-wrap:wrap;\n",
              "      gap: 12px;\n",
              "    }\n",
              "\n",
              "    .colab-df-convert {\n",
              "      background-color: #E8F0FE;\n",
              "      border: none;\n",
              "      border-radius: 50%;\n",
              "      cursor: pointer;\n",
              "      display: none;\n",
              "      fill: #1967D2;\n",
              "      height: 32px;\n",
              "      padding: 0 0 0 0;\n",
              "      width: 32px;\n",
              "    }\n",
              "\n",
              "    .colab-df-convert:hover {\n",
              "      background-color: #E2EBFA;\n",
              "      box-shadow: 0px 1px 2px rgba(60, 64, 67, 0.3), 0px 1px 3px 1px rgba(60, 64, 67, 0.15);\n",
              "      fill: #174EA6;\n",
              "    }\n",
              "\n",
              "    [theme=dark] .colab-df-convert {\n",
              "      background-color: #3B4455;\n",
              "      fill: #D2E3FC;\n",
              "    }\n",
              "\n",
              "    [theme=dark] .colab-df-convert:hover {\n",
              "      background-color: #434B5C;\n",
              "      box-shadow: 0px 1px 3px 1px rgba(0, 0, 0, 0.15);\n",
              "      filter: drop-shadow(0px 1px 2px rgba(0, 0, 0, 0.3));\n",
              "      fill: #FFFFFF;\n",
              "    }\n",
              "  </style>\n",
              "\n",
              "      <script>\n",
              "        const buttonEl =\n",
              "          document.querySelector('#df-85494e84-c8ca-4387-965b-ab95329d7e89 button.colab-df-convert');\n",
              "        buttonEl.style.display =\n",
              "          google.colab.kernel.accessAllowed ? 'block' : 'none';\n",
              "\n",
              "        async function convertToInteractive(key) {\n",
              "          const element = document.querySelector('#df-85494e84-c8ca-4387-965b-ab95329d7e89');\n",
              "          const dataTable =\n",
              "            await google.colab.kernel.invokeFunction('convertToInteractive',\n",
              "                                                     [key], {});\n",
              "          if (!dataTable) return;\n",
              "\n",
              "          const docLinkHtml = 'Like what you see? Visit the ' +\n",
              "            '<a target=\"_blank\" href=https://colab.research.google.com/notebooks/data_table.ipynb>data table notebook</a>'\n",
              "            + ' to learn more about interactive tables.';\n",
              "          element.innerHTML = '';\n",
              "          dataTable['output_type'] = 'display_data';\n",
              "          await google.colab.output.renderOutput(dataTable, element);\n",
              "          const docLink = document.createElement('div');\n",
              "          docLink.innerHTML = docLinkHtml;\n",
              "          element.appendChild(docLink);\n",
              "        }\n",
              "      </script>\n",
              "    </div>\n",
              "  </div>\n",
              "  "
            ]
          },
          "metadata": {},
          "execution_count": 3
        }
      ]
    },
    {
      "cell_type": "code",
      "source": [
        "df.shape"
      ],
      "metadata": {
        "id": "g94uwcgVPWSb",
        "colab": {
          "base_uri": "https://localhost:8080/"
        },
        "outputId": "0084e8da-66ec-403c-df6b-88d40e8bd118"
      },
      "execution_count": 4,
      "outputs": [
        {
          "output_type": "execute_result",
          "data": {
            "text/plain": [
              "(284807, 31)"
            ]
          },
          "metadata": {},
          "execution_count": 4
        }
      ]
    },
    {
      "cell_type": "code",
      "source": [
        "df['Class'].value_counts()"
      ],
      "metadata": {
        "colab": {
          "base_uri": "https://localhost:8080/"
        },
        "id": "YEv0BK3HzILK",
        "outputId": "b3ea71f0-58fe-48c4-da77-abde6b733222"
      },
      "execution_count": 5,
      "outputs": [
        {
          "output_type": "execute_result",
          "data": {
            "text/plain": [
              "0    284315\n",
              "1       492\n",
              "Name: Class, dtype: int64"
            ]
          },
          "metadata": {},
          "execution_count": 5
        }
      ]
    },
    {
      "cell_type": "code",
      "source": [
        "def hist(dataframe, features, rows, cols) :\n",
        "  fig = plt.figure(figsize =(20,20))\n",
        "  for i, feature in enumerate(features) :\n",
        "    ax = fig.add_subplot(rows,cols,i+1)\n",
        "    dataframe[feature].hist(bins=20,ax=ax,facecolor='midnightblue')\n",
        "    ax.set_title(feature+ \"Distribution\", color=\"DarkRed\")\n",
        "    ax.set_yscale('log')\n",
        "  fig.tight_layout()\n",
        "  plt.show()\n",
        "hist(df,df.columns,8,4)\n"
      ],
      "metadata": {
        "colab": {
          "base_uri": "https://localhost:8080/",
          "height": 1000
        },
        "id": "728mNjK5zSW4",
        "outputId": "5a339f34-7f07-4406-f471-db70b6a24ba1"
      },
      "execution_count": 6,
      "outputs": [
        {
          "output_type": "display_data",
          "data": {
            "text/plain": [
              "<Figure size 1440x1440 with 31 Axes>"
            ],
            "image/png": "[encoded data removed]"
          },
          "metadata": {
            "needs_background": "light"
          }
        }
      ]
    },
    {
      "cell_type": "code",
      "source": [
        "X = df.iloc[:, :-1]\n",
        "y = df['Class']"
      ],
      "metadata": {
        "id": "-YpLhUKe0nWB"
      },
      "execution_count": 7,
      "outputs": []
    },
    {
      "cell_type": "markdown",
      "source": [
        "**Logistic Regression**"
      ],
      "metadata": {
        "id": "NiAJvJ3i18ZQ"
      }
    },
    {
      "cell_type": "code",
      "source": [
        "from sklearn.linear_model import LogisticRegression\n",
        "from sklearn.metrics import accuracy_score, confusion_matrix, classification_report\n",
        "from sklearn.model_selection import KFold\n",
        "import numpy as np\n",
        "from sklearn.model_selection import GridSearchCV\n",
        "from sklearn.model_selection import train_test_split"
      ],
      "metadata": {
        "id": "KI8Uyw2E1aNH"
      },
      "execution_count": 9,
      "outputs": []
    },
    {
      "cell_type": "code",
      "source": [
        "model = LogisticRegression()\n",
        "grid = {'C' : 10.0 **np.arange(-2,3), 'penalty' : ['l1','l2']}\n",
        "cv = KFold(n_splits=5, random_state=None, shuffle=False)"
      ],
      "metadata": {
        "id": "MXlH8xYm2EA5"
      },
      "execution_count": 10,
      "outputs": []
    },
    {
      "cell_type": "code",
      "source": [
        "X_train, X_test, y_train, y_test = train_test_split(X, y, train_size = 0.75)"
      ],
      "metadata": {
        "id": "mw76ckJL4ahE"
      },
      "execution_count": 11,
      "outputs": []
    },
    {
      "cell_type": "code",
      "source": [
        "clf = GridSearchCV(model, grid, cv = cv, n_jobs=-1, scoring='f1_macro' )\n",
        "clf.fit(X_train, y_train)"
      ],
      "metadata": {
        "colab": {
          "base_uri": "https://localhost:8080/"
        },
        "id": "zAb9SzGj5ScU",
        "outputId": "a3f2b91d-1ce1-46b0-9812-13fddc7598ef"
      },
      "execution_count": 12,
      "outputs": [
        {
          "output_type": "stream",
          "name": "stderr",
          "text": [
            "/usr/local/lib/python3.7/dist-packages/joblib/externals/loky/process_executor.py:705: UserWarning: A worker stopped while some jobs were given to the executor. This can be caused by a too short worker timeout or by a memory leak.\n",
            "  \"timeout or by a memory leak.\", UserWarning\n",
            "/usr/local/lib/python3.7/dist-packages/sklearn/model_selection/_validation.py:372: FitFailedWarning: \n",
            "25 fits failed out of a total of 50.\n",
            "The score on these train-test partitions for these parameters will be set to nan.\n",
            "If these failures are not expected, you can try to debug them by setting error_score='raise'.\n",
            "\n",
            "Below are more details about the failures:\n",
            "--------------------------------------------------------------------------------\n",
            "25 fits failed with the following error:\n",
            "Traceback (most recent call last):\n",
            "  File \"/usr/local/lib/python3.7/dist-packages/sklearn/model_selection/_validation.py\", line 680, in _fit_and_score\n",
            "    estimator.fit(X_train, y_train, **fit_params)\n",
            "  File \"/usr/local/lib/python3.7/dist-packages/sklearn/linear_model/_logistic.py\", line 1461, in fit\n",
            "    solver = _check_solver(self.solver, self.penalty, self.dual)\n",
            "  File \"/usr/local/lib/python3.7/dist-packages/sklearn/linear_model/_logistic.py\", line 449, in _check_solver\n",
            "    % (solver, penalty)\n",
            "ValueError: Solver lbfgs supports only 'l2' or 'none' penalties, got l1 penalty.\n",
            "\n",
            "  warnings.warn(some_fits_failed_message, FitFailedWarning)\n",
            "/usr/local/lib/python3.7/dist-packages/sklearn/model_selection/_search.py:972: UserWarning: One or more of the test scores are non-finite: [       nan 0.83535089        nan 0.84681543        nan 0.85029058\n",
            "        nan 0.85505318        nan 0.85580627]\n",
            "  category=UserWarning,\n",
            "/usr/local/lib/python3.7/dist-packages/sklearn/linear_model/_logistic.py:818: ConvergenceWarning: lbfgs failed to converge (status=1):\n",
            "STOP: TOTAL NO. of ITERATIONS REACHED LIMIT.\n",
            "\n",
            "Increase the number of iterations (max_iter) or scale the data as shown in:\n",
            "    https://scikit-learn.org/stable/modules/preprocessing.html\n",
            "Please also refer to the documentation for alternative solver options:\n",
            "    https://scikit-learn.org/stable/modules/linear_model.html#logistic-regression\n",
            "  extra_warning_msg=_LOGISTIC_SOLVER_CONVERGENCE_MSG,\n"
          ]
        },
        {
          "output_type": "execute_result",
          "data": {
            "text/plain": [
              "GridSearchCV(cv=KFold(n_splits=5, random_state=None, shuffle=False),\n",
              "             estimator=LogisticRegression(), n_jobs=-1,\n",
              "             param_grid={'C': array([1.e-02, 1.e-01, 1.e+00, 1.e+01, 1.e+02]),\n",
              "                         'penalty': ['l1', 'l2']},\n",
              "             scoring='f1_macro')"
            ]
          },
          "metadata": {},
          "execution_count": 12
        }
      ]
    },
    {
      "cell_type": "code",
      "source": [
        "y_pred = clf.predict(X_test)"
      ],
      "metadata": {
        "id": "nVGidtd27-hn"
      },
      "execution_count": 13,
      "outputs": []
    },
    {
      "cell_type": "code",
      "source": [
        "cm = confusion_matrix(y_pred, y_test)\n",
        "conf_matrix = pd.DataFrame( data = cm, columns=['Predicted:0', 'Prediction: 1'], index=['Actual:0', 'Actual:1'])\n",
        "plt.figure(figsize=(8,5))\n",
        "sns.heatmap(conf_matrix, annot=True, fmt='d', cmap='YlGnBu')"
      ],
      "metadata": {
        "colab": {
          "base_uri": "https://localhost:8080/",
          "height": 338
        },
        "id": "e6IYfTvvaaeP",
        "outputId": "53661d7f-cd53-4146-a334-b394af821d9a"
      },
      "execution_count": 14,
      "outputs": [
        {
          "output_type": "execute_result",
          "data": {
            "text/plain": [
              "<matplotlib.axes._subplots.AxesSubplot at 0x7faae3b2da50>"
            ]
          },
          "metadata": {},
          "execution_count": 14
        },
        {
          "output_type": "display_data",
          "data": {
            "text/plain": [
              "<Figure size 576x360 with 2 Axes>"
            ],
            "image/png": "[encoded data removed]"
          },
          "metadata": {
            "needs_background": "light"
          }
        }
      ]
    },
    {
      "cell_type": "code",
      "source": [
        "accuracy_score(y_pred,y_test)"
      ],
      "metadata": {
        "colab": {
          "base_uri": "https://localhost:8080/"
        },
        "id": "E98bfuj5bcWj",
        "outputId": "13298823-23d3-408f-ab13-bcce75e9aef6"
      },
      "execution_count": 15,
      "outputs": [
        {
          "output_type": "execute_result",
          "data": {
            "text/plain": [
              "0.9988904806044774"
            ]
          },
          "metadata": {},
          "execution_count": 15
        }
      ]
    },
    {
      "cell_type": "code",
      "source": [
        "print(classification_report(y_pred, y_test))"
      ],
      "metadata": {
        "colab": {
          "base_uri": "https://localhost:8080/"
        },
        "id": "ajsQ9osLc6_b",
        "outputId": "bbe17a68-c578-43a7-cf26-739039cad492"
      },
      "execution_count": 16,
      "outputs": [
        {
          "output_type": "stream",
          "name": "stdout",
          "text": [
            "              precision    recall  f1-score   support\n",
            "\n",
            "           0       1.00      1.00      1.00     71096\n",
            "           1       0.62      0.65      0.64       106\n",
            "\n",
            "    accuracy                           1.00     71202\n",
            "   macro avg       0.81      0.83      0.82     71202\n",
            "weighted avg       1.00      1.00      1.00     71202\n",
            "\n"
          ]
        }
      ]
    },
    {
      "cell_type": "code",
      "source": [
        "2*0.72*0.74/(0.74+0.72)"
      ],
      "metadata": {
        "colab": {
          "base_uri": "https://localhost:8080/"
        },
        "id": "qU_121IldNuV",
        "outputId": "96f1de42-39e9-445c-9a66-7f7828c9ddbe"
      },
      "execution_count": 17,
      "outputs": [
        {
          "output_type": "execute_result",
          "data": {
            "text/plain": [
              "0.72986301369863"
            ]
          },
          "metadata": {},
          "execution_count": 17
        }
      ]
    },
    {
      "cell_type": "markdown",
      "source": [
        "**Random Forest Classifier**"
      ],
      "metadata": {
        "id": "1fzZabMvjMfy"
      }
    },
    {
      "cell_type": "code",
      "source": [
        "from sklearn.ensemble import RandomForestClassifier\n",
        "classifier = RandomForestClassifier(criterion='gini', max_depth=10, min_samples_split=5, min_samples_leaf=2)\n",
        "classifier.fit(X_train, y_train)"
      ],
      "metadata": {
        "colab": {
          "base_uri": "https://localhost:8080/"
        },
        "id": "Q-USkRqAjGKw",
        "outputId": "4bf90afc-2c66-4de2-fe47-8ab5f614b3c0"
      },
      "execution_count": 18,
      "outputs": [
        {
          "output_type": "execute_result",
          "data": {
            "text/plain": [
              "RandomForestClassifier(max_depth=10, min_samples_leaf=2, min_samples_split=5)"
            ]
          },
          "metadata": {},
          "execution_count": 18
        }
      ]
    },
    {
      "cell_type": "code",
      "source": [
        "y_pred = classifier.predict(X_test)"
      ],
      "metadata": {
        "id": "HgbdHnrHjjgp"
      },
      "execution_count": 19,
      "outputs": []
    },
    {
      "cell_type": "code",
      "source": [
        "cm = confusion_matrix(y_pred, y_test)\n",
        "conf_matrix = pd.DataFrame( data = cm, columns=['Predicted:0', 'Prediction: 1'], index=['Actual:0', 'Actual:1'])\n",
        "plt.figure(figsize=(8,5))\n",
        "sns.heatmap(conf_matrix, annot=True, fmt='d', cmap='YlGnBu')"
      ],
      "metadata": {
        "colab": {
          "base_uri": "https://localhost:8080/",
          "height": 338
        },
        "id": "2TwtIUekkJDL",
        "outputId": "9fc6077e-b6e6-4640-d9d1-d7d6b04242c4"
      },
      "execution_count": 20,
      "outputs": [
        {
          "output_type": "execute_result",
          "data": {
            "text/plain": [
              "<matplotlib.axes._subplots.AxesSubplot at 0x7faadf9f4dd0>"
            ]
          },
          "metadata": {},
          "execution_count": 20
        },
        {
          "output_type": "display_data",
          "data": {
            "text/plain": [
              "<Figure size 576x360 with 2 Axes>"
            ],
            "image/png": "[encoded data removed]"
          },
          "metadata": {
            "needs_background": "light"
          }
        }
      ]
    },
    {
      "cell_type": "code",
      "source": [
        "accuracy_score(y_pred,y_test)"
      ],
      "metadata": {
        "colab": {
          "base_uri": "https://localhost:8080/"
        },
        "id": "1b4cBqlkm1yS",
        "outputId": "c9832b47-a647-409e-ef18-a17702d094cc"
      },
      "execution_count": 21,
      "outputs": [
        {
          "output_type": "execute_result",
          "data": {
            "text/plain": [
              "0.9993679952810315"
            ]
          },
          "metadata": {},
          "execution_count": 21
        }
      ]
    },
    {
      "cell_type": "code",
      "source": [
        "print(classification_report(y_pred, y_test))"
      ],
      "metadata": {
        "colab": {
          "base_uri": "https://localhost:8080/"
        },
        "id": "CFQTxHUdnEqJ",
        "outputId": "5b6cafdb-0083-4885-c436-dbc8d9ae38fe"
      },
      "execution_count": 22,
      "outputs": [
        {
          "output_type": "stream",
          "name": "stdout",
          "text": [
            "              precision    recall  f1-score   support\n",
            "\n",
            "           0       1.00      1.00      1.00     71110\n",
            "           1       0.71      0.86      0.78        92\n",
            "\n",
            "    accuracy                           1.00     71202\n",
            "   macro avg       0.86      0.93      0.89     71202\n",
            "weighted avg       1.00      1.00      1.00     71202\n",
            "\n"
          ]
        }
      ]
    },
    {
      "cell_type": "markdown",
      "source": [
        "**Performing Under Sampling : NearMiss**"
      ],
      "metadata": {
        "id": "aR4-ZgXcr8UO"
      }
    },
    {
      "cell_type": "markdown",
      "source": [
        "Near Miss refers to a collection of undersampling methods that select examples based on the distance of majority class examples to minority class examples\n",
        "\n",
        "*   NearMiss-1 : Majority class examples with minimum average distance to three closest minority class examples \n",
        "*   NearMiss-2 : Majority class examples with minimum average distance to three furthest minority class examples\n",
        "*   NearMiss-3 : Majority class examples with minimum distance to each minority class example\n",
        "\n",
        "\n",
        "\n",
        "\n",
        "\n",
        "\n",
        "\n",
        "\n"
      ],
      "metadata": {
        "id": "jEdmYBYesAI1"
      }
    },
    {
      "cell_type": "code",
      "source": [
        "from collections import Counter\n",
        "\n",
        "Counter(y_train)"
      ],
      "metadata": {
        "id": "KoBTWZ_GnIOY",
        "colab": {
          "base_uri": "https://localhost:8080/"
        },
        "outputId": "b12fc291-4fd7-4af4-907f-180993bb261b"
      },
      "execution_count": 23,
      "outputs": [
        {
          "output_type": "execute_result",
          "data": {
            "text/plain": [
              "Counter({0: 213224, 1: 381})"
            ]
          },
          "metadata": {},
          "execution_count": 23
        }
      ]
    },
    {
      "cell_type": "code",
      "source": [
        "from imblearn.under_sampling import NearMiss\n",
        "ns = NearMiss(version=1, n_neighbors=3)\n",
        "\n",
        "X_train_ns, y_train_ns = ns.fit_resample(X_train, y_train)\n",
        "\n",
        "print(f\"y_train before resample {Counter(y_train)}\")\n",
        "print(f\"y_train after resample {Counter(y_train_ns)}\")"
      ],
      "metadata": {
        "colab": {
          "base_uri": "https://localhost:8080/"
        },
        "id": "LBBbACZdsTu7",
        "outputId": "fa2f5b6e-7178-486c-a962-e4c6cea967d4"
      },
      "execution_count": 28,
      "outputs": [
        {
          "output_type": "stream",
          "name": "stdout",
          "text": [
            "y_train before resample Counter({0: 213224, 1: 381})\n",
            "y_train after resample Counter({0: 381, 1: 381})\n"
          ]
        }
      ]
    },
    {
      "cell_type": "code",
      "source": [
        "from sklearn.ensemble import RandomForestClassifier\n",
        "classifier = RandomForestClassifier()\n",
        "classifier.fit(X_train_ns, y_train_ns)"
      ],
      "metadata": {
        "colab": {
          "base_uri": "https://localhost:8080/"
        },
        "id": "nppzX9MAstgq",
        "outputId": "7418503b-751b-4fae-ea5a-58ce4acaa79a"
      },
      "execution_count": 29,
      "outputs": [
        {
          "output_type": "execute_result",
          "data": {
            "text/plain": [
              "RandomForestClassifier()"
            ]
          },
          "metadata": {},
          "execution_count": 29
        }
      ]
    },
    {
      "cell_type": "code",
      "source": [
        "y_pred = classifier.predict(X_test)"
      ],
      "metadata": {
        "id": "8XnaAEzbuU40"
      },
      "execution_count": 30,
      "outputs": []
    },
    {
      "cell_type": "code",
      "source": [
        "cm = confusion_matrix(y_pred, y_test)\n",
        "conf_matrix = pd.DataFrame( data = cm, columns=['Predicted:0', 'Prediction: 1'], index=['Actual:0', 'Actual:1'])\n",
        "plt.figure(figsize=(8,5))\n",
        "sns.heatmap(conf_matrix, annot=True, fmt='d', cmap='YlGnBu')"
      ],
      "metadata": {
        "colab": {
          "base_uri": "https://localhost:8080/",
          "height": 340
        },
        "id": "Q5cFlSKkualp",
        "outputId": "5a3b8006-4305-401c-9d6f-7f9bdaa35c1a"
      },
      "execution_count": 31,
      "outputs": [
        {
          "output_type": "execute_result",
          "data": {
            "text/plain": [
              "<matplotlib.axes._subplots.AxesSubplot at 0x7faadeba9ad0>"
            ]
          },
          "metadata": {},
          "execution_count": 31
        },
        {
          "output_type": "display_data",
          "data": {
            "text/plain": [
              "<Figure size 576x360 with 2 Axes>"
            ],
            "image/png": "[encoded data removed]"
          },
          "metadata": {
            "needs_background": "light"
          }
        }
      ]
    },
    {
      "cell_type": "code",
      "source": [
        "accuracy_score(y_pred,y_test)"
      ],
      "metadata": {
        "colab": {
          "base_uri": "https://localhost:8080/"
        },
        "id": "cmqxAnl0ueqo",
        "outputId": "a100ee9f-13db-455d-9fe5-a3fc1c275e9c"
      },
      "execution_count": 32,
      "outputs": [
        {
          "output_type": "execute_result",
          "data": {
            "text/plain": [
              "0.7088424482458358"
            ]
          },
          "metadata": {},
          "execution_count": 32
        }
      ]
    },
    {
      "cell_type": "code",
      "source": [
        "print(classification_report(y_pred, y_test))"
      ],
      "metadata": {
        "colab": {
          "base_uri": "https://localhost:8080/"
        },
        "id": "rb0DRUpgusTt",
        "outputId": "197a33d5-4d97-4d06-cee8-56b219395af5"
      },
      "execution_count": 33,
      "outputs": [
        {
          "output_type": "stream",
          "name": "stdout",
          "text": [
            "              precision    recall  f1-score   support\n",
            "\n",
            "           0       0.71      1.00      0.83     50376\n",
            "           1       0.93      0.00      0.01     20826\n",
            "\n",
            "    accuracy                           0.71     71202\n",
            "   macro avg       0.82      0.50      0.42     71202\n",
            "weighted avg       0.77      0.71      0.59     71202\n",
            "\n"
          ]
        }
      ]
    },
    {
      "cell_type": "markdown",
      "source": [
        "**Catboost : overfit detection**"
      ],
      "metadata": {
        "id": "TpG-BLCBvybk"
      }
    },
    {
      "cell_type": "code",
      "source": [
        "catboost = df.dropna()"
      ],
      "metadata": {
        "id": "QmfgW7o9uuTk"
      },
      "execution_count": 34,
      "outputs": []
    },
    {
      "cell_type": "code",
      "source": [
        "features = df.iloc[:, :-1]\n",
        "features = [feat for feat in list(catboost) if feat != 'Class']\n",
        "features\n",
        "card_categories = np.where(catboost[features].dtypes != np.float)[0]\n",
        "card_categories"
      ],
      "metadata": {
        "colab": {
          "base_uri": "https://localhost:8080/"
        },
        "id": "G9zPrXTxv7_G",
        "outputId": "633ba645-0bf0-4005-cbe3-92d482d31658"
      },
      "execution_count": 41,
      "outputs": [
        {
          "output_type": "stream",
          "name": "stderr",
          "text": [
            "/usr/local/lib/python3.7/dist-packages/ipykernel_launcher.py:4: DeprecationWarning: `np.float` is a deprecated alias for the builtin `float`. To silence this warning, use `float` by itself. Doing this will not modify any behavior and is safe. If you specifically wanted the numpy scalar type, use `np.float64` here.\n",
            "Deprecated in NumPy 1.20; for more details and guidance: https://numpy.org/devdocs/release/1.20.0-notes.html#deprecations\n",
            "  after removing the cwd from sys.path.\n"
          ]
        },
        {
          "output_type": "execute_result",
          "data": {
            "text/plain": [
              "array([], dtype=int64)"
            ]
          },
          "metadata": {},
          "execution_count": 41
        }
      ]
    },
    {
      "cell_type": "code",
      "source": [
        "!pip install catboost"
      ],
      "metadata": {
        "colab": {
          "base_uri": "https://localhost:8080/"
        },
        "id": "USmrxUcfxfkO",
        "outputId": "16c183e7-b32b-4741-eb5e-a13327267211"
      },
      "execution_count": 43,
      "outputs": [
        {
          "output_type": "stream",
          "name": "stdout",
          "text": [
            "Looking in indexes: https://pypi.org/simple, https://us-python.pkg.dev/colab-wheels/public/simple/\n",
            "Collecting catboost\n",
            "  Downloading catboost-1.0.6-cp37-none-manylinux1_x86_64.whl (76.6 MB)\n",
            "\u001b[K     |████████████████████████████████| 76.6 MB 88 kB/s \n",
            "\u001b[?25hRequirement already satisfied: six in /usr/local/lib/python3.7/dist-packages (from catboost) (1.15.0)\n",
            "Requirement already satisfied: numpy>=1.16.0 in /usr/local/lib/python3.7/dist-packages (from catboost) (1.21.6)\n",
            "Requirement already satisfied: scipy in /usr/local/lib/python3.7/dist-packages (from catboost) (1.7.3)\n",
            "Requirement already satisfied: pandas>=0.24.0 in /usr/local/lib/python3.7/dist-packages (from catboost) (1.3.5)\n",
            "Requirement already satisfied: plotly in /usr/local/lib/python3.7/dist-packages (from catboost) (5.5.0)\n",
            "Requirement already satisfied: matplotlib in /usr/local/lib/python3.7/dist-packages (from catboost) (3.2.2)\n",
            "Requirement already satisfied: graphviz in /usr/local/lib/python3.7/dist-packages (from catboost) (0.10.1)\n",
            "Requirement already satisfied: python-dateutil>=2.7.3 in /usr/local/lib/python3.7/dist-packages (from pandas>=0.24.0->catboost) (2.8.2)\n",
            "Requirement already satisfied: pytz>=2017.3 in /usr/local/lib/python3.7/dist-packages (from pandas>=0.24.0->catboost) (2022.1)\n",
            "Requirement already satisfied: cycler>=0.10 in /usr/local/lib/python3.7/dist-packages (from matplotlib->catboost) (0.11.0)\n",
            "Requirement already satisfied: pyparsing!=2.0.4,!=2.1.2,!=2.1.6,>=2.0.1 in /usr/local/lib/python3.7/dist-packages (from matplotlib->catboost) (3.0.9)\n",
            "Requirement already satisfied: kiwisolver>=1.0.1 in /usr/local/lib/python3.7/dist-packages (from matplotlib->catboost) (1.4.4)\n",
            "Requirement already satisfied: typing-extensions in /usr/local/lib/python3.7/dist-packages (from kiwisolver>=1.0.1->matplotlib->catboost) (4.1.1)\n",
            "Requirement already satisfied: tenacity>=6.2.0 in /usr/local/lib/python3.7/dist-packages (from plotly->catboost) (8.0.1)\n",
            "Installing collected packages: catboost\n",
            "Successfully installed catboost-1.0.6\n"
          ]
        }
      ]
    },
    {
      "cell_type": "code",
      "source": [
        "SEED = 1234\n",
        "\n",
        "from catboost import CatBoostClassifier\n",
        "\n",
        "params = {'iterations':5000,\n",
        "        'learning_rate':0.01, #use 0.01 - 0.08 to create a better model\n",
        "        'cat_features':card_categories,\n",
        "        'depth':3,\n",
        "        'eval_metric':'AUC',\n",
        "        'verbose':200,\n",
        "        'od_type':\"Iter\", # overfit detector\n",
        "        'od_wait':500, # most recent best iteration to wait before stopping\n",
        "        'random_seed': SEED\n",
        "          }\n",
        "\n",
        "cat_model = CatBoostClassifier(**params)\n",
        "cat_model.fit(X_train, y_train,   \n",
        "          eval_set=(X_test, y_test), \n",
        "          use_best_model=True, # True if we don't want to save trees created after iteration with the best validation score\n",
        "          plot=True  \n",
        "         );"
      ],
      "metadata": {
        "colab": {
          "base_uri": "https://localhost:8080/",
          "height": 235,
          "referenced_widgets": [
            "85160e6587a7405d9894a18aa2515906"
          ]
        },
        "id": "SAwHqAw7wC9O",
        "outputId": "b43305dc-9f9b-4707-d846-aee3246fdf23"
      },
      "execution_count": 45,
      "outputs": [
        {
          "output_type": "display_data",
          "data": {
            "text/plain": [
              "MetricVisualizer(layout=Layout(align_self='stretch', height='500px'))"
            ],
            "application/vnd.jupyter.widget-view+json": {
              "version_major": 2,
              "version_minor": 0,
              "model_id": "85160e6587a7405d9894a18aa2515906"
            }
          },
          "metadata": {}
        },
        {
          "output_type": "stream",
          "name": "stdout",
          "text": [
            "0:\ttest: 0.6654688\tbest: 0.6654688 (0)\ttotal: 189ms\tremaining: 15m 43s\n",
            "200:\ttest: 0.9492566\tbest: 0.9563222 (47)\ttotal: 22.5s\tremaining: 8m 57s\n",
            "400:\ttest: 0.9603373\tbest: 0.9603437 (399)\ttotal: 31.2s\tremaining: 5m 58s\n",
            "600:\ttest: 0.9654112\tbest: 0.9654678 (596)\ttotal: 40s\tremaining: 4m 52s\n",
            "800:\ttest: 0.9650542\tbest: 0.9664313 (690)\ttotal: 49s\tremaining: 4m 16s\n",
            "1000:\ttest: 0.9640951\tbest: 0.9664313 (690)\ttotal: 58.3s\tremaining: 3m 52s\n",
            "Stopped by overfitting detector  (500 iterations wait)\n",
            "\n",
            "bestTest = 0.9664313003\n",
            "bestIteration = 690\n",
            "\n",
            "Shrink model to first 691 iterations.\n"
          ]
        }
      ]
    },
    {
      "cell_type": "code",
      "source": [
        "!pip install ada-boost"
      ],
      "metadata": {
        "colab": {
          "base_uri": "https://localhost:8080/"
        },
        "id": "FxOWWqChxgwP",
        "outputId": "b4cdf1ce-1628-4b6a-944d-422a83ff5e58"
      },
      "execution_count": 46,
      "outputs": [
        {
          "output_type": "stream",
          "name": "stdout",
          "text": [
            "Looking in indexes: https://pypi.org/simple, https://us-python.pkg.dev/colab-wheels/public/simple/\n",
            "Collecting ada-boost\n",
            "  Downloading ada_boost-0.0.1-py3-none-any.whl (1.7 kB)\n",
            "Requirement already satisfied: pytz in /usr/local/lib/python3.7/dist-packages (from ada-boost) (2022.1)\n",
            "Installing collected packages: ada-boost\n",
            "Successfully installed ada-boost-0.0.1\n"
          ]
        }
      ]
    },
    {
      "cell_type": "code",
      "source": [
        "RANDOM_STATE = 2018\n",
        "NUM_ESTIMATORS = 100\n",
        "target = 'Class'\n",
        "predictors = ['Time', 'V1', 'V2', 'V3', 'V4', 'V5', 'V6', 'V7', 'V8', 'V9', 'V10',\\\n",
        "       'V11', 'V12', 'V13', 'V14', 'V15', 'V16', 'V17', 'V18', 'V19',\\\n",
        "       'V20', 'V21', 'V22', 'V23', 'V24', 'V25', 'V26', 'V27', 'V28',\\\n",
        "       'Amount']"
      ],
      "metadata": {
        "id": "ahfCiV_O0BAm"
      },
      "execution_count": 47,
      "outputs": []
    },
    {
      "cell_type": "code",
      "source": [
        "from sklearn.ensemble import AdaBoostClassifier\n",
        "clf = AdaBoostClassifier(random_state=RANDOM_STATE,\n",
        "                         algorithm='SAMME.R',\n",
        "                         learning_rate=0.8,\n",
        "                             n_estimators=NUM_ESTIMATORS)"
      ],
      "metadata": {
        "id": "STY2Mj6Z0GIR"
      },
      "execution_count": 48,
      "outputs": []
    },
    {
      "cell_type": "code",
      "source": [
        "clf.fit(df[predictors],df['Class'].values)"
      ],
      "metadata": {
        "colab": {
          "base_uri": "https://localhost:8080/"
        },
        "id": "gvEkizIi0KVs",
        "outputId": "f4ccd78d-487b-4b74-fd3a-72f87da114c5"
      },
      "execution_count": 49,
      "outputs": [
        {
          "output_type": "execute_result",
          "data": {
            "text/plain": [
              "AdaBoostClassifier(learning_rate=0.8, n_estimators=100, random_state=2018)"
            ]
          },
          "metadata": {},
          "execution_count": 49
        }
      ]
    },
    {
      "cell_type": "code",
      "source": [
        "y_pred = clf.predict(df[predictors])"
      ],
      "metadata": {
        "id": "oNkYfCgQ0PZB"
      },
      "execution_count": 50,
      "outputs": []
    },
    {
      "cell_type": "code",
      "source": [
        "cm = pd.crosstab(df[target].values, y_pred, rownames=['Actual'], colnames=['Predicted'])\n",
        "fig, (ax1) = plt.subplots(ncols=1, figsize=(5,5))\n",
        "sns.heatmap(cm, \n",
        "            xticklabels=['Not Fraud', 'Fraud'],\n",
        "            yticklabels=['Not Fraud', 'Fraud'],\n",
        "            annot=True,ax=ax1,\n",
        "            linewidths=.2,linecolor=\"Darkblue\", cmap=\"Blues\")\n",
        "plt.title('Confusion Matrix', fontsize=8)\n",
        "plt.show()"
      ],
      "metadata": {
        "colab": {
          "base_uri": "https://localhost:8080/",
          "height": 347
        },
        "id": "sw-de_ih0-xk",
        "outputId": "77dacfe4-7466-46c7-b643-98804de97e58"
      },
      "execution_count": 51,
      "outputs": [
        {
          "output_type": "display_data",
          "data": {
            "text/plain": [
              "<Figure size 360x360 with 2 Axes>"
            ],
            "image/png": "[encoded data removed]"
          },
          "metadata": {
            "needs_background": "light"
          }
        }
      ]
    },
    {
      "cell_type": "code",
      "source": [
        "import seaborn as sns\n",
        "import matplotlib.pyplot as plt"
      ],
      "metadata": {
        "id": "GCdNNrLU0_Rp"
      },
      "execution_count": 52,
      "outputs": []
    },
    {
      "cell_type": "code",
      "source": [
        "y_pred = cat_model.predict(X_test)"
      ],
      "metadata": {
        "id": "yftmCNfU1QQd"
      },
      "execution_count": 53,
      "outputs": []
    },
    {
      "cell_type": "code",
      "source": [
        "# confusion Matrix\n",
        "cm=confusion_matrix(y_test,y_pred)\n",
        "conf_matrix=pd.DataFrame(data=cm,columns=['Predicted:0','Predicted:1'],index=['Actual:0','Actual:1'])\n",
        "plt.figure(figsize = (8,5))\n",
        "sns.heatmap(conf_matrix, annot=True,fmt='d',cmap=\"YlGnBu\");"
      ],
      "metadata": {
        "colab": {
          "base_uri": "https://localhost:8080/",
          "height": 320
        },
        "id": "gM7EsXPe1Uvb",
        "outputId": "e62eaee7-c2c1-4771-975b-6b1525a159b6"
      },
      "execution_count": 54,
      "outputs": [
        {
          "output_type": "display_data",
          "data": {
            "text/plain": [
              "<Figure size 576x360 with 2 Axes>"
            ],
            "image/png": "[encoded data removed]"
          },
          "metadata": {
            "needs_background": "light"
          }
        }
      ]
    },
    {
      "cell_type": "markdown",
      "source": [
        "**SMOTE Analysis**"
      ],
      "metadata": {
        "id": "A8O9WaGL1d3_"
      }
    },
    {
      "cell_type": "code",
      "source": [
        "!pip install imblearn"
      ],
      "metadata": {
        "colab": {
          "base_uri": "https://localhost:8080/"
        },
        "id": "oWi7ixxa1W0S",
        "outputId": "381ddd1e-9470-4504-a4db-66d0e48b5e16"
      },
      "execution_count": 55,
      "outputs": [
        {
          "output_type": "stream",
          "name": "stdout",
          "text": [
            "Looking in indexes: https://pypi.org/simple, https://us-python.pkg.dev/colab-wheels/public/simple/\n",
            "Requirement already satisfied: imblearn in /usr/local/lib/python3.7/dist-packages (0.0)\n",
            "Requirement already satisfied: imbalanced-learn in /usr/local/lib/python3.7/dist-packages (from imblearn) (0.8.1)\n",
            "Requirement already satisfied: scikit-learn>=0.24 in /usr/local/lib/python3.7/dist-packages (from imbalanced-learn->imblearn) (1.0.2)\n",
            "Requirement already satisfied: numpy>=1.13.3 in /usr/local/lib/python3.7/dist-packages (from imbalanced-learn->imblearn) (1.21.6)\n",
            "Requirement already satisfied: scipy>=0.19.1 in /usr/local/lib/python3.7/dist-packages (from imbalanced-learn->imblearn) (1.7.3)\n",
            "Requirement already satisfied: joblib>=0.11 in /usr/local/lib/python3.7/dist-packages (from imbalanced-learn->imblearn) (1.1.0)\n",
            "Requirement already satisfied: threadpoolctl>=2.0.0 in /usr/local/lib/python3.7/dist-packages (from scikit-learn>=0.24->imbalanced-learn->imblearn) (3.1.0)\n"
          ]
        }
      ]
    },
    {
      "cell_type": "code",
      "source": [
        "from imblearn.combine import SMOTETomek"
      ],
      "metadata": {
        "id": "pNN6PKov1h3N"
      },
      "execution_count": 56,
      "outputs": []
    },
    {
      "cell_type": "code",
      "source": [
        "os=SMOTETomek(random_state=42)\n",
        "X_train_ns,y_train_ns=os.fit_resample(X_train,y_train)\n",
        "print(\"The number of classes before fit {}\".format(Counter(y_train)))\n",
        "print(\"The number of classes after fit {}\".format(Counter(y_train_ns)))"
      ],
      "metadata": {
        "id": "xykXxbgb1j-C"
      },
      "execution_count": null,
      "outputs": []
    },
    {
      "cell_type": "code",
      "source": [
        "from sklearn.ensemble import RandomForestClassifier\n",
        "classifier=RandomForestClassifier()\n",
        "classifier.fit(X_train_ns,y_train_ns)"
      ],
      "metadata": {
        "id": "qHbSfZuO1mr1"
      },
      "execution_count": null,
      "outputs": []
    },
    {
      "cell_type": "code",
      "source": [
        "y_pred=classifier.predict(X_test)"
      ],
      "metadata": {
        "id": "eyHua4tl186G"
      },
      "execution_count": null,
      "outputs": []
    },
    {
      "cell_type": "code",
      "source": [
        "# confusion Matrix\n",
        "cm=confusion_matrix(y_test,y_pred)\n",
        "conf_matrix=pd.DataFrame(data=cm,columns=['Predicted:0','Predicted:1'],index=['Actual:0','Actual:1'])\n",
        "plt.figure(figsize = (8,5))\n",
        "sns.heatmap(conf_matrix, annot=True,fmt='d',cmap=\"YlGnBu\");"
      ],
      "metadata": {
        "id": "xB6-Fe5X1_aX"
      },
      "execution_count": null,
      "outputs": []
    },
    {
      "cell_type": "code",
      "source": [
        "print(accuracy_score(y_test,y_pred))"
      ],
      "metadata": {
        "id": "4k8gkiWW2AyY"
      },
      "execution_count": null,
      "outputs": []
    },
    {
      "cell_type": "code",
      "source": [
        "print(classification_report(y_test,y_pred))"
      ],
      "metadata": {
        "id": "8r5w9kUw2CKl"
      },
      "execution_count": null,
      "outputs": []
    }
  ]
}